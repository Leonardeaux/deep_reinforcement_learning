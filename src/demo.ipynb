{
 "cells": [
  {
   "cell_type": "code",
   "execution_count": 1,
   "metadata": {},
   "outputs": [
    {
     "name": "stdout",
     "output_type": "stream",
     "text": [
      "pygame 2.5.2 (SDL 2.28.3, Python 3.10.13)\n",
      "Hello from the pygame community. https://www.pygame.org/contribute.html\n"
     ]
    }
   ],
   "source": [
    "import numpy as np\n",
    "import matplotlib.pyplot as plt\n",
    "from envs.line_world import LineWorldEnv\n",
    "from envs.grid_world import GridWorldEnv\n",
    "from envs.tic_tac_toe import TicTacToeEnv\n",
    "from envs.cant_stop_v2 import CantStopEnv\n",
    "# from src.envs.balloon_pop import BalloonPopEnv"
   ]
  },
  {
   "cell_type": "code",
   "outputs": [],
   "source": [
    "np.random.seed(42)"
   ],
   "metadata": {
    "collapsed": false
   }
  },
  {
   "cell_type": "markdown",
   "metadata": {},
   "source": [
    "Tabular Q Learning"
   ]
  },
  {
   "cell_type": "code",
   "execution_count": 2,
   "metadata": {},
   "outputs": [],
   "source": [
    "from agents.q_learning import QLearningAgent "
   ]
  },
  {
   "cell_type": "markdown",
   "metadata": {},
   "source": [
    "Grid World"
   ]
  },
  {
   "cell_type": "code",
   "execution_count": 5,
   "metadata": {},
   "outputs": [
    {
     "name": "stderr",
     "output_type": "stream",
     "text": [
      "100%|██████████| 1000/1000 [00:02<00:00, 461.19it/s]\n"
     ]
    },
    {
     "name": "stdout",
     "output_type": "stream",
     "text": [
      "Mean reward:  0.918\n"
     ]
    }
   ],
   "source": [
    "grid_world = GridWorldEnv(size=5)\n",
    "\n",
    "agent = QLearningAgent(env=grid_world, alpha=0.3, gamma=0.99, epsilon=0.1, episodes=1000)\n",
    "agent.train()\n",
    "rewards = []    \n",
    "\n",
    "for i in range(1000):\n",
    "    agent.test(is_headless=True)\n",
    "    rewards.append(agent.env.get_score())\n",
    "\n",
    "print('Mean reward: ', np.mean(rewards))"
   ]
  },
  {
   "cell_type": "markdown",
   "metadata": {},
   "source": [
    "Tic Tac Toe"
   ]
  },
  {
   "cell_type": "code",
   "execution_count": 6,
   "metadata": {},
   "outputs": [
    {
     "name": "stderr",
     "output_type": "stream",
     "text": [
      "100%|██████████| 10000/10000 [00:06<00:00, 1530.19it/s]\n"
     ]
    },
    {
     "name": "stdout",
     "output_type": "stream",
     "text": [
      "Mean reward:  0.915\n"
     ]
    }
   ],
   "source": [
    "tic_tac_toe = TicTacToeEnv()\n",
    "\n",
    "agent = QLearningAgent(env=tic_tac_toe, alpha=0.1, gamma=0.99, epsilon=0.1, episodes=10000)\n",
    "agent.train()\n",
    "\n",
    "rewards = []    \n",
    "\n",
    "for i in range(1000):\n",
    "    agent.test(is_headless=True)\n",
    "    rewards.append(agent.env.get_score())\n",
    "\n",
    "print('Mean reward: ', np.mean(rewards))"
   ]
  },
  {
   "cell_type": "markdown",
   "source": [
    "Random Rollout"
   ],
   "metadata": {
    "collapsed": false
   }
  },
  {
   "cell_type": "code",
   "outputs": [],
   "source": [
    "from src.agents.random_rollout import RandomRolloutAgent"
   ],
   "metadata": {
    "collapsed": false
   }
  },
  {
   "cell_type": "markdown",
   "source": [
    "Line World"
   ],
   "metadata": {
    "collapsed": false
   }
  },
  {
   "cell_type": "code",
   "outputs": [],
   "source": [
    "#TODO: Debug environment\n",
    "line_world = LineWorldEnv(size=5)\n",
    "\n",
    "agent = RandomRolloutAgent(line_world, episodes=50, max_depth=25)\n",
    "agent.train()"
   ],
   "metadata": {
    "collapsed": false
   }
  },
  {
   "cell_type": "markdown",
   "source": [
    "Grid World"
   ],
   "metadata": {
    "collapsed": false
   }
  },
  {
   "cell_type": "code",
   "outputs": [],
   "source": [
    "grid_world = GridWorldEnv(size=5)\n",
    "\n",
    "agent = RandomRolloutAgent(grid_world, episodes=50, max_depth=25)\n",
    "agent.train()"
   ],
   "metadata": {
    "collapsed": false
   }
  },
  {
   "cell_type": "markdown",
   "source": [
    "Tic Tac Toe"
   ],
   "metadata": {
    "collapsed": false
   }
  },
  {
   "cell_type": "code",
   "outputs": [],
   "source": [
    "tic_tac_toe = TicTacToeEnv()\n",
    "\n",
    "agent = RandomRolloutAgent(tic_tac_toe, episodes=500, max_depth=20)\n",
    "agent.train()"
   ],
   "metadata": {
    "collapsed": false
   }
  },
  {
   "cell_type": "markdown",
   "source": [
    "MCTS (Monte Carlo Three Search)"
   ],
   "metadata": {
    "collapsed": false
   }
  },
  {
   "cell_type": "code",
   "outputs": [],
   "source": [
    "from src.agents.mcts import MCTSAgent"
   ],
   "metadata": {
    "collapsed": false,
    "ExecuteTime": {
     "end_time": "2024-02-09T09:14:25.325328600Z",
     "start_time": "2024-02-09T09:14:24.633868Z"
    }
   },
   "execution_count": 1
  },
  {
   "cell_type": "markdown",
   "source": [
    "Line World"
   ],
   "metadata": {
    "collapsed": false
   }
  },
  {
   "cell_type": "code",
   "outputs": [],
   "source": [
    "#TODO: Debug environment\n",
    "line_world = LineWorldEnv(size=5)\n",
    "\n",
    "agent = MCTSAgent(line_world, episodes=50, max_depth=25)\n",
    "agent.train()"
   ],
   "metadata": {
    "collapsed": false
   }
  },
  {
   "cell_type": "markdown",
   "source": [
    "Grid World"
   ],
   "metadata": {
    "collapsed": false
   }
  },
  {
   "cell_type": "code",
   "outputs": [],
   "source": [
    "grid_world = GridWorldEnv(size=5)\n",
    "\n",
    "agent = MCTSAgent(grid_world, episodes=50, max_depth=25)\n",
    "agent.train()"
   ],
   "metadata": {
    "collapsed": false
   }
  },
  {
   "cell_type": "markdown",
   "source": [
    "Tic Tac Toe"
   ],
   "metadata": {
    "collapsed": false
   }
  },
  {
   "cell_type": "code",
   "outputs": [],
   "source": [
    "tic_tac_toe = TicTacToeEnv()\n",
    "\n",
    "agent = MCTSAgent(tic_tac_toe, episodes=500, max_depth=20)\n",
    "agent.train()"
   ],
   "metadata": {
    "collapsed": false
   }
  }
 ],
 "metadata": {
  "kernelspec": {
   "display_name": "drl_env",
   "language": "python",
   "name": "python3"
  },
  "language_info": {
   "codemirror_mode": {
    "name": "ipython",
    "version": 3
   },
   "file_extension": ".py",
   "mimetype": "text/x-python",
   "name": "python",
   "nbconvert_exporter": "python",
   "pygments_lexer": "ipython3",
   "version": "3.10.13"
  }
 },
 "nbformat": 4,
 "nbformat_minor": 2
}

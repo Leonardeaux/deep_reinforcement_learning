{
 "cells": [
  {
   "cell_type": "code",
   "execution_count": null,
   "id": "initial_id",
   "metadata": {
    "collapsed": true
   },
   "outputs": [],
   "source": [
    "import tensorflow as tf\n",
    "import numpy as np\n",
    "from envs.tic_tac_toe import TicTacToeEnv"
   ]
  },
  {
   "cell_type": "code",
   "outputs": [],
   "source": [
    "from agents.q_learning import QLearningAgent"
   ],
   "metadata": {
    "collapsed": false
   },
   "id": "b0eaeaa710a0595a",
   "execution_count": null
  },
  {
   "cell_type": "code",
   "outputs": [],
   "source": [
    "tf.config.set_visible_devices([], 'GPU')\n",
    "np.random.seed(42)"
   ],
   "metadata": {
    "collapsed": false
   },
   "id": "26173442e59e4f07",
   "execution_count": null
  },
  {
   "cell_type": "code",
   "outputs": [],
   "source": [
    "env = TicTacToeEnv()\n",
    "episodes = 500"
   ],
   "metadata": {
    "collapsed": false
   },
   "id": "df27d5b1a747dd62",
   "execution_count": null
  },
  {
   "cell_type": "code",
   "outputs": [],
   "source": [
    "agent = QLearningAgent(env, episodes=episodes, alpha=0.1, gamma=0.99, epsilon=0.1)"
   ],
   "metadata": {
    "collapsed": false
   },
   "id": "982736bf09e7b108",
   "execution_count": null
  },
  {
   "cell_type": "code",
   "outputs": [],
   "source": [
    "agent.train()"
   ],
   "metadata": {
    "collapsed": false
   },
   "id": "e4f5ce2c71ef6361",
   "execution_count": null
  },
  {
   "cell_type": "code",
   "outputs": [],
   "source": [
    "agent.test()"
   ],
   "metadata": {
    "collapsed": false
   },
   "id": "a474db92b8c39304",
   "execution_count": null
  },
  {
   "cell_type": "code",
   "outputs": [],
   "source": [
    "from agents.deep_q_learning import DeepQLearningAgent"
   ],
   "metadata": {
    "collapsed": false
   },
   "id": "5b1f4b3952ac1ed4",
   "execution_count": null
  },
  {
   "cell_type": "code",
   "outputs": [],
   "source": [
    "agent = DeepQLearningAgent(env, episodes=episodes, learning_rate=0.001)"
   ],
   "metadata": {
    "collapsed": false
   },
   "id": "64dcd69776e4a3b2",
   "execution_count": null
  },
  {
   "cell_type": "code",
   "outputs": [],
   "source": [
    "agent.train()"
   ],
   "metadata": {
    "collapsed": false
   },
   "id": "8302de1f48410687",
   "execution_count": null
  },
  {
   "cell_type": "code",
   "outputs": [],
   "source": [
    "agent.test()"
   ],
   "metadata": {
    "collapsed": false
   },
   "id": "86df36d883c0ee08",
   "execution_count": null
  },
  {
   "cell_type": "code",
   "outputs": [],
   "source": [
    "from agents.double_deep_q_learning import DoubleDeepQLearningAgent"
   ],
   "metadata": {
    "collapsed": false
   },
   "id": "6c4bb78acfb53a7e",
   "execution_count": null
  },
  {
   "cell_type": "code",
   "outputs": [],
   "source": [
    "agent = DoubleDeepQLearningAgent(env, episodes=episodes, learning_rate=0.001)"
   ],
   "metadata": {
    "collapsed": false
   },
   "id": "11316ddb66951513"
  },
  {
   "cell_type": "code",
   "outputs": [],
   "source": [
    "agent.train()"
   ],
   "metadata": {
    "collapsed": false
   },
   "id": "5532864a853b3dea"
  },
  {
   "cell_type": "code",
   "outputs": [],
   "source": [
    "agent.test()"
   ],
   "metadata": {
    "collapsed": false
   },
   "id": "d467db48c4e35354"
  },
  {
   "cell_type": "code",
   "outputs": [],
   "source": [
    "from agents.double_deep_q_learning_with_experience_replay import DoubleDeepQLearningAgentER"
   ],
   "metadata": {
    "collapsed": false
   },
   "id": "c8c4088d92fe71ef"
  },
  {
   "cell_type": "code",
   "outputs": [],
   "source": [
    "agent = DoubleDeepQLearningAgentER(env, episodes=episodes, learning_rate=0.001)"
   ],
   "metadata": {
    "collapsed": false
   },
   "id": "efdf9a61af193ae0"
  },
  {
   "cell_type": "code",
   "outputs": [],
   "source": [
    "agent.train()"
   ],
   "metadata": {
    "collapsed": false
   },
   "id": "bb1f3f31de061161"
  },
  {
   "cell_type": "code",
   "outputs": [],
   "source": [
    "agent.test()"
   ],
   "metadata": {
    "collapsed": false
   },
   "id": "65126986c259495e"
  },
  {
   "cell_type": "code",
   "outputs": [],
   "source": [
    "from agents.random_rollout import RandomRolloutAgent"
   ],
   "metadata": {
    "collapsed": false
   },
   "id": "87e7b8ba8a04f4cd"
  },
  {
   "cell_type": "code",
   "outputs": [],
   "source": [
    "agent = RandomRolloutAgent(env, episodes=episodes)"
   ],
   "metadata": {
    "collapsed": false
   },
   "id": "a4a4b30cf59e2ed"
  },
  {
   "cell_type": "code",
   "outputs": [],
   "source": [
    "agent.train()"
   ],
   "metadata": {
    "collapsed": false
   },
   "id": "785345ae08bdde30"
  },
  {
   "cell_type": "code",
   "outputs": [],
   "source": [
    "from agents.mcts import MCTSAgent"
   ],
   "metadata": {
    "collapsed": false
   },
   "id": "bebe582b012d1e41"
  },
  {
   "cell_type": "code",
   "outputs": [],
   "source": [
    "agent = MCTSAgent(env, episodes=episodes)"
   ],
   "metadata": {
    "collapsed": false
   },
   "id": "3ea74c7e83c069e7"
  },
  {
   "cell_type": "code",
   "outputs": [],
   "source": [
    "agent.train()"
   ],
   "metadata": {
    "collapsed": false
   },
   "id": "4d41f6f96472979d"
  }
 ],
 "metadata": {
  "kernelspec": {
   "display_name": "Python 3",
   "language": "python",
   "name": "python3"
  },
  "language_info": {
   "codemirror_mode": {
    "name": "ipython",
    "version": 2
   },
   "file_extension": ".py",
   "mimetype": "text/x-python",
   "name": "python",
   "nbconvert_exporter": "python",
   "pygments_lexer": "ipython2",
   "version": "2.7.6"
  }
 },
 "nbformat": 4,
 "nbformat_minor": 5
}

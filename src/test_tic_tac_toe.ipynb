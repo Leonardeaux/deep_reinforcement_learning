{
 "cells": [
  {
   "cell_type": "code",
   "execution_count": 11,
   "id": "initial_id",
   "metadata": {
    "collapsed": true,
    "ExecuteTime": {
     "end_time": "2024-02-15T18:40:39.960000200Z",
     "start_time": "2024-02-15T18:40:39.952967Z"
    }
   },
   "outputs": [],
   "source": [
    "import tensorflow as tf\n",
    "import numpy as np\n",
    "from envs.tic_tac_toe import TicTacToeEnv"
   ]
  },
  {
   "cell_type": "code",
   "outputs": [],
   "source": [
    "from agents.q_learning import QLearningAgent"
   ],
   "metadata": {
    "collapsed": false,
    "ExecuteTime": {
     "end_time": "2024-02-15T18:40:39.983653700Z",
     "start_time": "2024-02-15T18:40:39.959000200Z"
    }
   },
   "id": "b0eaeaa710a0595a",
   "execution_count": 12
  },
  {
   "cell_type": "code",
   "outputs": [],
   "source": [
    "tf.config.set_visible_devices([], 'GPU')\n",
    "np.random.seed(42)"
   ],
   "metadata": {
    "collapsed": false,
    "ExecuteTime": {
     "end_time": "2024-02-15T18:40:39.988156900Z",
     "start_time": "2024-02-15T18:40:39.974536900Z"
    }
   },
   "id": "26173442e59e4f07",
   "execution_count": 13
  },
  {
   "cell_type": "code",
   "outputs": [],
   "source": [
    "env = TicTacToeEnv()\n",
    "episodes = 500"
   ],
   "metadata": {
    "collapsed": false,
    "ExecuteTime": {
     "end_time": "2024-02-15T18:40:40.005870200Z",
     "start_time": "2024-02-15T18:40:39.990695700Z"
    }
   },
   "id": "df27d5b1a747dd62",
   "execution_count": 14
  },
  {
   "cell_type": "code",
   "outputs": [],
   "source": [
    "agent = QLearningAgent(env, episodes=episodes, alpha=0.1, gamma=0.99, epsilon=0.1)"
   ],
   "metadata": {
    "collapsed": false,
    "ExecuteTime": {
     "end_time": "2024-02-15T18:40:40.019145100Z",
     "start_time": "2024-02-15T18:40:40.005870200Z"
    }
   },
   "id": "982736bf09e7b108",
   "execution_count": 15
  },
  {
   "cell_type": "code",
   "outputs": [
    {
     "name": "stderr",
     "output_type": "stream",
     "text": [
      " 27%|██▋       | 136/500 [00:00<00:00, 1349.39it/s]"
     ]
    },
    {
     "name": "stdout",
     "output_type": "stream",
     "text": [
      "Episode 1/500, score: 1\n",
      "Episode 2/500, score: -1\n",
      "Episode 3/500, score: 1\n",
      "Episode 4/500, score: 0.5\n",
      "Episode 5/500, score: -1\n",
      "Episode 6/500, score: 0.5\n",
      "Episode 7/500, score: 1\n",
      "Episode 8/500, score: 1\n",
      "Episode 9/500, score: 1\n",
      "Episode 10/500, score: 1\n",
      "Episode 11/500, score: -1\n",
      "Episode 12/500, score: 1\n",
      "Episode 13/500, score: 1\n",
      "Episode 14/500, score: 1\n",
      "Episode 15/500, score: 1\n",
      "Episode 16/500, score: -1\n",
      "Episode 17/500, score: 0.5\n",
      "Episode 18/500, score: 1\n",
      "Episode 19/500, score: 1\n",
      "Episode 20/500, score: 1\n",
      "Episode 21/500, score: 1\n",
      "Episode 22/500, score: 1\n",
      "Episode 23/500, score: -1\n",
      "Episode 24/500, score: -1\n",
      "Episode 25/500, score: 1\n",
      "Episode 26/500, score: 1\n",
      "Episode 27/500, score: 0.5\n",
      "Episode 28/500, score: 1\n",
      "Episode 29/500, score: 1\n",
      "Episode 30/500, score: 1\n",
      "Episode 31/500, score: 1\n",
      "Episode 32/500, score: 1\n",
      "Episode 33/500, score: -1\n",
      "Episode 34/500, score: -1\n",
      "Episode 35/500, score: -1\n",
      "Episode 36/500, score: 1\n",
      "Episode 37/500, score: -1\n",
      "Episode 38/500, score: 0.5\n",
      "Episode 39/500, score: 1\n",
      "Episode 40/500, score: 1\n",
      "Episode 41/500, score: 1\n",
      "Episode 42/500, score: 1\n",
      "Episode 43/500, score: 0.5\n",
      "Episode 44/500, score: 1\n",
      "Episode 45/500, score: 1\n",
      "Episode 46/500, score: 1\n",
      "Episode 47/500, score: 1\n",
      "Episode 48/500, score: 1\n",
      "Episode 49/500, score: 1\n",
      "Episode 50/500, score: -1\n",
      "Episode 51/500, score: 1\n",
      "Episode 52/500, score: 1\n",
      "Episode 53/500, score: 1\n",
      "Episode 54/500, score: 1\n",
      "Episode 55/500, score: 1\n",
      "Episode 56/500, score: 1\n",
      "Episode 57/500, score: 1\n",
      "Episode 58/500, score: 1\n",
      "Episode 59/500, score: 1\n",
      "Episode 60/500, score: 1\n",
      "Episode 61/500, score: 1\n",
      "Episode 62/500, score: 1\n",
      "Episode 63/500, score: 1\n",
      "Episode 64/500, score: -1\n",
      "Episode 65/500, score: 1\n",
      "Episode 66/500, score: 1\n",
      "Episode 67/500, score: 1\n",
      "Episode 68/500, score: 1\n",
      "Episode 69/500, score: 1\n",
      "Episode 70/500, score: 1\n",
      "Episode 71/500, score: 1\n",
      "Episode 72/500, score: 1\n",
      "Episode 73/500, score: -1\n",
      "Episode 74/500, score: 0.5\n",
      "Episode 75/500, score: -1\n",
      "Episode 76/500, score: 1\n",
      "Episode 77/500, score: 1\n",
      "Episode 78/500, score: 1\n",
      "Episode 79/500, score: 1\n",
      "Episode 80/500, score: 0.5\n",
      "Episode 81/500, score: -1\n",
      "Episode 82/500, score: 1\n",
      "Episode 83/500, score: 1\n",
      "Episode 84/500, score: 1\n",
      "Episode 85/500, score: 1\n",
      "Episode 86/500, score: 1\n",
      "Episode 87/500, score: 1\n",
      "Episode 88/500, score: 1\n",
      "Episode 89/500, score: 1\n",
      "Episode 90/500, score: 1\n",
      "Episode 91/500, score: -1\n",
      "Episode 92/500, score: -1\n",
      "Episode 93/500, score: 1\n",
      "Episode 94/500, score: 0.5\n",
      "Episode 95/500, score: 1\n",
      "Episode 96/500, score: 1\n",
      "Episode 97/500, score: -1\n",
      "Episode 98/500, score: 1\n",
      "Episode 99/500, score: 0.5\n",
      "Episode 100/500, score: -1\n",
      "Episode 101/500, score: 1\n",
      "Episode 102/500, score: 1\n",
      "Episode 103/500, score: 1\n",
      "Episode 104/500, score: 1\n",
      "Episode 105/500, score: 1\n",
      "Episode 106/500, score: 1\n",
      "Episode 107/500, score: 1\n",
      "Episode 108/500, score: 1\n",
      "Episode 109/500, score: 1\n",
      "Episode 110/500, score: 1\n",
      "Episode 111/500, score: -1\n",
      "Episode 112/500, score: 1\n",
      "Episode 113/500, score: 1\n",
      "Episode 114/500, score: 1\n",
      "Episode 115/500, score: 1\n",
      "Episode 116/500, score: 1\n",
      "Episode 117/500, score: 1\n",
      "Episode 118/500, score: 1\n",
      "Episode 119/500, score: 1\n",
      "Episode 120/500, score: 1\n",
      "Episode 121/500, score: 1\n",
      "Episode 122/500, score: 1\n",
      "Episode 123/500, score: 1\n",
      "Episode 124/500, score: 0.5\n",
      "Episode 125/500, score: 1\n",
      "Episode 126/500, score: 0.5\n",
      "Episode 127/500, score: 1\n",
      "Episode 128/500, score: 1\n",
      "Episode 129/500, score: 0.5\n",
      "Episode 130/500, score: 1\n",
      "Episode 131/500, score: 1\n",
      "Episode 132/500, score: 1\n",
      "Episode 133/500, score: 1\n",
      "Episode 134/500, score: 1\n",
      "Episode 135/500, score: 0.5\n",
      "Episode 136/500, score: 1\n",
      "Episode 137/500, score: 1\n",
      "Episode 138/500, score: 1\n",
      "Episode 139/500, score: 1\n",
      "Episode 140/500, score: -1\n",
      "Episode 141/500, score: 1\n",
      "Episode 142/500, score: 1\n",
      "Episode 143/500, score: 1\n",
      "Episode 144/500, score: 1\n",
      "Episode 145/500, score: 1\n",
      "Episode 146/500, score: 1\n",
      "Episode 147/500, score: 1\n",
      "Episode 148/500, score: 1\n",
      "Episode 149/500, score: -1\n",
      "Episode 150/500, score: -1\n",
      "Episode 151/500, score: 1\n",
      "Episode 152/500, score: 1\n",
      "Episode 153/500, score: 1\n",
      "Episode 154/500, score: 0.5\n",
      "Episode 155/500, score: -1\n",
      "Episode 156/500, score: -1\n",
      "Episode 157/500, score: 1\n",
      "Episode 158/500, score: 1\n",
      "Episode 159/500, score: 1\n",
      "Episode 160/500, score: 0.5\n",
      "Episode 161/500, score: 1\n",
      "Episode 162/500, score: 1\n",
      "Episode 163/500, score: 1\n",
      "Episode 164/500, score: 1\n",
      "Episode 165/500, score: 1\n",
      "Episode 166/500, score: 1\n",
      "Episode 167/500, score: 1\n",
      "Episode 168/500, score: 1\n",
      "Episode 169/500, score: 1\n",
      "Episode 170/500, score: -1\n",
      "Episode 171/500, score: 1\n",
      "Episode 172/500, score: 1\n",
      "Episode 173/500, score: 1\n",
      "Episode 174/500, score: 1\n",
      "Episode 175/500, score: 1\n",
      "Episode 176/500, score: 1\n",
      "Episode 177/500, score: 1\n",
      "Episode 178/500, score: 1\n",
      "Episode 179/500, score: -1\n",
      "Episode 180/500, score: 0.5\n",
      "Episode 181/500, score: 1\n",
      "Episode 182/500, score: 1\n",
      "Episode 183/500, score: 1\n",
      "Episode 184/500, score: -1\n",
      "Episode 185/500, score: 0.5\n",
      "Episode 186/500, score: 1\n",
      "Episode 187/500, score: 1\n",
      "Episode 188/500, score: 1\n",
      "Episode 189/500, score: -1\n",
      "Episode 190/500, score: 1\n",
      "Episode 191/500, score: -1\n",
      "Episode 192/500, score: 1\n",
      "Episode 193/500, score: 1\n",
      "Episode 194/500, score: 1\n",
      "Episode 195/500, score: 1\n",
      "Episode 196/500, score: 0.5\n",
      "Episode 197/500, score: 1\n",
      "Episode 198/500, score: -1\n",
      "Episode 199/500, score: 1\n",
      "Episode 200/500, score: 1\n",
      "Episode 201/500, score: -1\n",
      "Episode 202/500, score: 1\n",
      "Episode 203/500, score: 1\n",
      "Episode 204/500, score: 1\n",
      "Episode 205/500, score: 1\n",
      "Episode 206/500, score: 1\n",
      "Episode 207/500, score: 0.5\n",
      "Episode 208/500, score: 1\n",
      "Episode 209/500, score: 1\n",
      "Episode 210/500, score: 1\n",
      "Episode 211/500, score: -1\n",
      "Episode 212/500, score: 1\n",
      "Episode 213/500, score: 1\n",
      "Episode 214/500, score: 1\n",
      "Episode 215/500, score: 1\n",
      "Episode 216/500, score: 1\n",
      "Episode 217/500, score: 1\n",
      "Episode 218/500, score: 1\n",
      "Episode 219/500, score: -1\n",
      "Episode 220/500, score: 1\n",
      "Episode 221/500, score: 1\n",
      "Episode 222/500, score: 1\n",
      "Episode 223/500, score: 1\n",
      "Episode 224/500, score: 1\n",
      "Episode 225/500, score: 1\n",
      "Episode 226/500, score: 1\n",
      "Episode 227/500, score: 1\n",
      "Episode 228/500, score: 1\n",
      "Episode 229/500, score: 1\n",
      "Episode 230/500, score: 1\n",
      "Episode 231/500, score: 1\n",
      "Episode 232/500, score: 1\n",
      "Episode 233/500, score: 1\n",
      "Episode 234/500, score: 1\n",
      "Episode 235/500, score: 1\n",
      "Episode 236/500, score: 1\n",
      "Episode 237/500, score: 1\n",
      "Episode 238/500, score: 1\n",
      "Episode 239/500, score: 1\n",
      "Episode 240/500, score: 1\n",
      "Episode 241/500, score: 1\n",
      "Episode 242/500, score: 1\n",
      "Episode 243/500, score: 1\n",
      "Episode 244/500, score: 1\n",
      "Episode 245/500, score: 1\n",
      "Episode 246/500, score: 1\n",
      "Episode 247/500, score: 1\n",
      "Episode 248/500, score: 1\n",
      "Episode 249/500, score: 1\n",
      "Episode 250/500, score: 1\n",
      "Episode 251/500, score: 1\n",
      "Episode 252/500, score: 0.5\n",
      "Episode 253/500, score: 0.5\n",
      "Episode 254/500, score: 0.5\n",
      "Episode 255/500, score: 1\n",
      "Episode 256/500, score: -1\n",
      "Episode 257/500, score: 1\n",
      "Episode 258/500, score: 1\n",
      "Episode 259/500, score: 1\n",
      "Episode 260/500, score: 1\n",
      "Episode 261/500, score: 1\n",
      "Episode 262/500, score: 1\n",
      "Episode 263/500, score: 1\n",
      "Episode 264/500, score: 1\n"
     ]
    },
    {
     "name": "stderr",
     "output_type": "stream",
     "text": [
      "100%|██████████| 500/500 [00:00<00:00, 1332.01it/s]"
     ]
    },
    {
     "name": "stdout",
     "output_type": "stream",
     "text": [
      "Episode 265/500, score: 1\n",
      "Episode 266/500, score: 1\n",
      "Episode 267/500, score: 1\n",
      "Episode 268/500, score: 1\n",
      "Episode 269/500, score: 0.5\n",
      "Episode 270/500, score: 1\n",
      "Episode 271/500, score: 1\n",
      "Episode 272/500, score: -1\n",
      "Episode 273/500, score: 1\n",
      "Episode 274/500, score: 1\n",
      "Episode 275/500, score: 1\n",
      "Episode 276/500, score: 1\n",
      "Episode 277/500, score: 1\n",
      "Episode 278/500, score: 1\n",
      "Episode 279/500, score: -1\n",
      "Episode 280/500, score: 1\n",
      "Episode 281/500, score: 1\n",
      "Episode 282/500, score: 1\n",
      "Episode 283/500, score: 1\n",
      "Episode 284/500, score: 0.5\n",
      "Episode 285/500, score: 1\n",
      "Episode 286/500, score: 1\n",
      "Episode 287/500, score: 1\n",
      "Episode 288/500, score: -1\n",
      "Episode 289/500, score: 1\n",
      "Episode 290/500, score: 1\n",
      "Episode 291/500, score: 1\n",
      "Episode 292/500, score: 1\n",
      "Episode 293/500, score: 1\n",
      "Episode 294/500, score: 1\n",
      "Episode 295/500, score: 1\n",
      "Episode 296/500, score: 1\n",
      "Episode 297/500, score: 1\n",
      "Episode 298/500, score: 1\n",
      "Episode 299/500, score: 1\n",
      "Episode 300/500, score: 1\n",
      "Episode 301/500, score: 1\n",
      "Episode 302/500, score: 0.5\n",
      "Episode 303/500, score: -1\n",
      "Episode 304/500, score: 1\n",
      "Episode 305/500, score: 1\n",
      "Episode 306/500, score: 1\n",
      "Episode 307/500, score: 1\n",
      "Episode 308/500, score: 1\n",
      "Episode 309/500, score: 0.5\n",
      "Episode 310/500, score: 0.5\n",
      "Episode 311/500, score: 1\n",
      "Episode 312/500, score: -1\n",
      "Episode 313/500, score: 1\n",
      "Episode 314/500, score: 1\n",
      "Episode 315/500, score: 1\n",
      "Episode 316/500, score: 1\n",
      "Episode 317/500, score: 1\n",
      "Episode 318/500, score: 1\n",
      "Episode 319/500, score: 1\n",
      "Episode 320/500, score: 1\n",
      "Episode 321/500, score: 1\n",
      "Episode 322/500, score: 1\n",
      "Episode 323/500, score: 1\n",
      "Episode 324/500, score: 1\n",
      "Episode 325/500, score: 0.5\n",
      "Episode 326/500, score: 1\n",
      "Episode 327/500, score: 1\n",
      "Episode 328/500, score: 1\n",
      "Episode 329/500, score: -1\n",
      "Episode 330/500, score: 0.5\n",
      "Episode 331/500, score: 1\n",
      "Episode 332/500, score: 1\n",
      "Episode 333/500, score: 1\n",
      "Episode 334/500, score: -1\n",
      "Episode 335/500, score: 1\n",
      "Episode 336/500, score: 1\n",
      "Episode 337/500, score: 1\n",
      "Episode 338/500, score: 1\n",
      "Episode 339/500, score: 1\n",
      "Episode 340/500, score: 1\n",
      "Episode 341/500, score: 1\n",
      "Episode 342/500, score: 1\n",
      "Episode 343/500, score: 1\n",
      "Episode 344/500, score: 1\n",
      "Episode 345/500, score: 1\n",
      "Episode 346/500, score: 1\n",
      "Episode 347/500, score: 1\n",
      "Episode 348/500, score: 1\n",
      "Episode 349/500, score: 1\n",
      "Episode 350/500, score: -1\n",
      "Episode 351/500, score: 1\n",
      "Episode 352/500, score: 1\n",
      "Episode 353/500, score: 1\n",
      "Episode 354/500, score: 1\n",
      "Episode 355/500, score: 1\n",
      "Episode 356/500, score: 1\n",
      "Episode 357/500, score: 1\n",
      "Episode 358/500, score: 1\n",
      "Episode 359/500, score: 1\n",
      "Episode 360/500, score: 1\n",
      "Episode 361/500, score: 0.5\n",
      "Episode 362/500, score: 1\n",
      "Episode 363/500, score: 1\n",
      "Episode 364/500, score: 0.5\n",
      "Episode 365/500, score: 1\n",
      "Episode 366/500, score: 1\n",
      "Episode 367/500, score: 1\n",
      "Episode 368/500, score: 1\n",
      "Episode 369/500, score: 0.5\n",
      "Episode 370/500, score: 1\n",
      "Episode 371/500, score: 1\n",
      "Episode 372/500, score: 0.5\n",
      "Episode 373/500, score: -1\n",
      "Episode 374/500, score: 0.5\n",
      "Episode 375/500, score: 1\n",
      "Episode 376/500, score: 1\n",
      "Episode 377/500, score: -1\n",
      "Episode 378/500, score: 1\n",
      "Episode 379/500, score: 1\n",
      "Episode 380/500, score: 1\n",
      "Episode 381/500, score: 1\n",
      "Episode 382/500, score: 1\n",
      "Episode 383/500, score: 1\n",
      "Episode 384/500, score: 1\n",
      "Episode 385/500, score: 1\n",
      "Episode 386/500, score: 1\n",
      "Episode 387/500, score: 1\n",
      "Episode 388/500, score: 1\n",
      "Episode 389/500, score: 1\n",
      "Episode 390/500, score: 1\n",
      "Episode 391/500, score: 1\n",
      "Episode 392/500, score: 1\n",
      "Episode 393/500, score: 1\n",
      "Episode 394/500, score: 1\n",
      "Episode 395/500, score: 1\n",
      "Episode 396/500, score: -1\n",
      "Episode 397/500, score: 1\n",
      "Episode 398/500, score: 1\n",
      "Episode 399/500, score: 1\n",
      "Episode 400/500, score: 1\n",
      "Episode 401/500, score: 1\n",
      "Episode 402/500, score: 1\n",
      "Episode 403/500, score: 1\n",
      "Episode 404/500, score: 1\n",
      "Episode 405/500, score: 1\n",
      "Episode 406/500, score: 1\n",
      "Episode 407/500, score: 1\n",
      "Episode 408/500, score: -1\n",
      "Episode 409/500, score: 1\n",
      "Episode 410/500, score: 1\n",
      "Episode 411/500, score: -1\n",
      "Episode 412/500, score: 1\n",
      "Episode 413/500, score: 1\n",
      "Episode 414/500, score: 1\n",
      "Episode 415/500, score: 1\n",
      "Episode 416/500, score: 1\n",
      "Episode 417/500, score: 1\n",
      "Episode 418/500, score: 1\n",
      "Episode 419/500, score: 1\n",
      "Episode 420/500, score: 1\n",
      "Episode 421/500, score: 0.5\n",
      "Episode 422/500, score: 1\n",
      "Episode 423/500, score: 1\n",
      "Episode 424/500, score: 1\n",
      "Episode 425/500, score: 0.5\n",
      "Episode 426/500, score: 1\n",
      "Episode 427/500, score: -1\n",
      "Episode 428/500, score: 1\n",
      "Episode 429/500, score: 1\n",
      "Episode 430/500, score: 1\n",
      "Episode 431/500, score: 1\n",
      "Episode 432/500, score: 0.5\n",
      "Episode 433/500, score: 1\n",
      "Episode 434/500, score: 1\n",
      "Episode 435/500, score: 0.5\n",
      "Episode 436/500, score: 1\n",
      "Episode 437/500, score: 1\n",
      "Episode 438/500, score: 1\n",
      "Episode 439/500, score: 1\n",
      "Episode 440/500, score: 1\n",
      "Episode 441/500, score: -1\n",
      "Episode 442/500, score: 1\n",
      "Episode 443/500, score: 1\n",
      "Episode 444/500, score: 1\n",
      "Episode 445/500, score: 1\n",
      "Episode 446/500, score: 1\n",
      "Episode 447/500, score: 1\n",
      "Episode 448/500, score: 1\n",
      "Episode 449/500, score: 1\n",
      "Episode 450/500, score: 1\n",
      "Episode 451/500, score: 1\n",
      "Episode 452/500, score: 1\n",
      "Episode 453/500, score: 1\n",
      "Episode 454/500, score: 0.5\n",
      "Episode 455/500, score: 1\n",
      "Episode 456/500, score: 1\n",
      "Episode 457/500, score: 1\n",
      "Episode 458/500, score: 1\n",
      "Episode 459/500, score: 1\n",
      "Episode 460/500, score: 0.5\n",
      "Episode 461/500, score: 1\n",
      "Episode 462/500, score: 1\n",
      "Episode 463/500, score: 1\n",
      "Episode 464/500, score: 1\n",
      "Episode 465/500, score: 1\n",
      "Episode 466/500, score: -1\n",
      "Episode 467/500, score: 1\n",
      "Episode 468/500, score: 1\n",
      "Episode 469/500, score: 1\n",
      "Episode 470/500, score: 1\n",
      "Episode 471/500, score: 1\n",
      "Episode 472/500, score: -1\n",
      "Episode 473/500, score: 1\n",
      "Episode 474/500, score: 1\n",
      "Episode 475/500, score: 1\n",
      "Episode 476/500, score: 1\n",
      "Episode 477/500, score: 0.5\n",
      "Episode 478/500, score: 1\n",
      "Episode 479/500, score: 1\n",
      "Episode 480/500, score: 1\n",
      "Episode 481/500, score: 1\n",
      "Episode 482/500, score: 1\n",
      "Episode 483/500, score: 1\n",
      "Episode 484/500, score: 1\n",
      "Episode 485/500, score: 1\n",
      "Episode 486/500, score: 1\n",
      "Episode 487/500, score: 0.5\n",
      "Episode 488/500, score: 1\n",
      "Episode 489/500, score: 1\n",
      "Episode 490/500, score: -1\n",
      "Episode 491/500, score: 1\n",
      "Episode 492/500, score: 1\n",
      "Episode 493/500, score: 1\n",
      "Episode 494/500, score: 1\n",
      "Episode 495/500, score: 1\n",
      "Episode 496/500, score: 1\n",
      "Episode 497/500, score: 1\n",
      "Episode 498/500, score: 1\n",
      "Episode 499/500, score: 1\n",
      "Episode 500/500, score: 1\n",
      "Moyenne des scores sur 500 épisodes: 0.745\n",
      "Temps moyen d'entraînement par épisode : 0.0 secondes.\n"
     ]
    },
    {
     "name": "stderr",
     "output_type": "stream",
     "text": [
      "\n"
     ]
    },
    {
     "data": {
      "text/plain": "<Figure size 1600x600 with 1 Axes>",
      "image/png": "[encoded data removed]"
     },
     "metadata": {},
     "output_type": "display_data"
    },
    {
     "data": {
      "text/plain": "([1,\n  -1,\n  1,\n  0.5,\n  -1,\n  0.5,\n  1,\n  1,\n  1,\n  1,\n  -1,\n  1,\n  1,\n  1,\n  1,\n  -1,\n  0.5,\n  1,\n  1,\n  1,\n  1,\n  1,\n  -1,\n  -1,\n  1,\n  1,\n  0.5,\n  1,\n  1,\n  1,\n  1,\n  1,\n  -1,\n  -1,\n  -1,\n  1,\n  -1,\n  0.5,\n  1,\n  1,\n  1,\n  1,\n  0.5,\n  1,\n  1,\n  1,\n  1,\n  1,\n  1,\n  -1,\n  1,\n  1,\n  1,\n  1,\n  1,\n  1,\n  1,\n  1,\n  1,\n  1,\n  1,\n  1,\n  1,\n  -1,\n  1,\n  1,\n  1,\n  1,\n  1,\n  1,\n  1,\n  1,\n  -1,\n  0.5,\n  -1,\n  1,\n  1,\n  1,\n  1,\n  0.5,\n  -1,\n  1,\n  1,\n  1,\n  1,\n  1,\n  1,\n  1,\n  1,\n  1,\n  -1,\n  -1,\n  1,\n  0.5,\n  1,\n  1,\n  -1,\n  1,\n  0.5,\n  -1,\n  1,\n  1,\n  1,\n  1,\n  1,\n  1,\n  1,\n  1,\n  1,\n  1,\n  -1,\n  1,\n  1,\n  1,\n  1,\n  1,\n  1,\n  1,\n  1,\n  1,\n  1,\n  1,\n  1,\n  0.5,\n  1,\n  0.5,\n  1,\n  1,\n  0.5,\n  1,\n  1,\n  1,\n  1,\n  1,\n  0.5,\n  1,\n  1,\n  1,\n  1,\n  -1,\n  1,\n  1,\n  1,\n  1,\n  1,\n  1,\n  1,\n  1,\n  -1,\n  -1,\n  1,\n  1,\n  1,\n  0.5,\n  -1,\n  -1,\n  1,\n  1,\n  1,\n  0.5,\n  1,\n  1,\n  1,\n  1,\n  1,\n  1,\n  1,\n  1,\n  1,\n  -1,\n  1,\n  1,\n  1,\n  1,\n  1,\n  1,\n  1,\n  1,\n  -1,\n  0.5,\n  1,\n  1,\n  1,\n  -1,\n  0.5,\n  1,\n  1,\n  1,\n  -1,\n  1,\n  -1,\n  1,\n  1,\n  1,\n  1,\n  0.5,\n  1,\n  -1,\n  1,\n  1,\n  -1,\n  1,\n  1,\n  1,\n  1,\n  1,\n  0.5,\n  1,\n  1,\n  1,\n  -1,\n  1,\n  1,\n  1,\n  1,\n  1,\n  1,\n  1,\n  -1,\n  1,\n  1,\n  1,\n  1,\n  1,\n  1,\n  1,\n  1,\n  1,\n  1,\n  1,\n  1,\n  1,\n  1,\n  1,\n  1,\n  1,\n  1,\n  1,\n  1,\n  1,\n  1,\n  1,\n  1,\n  1,\n  1,\n  1,\n  1,\n  1,\n  1,\n  1,\n  1,\n  0.5,\n  0.5,\n  0.5,\n  1,\n  -1,\n  1,\n  1,\n  1,\n  1,\n  1,\n  1,\n  1,\n  1,\n  1,\n  1,\n  1,\n  1,\n  0.5,\n  1,\n  1,\n  -1,\n  1,\n  1,\n  1,\n  1,\n  1,\n  1,\n  -1,\n  1,\n  1,\n  1,\n  1,\n  0.5,\n  1,\n  1,\n  1,\n  -1,\n  1,\n  1,\n  1,\n  1,\n  1,\n  1,\n  1,\n  1,\n  1,\n  1,\n  1,\n  1,\n  1,\n  0.5,\n  -1,\n  1,\n  1,\n  1,\n  1,\n  1,\n  0.5,\n  0.5,\n  1,\n  -1,\n  1,\n  1,\n  1,\n  1,\n  1,\n  1,\n  1,\n  1,\n  1,\n  1,\n  1,\n  1,\n  0.5,\n  1,\n  1,\n  1,\n  -1,\n  0.5,\n  1,\n  1,\n  1,\n  -1,\n  1,\n  1,\n  1,\n  1,\n  1,\n  1,\n  1,\n  1,\n  1,\n  1,\n  1,\n  1,\n  1,\n  1,\n  1,\n  -1,\n  1,\n  1,\n  1,\n  1,\n  1,\n  1,\n  1,\n  1,\n  1,\n  1,\n  0.5,\n  1,\n  1,\n  0.5,\n  1,\n  1,\n  1,\n  1,\n  0.5,\n  1,\n  1,\n  0.5,\n  -1,\n  0.5,\n  1,\n  1,\n  -1,\n  1,\n  1,\n  1,\n  1,\n  1,\n  1,\n  1,\n  1,\n  1,\n  1,\n  1,\n  1,\n  1,\n  1,\n  1,\n  1,\n  1,\n  1,\n  -1,\n  1,\n  1,\n  1,\n  1,\n  1,\n  1,\n  1,\n  1,\n  1,\n  1,\n  1,\n  -1,\n  1,\n  1,\n  -1,\n  1,\n  1,\n  1,\n  1,\n  1,\n  1,\n  1,\n  1,\n  1,\n  0.5,\n  1,\n  1,\n  1,\n  0.5,\n  1,\n  -1,\n  1,\n  1,\n  1,\n  1,\n  0.5,\n  1,\n  1,\n  0.5,\n  1,\n  1,\n  1,\n  1,\n  1,\n  -1,\n  1,\n  1,\n  1,\n  1,\n  1,\n  1,\n  1,\n  1,\n  1,\n  1,\n  1,\n  1,\n  0.5,\n  1,\n  1,\n  1,\n  1,\n  1,\n  0.5,\n  1,\n  1,\n  1,\n  1,\n  1,\n  -1,\n  1,\n  1,\n  1,\n  1,\n  1,\n  -1,\n  1,\n  1,\n  1,\n  1,\n  0.5,\n  1,\n  1,\n  1,\n  1,\n  1,\n  1,\n  1,\n  1,\n  1,\n  0.5,\n  1,\n  1,\n  -1,\n  1,\n  1,\n  1,\n  1,\n  1,\n  1,\n  1,\n  1,\n  1,\n  1],\n [0.001005411148071289,\n  0.0010004043579101562,\n  0.0009996891021728516,\n  0.002000093460083008,\n  0.0,\n  0.0010004043579101562,\n  0.0,\n  0.0,\n  0.0,\n  0.0017924308776855469,\n  0.0,\n  0.0015196800231933594,\n  0.0,\n  0.0010068416595458984,\n  0.0,\n  0.0010020732879638672,\n  0.000997781753540039,\n  0.0009996891021728516,\n  0.0010027885437011719,\n  0.0,\n  0.001001119613647461,\n  0.0,\n  0.0009984970092773438,\n  0.001581430435180664,\n  0.0,\n  0.0015265941619873047,\n  0.0010094642639160156,\n  0.0,\n  0.001001119613647461,\n  0.0,\n  0.0009996891021728516,\n  0.0009989738464355469,\n  0.0,\n  0.0015096664428710938,\n  0.0,\n  0.0015778541564941406,\n  0.0,\n  0.0010035037994384766,\n  0.001009225845336914,\n  0.0,\n  0.0009970664978027344,\n  0.0010311603546142578,\n  0.0009999275207519531,\n  0.0010006427764892578,\n  0.0010004043579101562,\n  0.0,\n  0.0009996891021728516,\n  0.0010001659393310547,\n  0.0,\n  0.0010004043579101562,\n  0.0009992122650146484,\n  0.0005054473876953125,\n  0.0,\n  0.0,\n  0.0015056133270263672,\n  0.0010073184967041016,\n  0.0010004043579101562,\n  0.0009996891021728516,\n  0.0,\n  0.0009992122650146484,\n  0.0,\n  0.0009999275207519531,\n  0.0,\n  0.0,\n  0.0010006427764892578,\n  0.0010006427764892578,\n  0.0005054473876953125,\n  0.0010061264038085938,\n  0.0,\n  0.0010001659393310547,\n  0.0005052089691162109,\n  0.0,\n  0.001505136489868164,\n  0.0010063648223876953,\n  0.0010001659393310547,\n  0.0,\n  0.0009999275207519531,\n  0.0009996891021728516,\n  0.0,\n  0.001565694808959961,\n  0.0,\n  0.0009462833404541016,\n  0.0,\n  0.0,\n  0.0,\n  0.0010068416595458984,\n  0.0010001659393310547,\n  0.0005049705505371094,\n  0.0010063648223876953,\n  0.0009999275207519531,\n  0.0010001659393310547,\n  0.0,\n  0.0009999275207519531,\n  0.0010006427764892578,\n  0.0005052089691162109,\n  0.0010061264038085938,\n  0.0010001659393310547,\n  0.0005056858062744141,\n  0.0,\n  0.0,\n  0.0010073184967041016,\n  0.0009999275207519531,\n  0.0009999275207519531,\n  0.0010001659393310547,\n  0.0,\n  0.0015063285827636719,\n  0.0,\n  0.0010073184967041016,\n  0.0,\n  0.0015063285827636719,\n  0.001007080078125,\n  0.0009996891021728516,\n  0.0005052089691162109,\n  0.0010068416595458984,\n  0.0,\n  0.00099945068359375,\n  0.0010001659393310547,\n  0.0,\n  0.0009999275207519531,\n  0.0010004043579101562,\n  0.0005052089691162109,\n  0.0010063648223876953,\n  0.0,\n  0.0015058517456054688,\n  0.0,\n  0.0015227794647216797,\n  0.0010068416595458984,\n  0.0,\n  0.0019998550415039062,\n  0.0,\n  0.0010001659393310547,\n  0.0,\n  0.0,\n  0.0015053749084472656,\n  0.0010066032409667969,\n  0.0009996891021728516,\n  0.0,\n  0.0010724067687988281,\n  0.0005040168762207031,\n  0.0020058155059814453,\n  0.0,\n  0.0010025501251220703,\n  0.0009980201721191406,\n  0.0,\n  0.0,\n  0.0015041828155517578,\n  0.0010068416595458984,\n  0.0,\n  0.00099945068359375,\n  0.0009980201721191406,\n  0.0,\n  0.0010275840759277344,\n  0.0005056858062744141,\n  0.0010073184967041016,\n  0.0009989738464355469,\n  0.0010001659393310547,\n  0.0,\n  0.0010004043579101562,\n  0.0,\n  0.0015056133270263672,\n  0.0010066032409667969,\n  0.0009980201721191406,\n  0.0005037784576416016,\n  0.0,\n  0.001003265380859375,\n  0.0010042190551757812,\n  0.0010001659393310547,\n  0.0005033016204833984,\n  0.0,\n  0.0010039806365966797,\n  0.0009999275207519531,\n  0.0,\n  0.0010001659393310547,\n  0.0015075206756591797,\n  0.0,\n  0.0015032291412353516,\n  0.0,\n  0.0015263557434082031,\n  0.0010097026824951172,\n  0.0010004043579101562,\n  0.0009965896606445312,\n  0.0009996891021728516,\n  0.0005052089691162109,\n  0.0010066032409667969,\n  0.0009996891021728516,\n  0.0009999275207519531,\n  0.0005049705505371094,\n  0.0,\n  0.001004934310913086,\n  0.0,\n  0.0010066032409667969,\n  0.0009999275207519531,\n  0.0009996891021728516,\n  0.0010001659393310547,\n  0.0,\n  0.0015048980712890625,\n  0.001007080078125,\n  0.0009999275207519531,\n  0.00099945068359375,\n  0.0005054473876953125,\n  0.0010051727294921875,\n  0.0,\n  0.0010063648223876953,\n  0.0,\n  0.0010001659393310547,\n  0.0,\n  0.0009999275207519531,\n  0.0009999275207519531,\n  0.0015048980712890625,\n  0.0,\n  0.0020127296447753906,\n  0.0010006427764892578,\n  0.0,\n  0.0015060901641845703,\n  0.0010068416595458984,\n  0.0,\n  0.0009996891021728516,\n  0.0,\n  0.0009999275207519531,\n  0.0009999275207519531,\n  0.0015072822570800781,\n  0.0010073184967041016,\n  0.0,\n  0.001007080078125,\n  0.0009999275207519531,\n  0.0009999275207519531,\n  0.0,\n  0.001505136489868164,\n  0.0010063648223876953,\n  0.0009999275207519531,\n  0.0,\n  0.001505136489868164,\n  0.0005254745483398438,\n  0.0010063648223876953,\n  0.0,\n  0.0010004043579101562,\n  0.0010061264038085938,\n  0.0,\n  0.0009996891021728516,\n  0.0,\n  0.001556396484375,\n  0.0,\n  0.0009558200836181641,\n  0.0,\n  0.00099945068359375,\n  0.0,\n  0.0009996891021728516,\n  0.0010001659393310547,\n  0.0005052089691162109,\n  0.0,\n  0.0010073184967041016,\n  0.0009999275207519531,\n  0.0010063648223876953,\n  0.0009996891021728516,\n  0.0010006427764892578,\n  0.0009996891021728516,\n  0.0005054473876953125,\n  0.0,\n  0.0010063648223876953,\n  0.0010001659393310547,\n  0.0010001659393310547,\n  0.0005049705505371094,\n  0.0010066032409667969,\n  0.0010056495666503906,\n  0.0010001659393310547,\n  0.0010037422180175781,\n  0.0009968280792236328,\n  0.0010006427764892578,\n  0.0009996891021728516,\n  0.0,\n  0.0015082359313964844,\n  0.0010056495666503906,\n  0.00099945068359375,\n  0.0010008811950683594,\n  0.0,\n  0.0010004043579101562,\n  0.0,\n  0.0010018348693847656,\n  0.0015056133270263672,\n  0.0,\n  0.0010068416595458984,\n  0.0010006427764892578,\n  0.00099945068359375,\n  0.0005035400390625,\n  0.0010077953338623047,\n  0.0,\n  0.000997304916381836,\n  0.0010004043579101562,\n  0.001001596450805664,\n  0.0009999275207519531,\n  0.0,\n  0.0,\n  0.0015048980712890625,\n  0.0010056495666503906,\n  0.0,\n  0.0010037422180175781,\n  0.0,\n  0.0015087127685546875,\n  0.0,\n  0.0010097026824951172,\n  0.0010001659393310547,\n  0.000997304916381836,\n  0.00099945068359375,\n  0.0,\n  0.0009996891021728516,\n  0.0,\n  0.0009999275207519531,\n  0.0,\n  0.0015063285827636719,\n  0.001004934310913086,\n  0.0,\n  0.0015058517456054688,\n  0.0,\n  0.0010063648223876953,\n  0.0010001659393310547,\n  0.0,\n  0.0009992122650146484,\n  0.0,\n  0.0009999275207519531,\n  0.0,\n  0.0009996891021728516,\n  0.0,\n  0.0009996891021728516,\n  0.0,\n  0.002510547637939453,\n  0.0,\n  0.0015044212341308594,\n  0.0,\n  0.0010077953338623047,\n  0.00099945068359375,\n  0.0009992122650146484,\n  0.0,\n  0.0,\n  0.0009996891021728516,\n  0.0,\n  0.0009999275207519531,\n  0.0009999275207519531,\n  0.0009996891021728516,\n  0.0,\n  0.0015039443969726562,\n  0.0,\n  0.0010063648223876953,\n  0.001272439956665039,\n  0.0010006427764892578,\n  0.0,\n  0.00099945068359375,\n  0.0,\n  0.00099945068359375,\n  0.0,\n  0.0010006427764892578,\n  0.0010006427764892578,\n  0.0,\n  0.00099945068359375,\n  0.0,\n  0.0010008811950683594,\n  0.0009970664978027344,\n  0.0,\n  0.0012316703796386719,\n  0.0,\n  0.0010073184967041016,\n  0.0009989738464355469,\n  0.0,\n  0.0013234615325927734,\n  0.0009987354278564453,\n  0.0,\n  0.0,\n  0.0009989738464355469,\n  0.0,\n  0.00099945068359375,\n  0.001505136489868164,\n  0.0,\n  0.0015234947204589844,\n  0.0010056495666503906,\n  0.0010023117065429688,\n  0.0010504722595214844,\n  0.0010004043579101562,\n  0.0,\n  0.0009999275207519531,\n  0.001001596450805664,\n  0.0,\n  0.0009980201721191406,\n  0.0,\n  0.0015075206756591797,\n  0.0,\n  0.0,\n  0.0015187263488769531,\n  0.001005411148071289,\n  0.0,\n  0.0009999275207519531,\n  0.00119781494140625,\n  0.0,\n  0.0009965896606445312,\n  0.0010013580322265625,\n  0.0,\n  0.0009980201721191406,\n  0.0010004043579101562,\n  0.0010006427764892578,\n  0.0005054473876953125,\n  0.0,\n  0.0015060901641845703,\n  0.0010066032409667969,\n  0.0009996891021728516,\n  0.0010001659393310547,\n  0.0,\n  0.0009999275207519531,\n  0.0010004043579101562,\n  0.0,\n  0.0009989738464355469,\n  0.0010001659393310547,\n  0.0015060901641845703,\n  0.0010004043579101562,\n  0.0005095005035400391,\n  0.0,\n  0.001008749008178711,\n  0.0,\n  0.0009987354278564453,\n  0.0010030269622802734,\n  0.0009996891021728516,\n  0.0,\n  0.0009961128234863281,\n  0.0015048980712890625,\n  0.0005242824554443359,\n  0.0,\n  0.0010097026824951172,\n  0.0,\n  0.001506805419921875,\n  0.001007080078125,\n  0.0009980201721191406,\n  0.0,\n  0.0010004043579101562,\n  0.0015079975128173828,\n  0.0010073184967041016,\n  0.0,\n  0.0015058517456054688,\n  0.0005235671997070312,\n  0.0010061264038085938,\n  0.0,\n  0.0,\n  0.001505136489868164,\n  0.0010073184967041016,\n  0.0,\n  0.0,\n  0.0009996891021728516,\n  0.0,\n  0.0009999275207519531,\n  0.0009999275207519531,\n  0.0009999275207519531,\n  0.0,\n  0.0010001659393310547,\n  0.0005049705505371094,\n  0.0010080337524414062,\n  0.0,\n  0.00099945068359375,\n  0.0015041828155517578,\n  0.0,\n  0.0010063648223876953,\n  0.0,\n  0.0009999275207519531,\n  0.0,\n  0.0009999275207519531,\n  0.0010001659393310547,\n  0.0,\n  0.0009999275207519531,\n  0.0009999275207519531,\n  0.0005047321319580078,\n  0.0010061264038085938,\n  0.001001596450805664,\n  0.0009984970092773438,\n  0.0005052089691162109,\n  0.0,\n  0.0010063648223876953,\n  0.0009999275207519531,\n  0.001001596450805664,\n  0.00099945068359375,\n  0.0,\n  0.000997781753540039,\n  0.0010039806365966797,\n  0.0005085468292236328,\n  0.0010082721710205078,\n  0.0009987354278564453,\n  0.0,\n  0.0010027885437011719,\n  0.0010089874267578125,\n  0.0,\n  0.0009987354278564453,\n  0.0,\n  0.00099945068359375,\n  0.0010023117065429688,\n  0.0009975433349609375,\n  0.0,\n  0.0015060901641845703,\n  0.0,\n  0.0010063648223876953,\n  0.0010013580322265625,\n  0.0,\n  0.0015082359313964844,\n  0.0,\n  0.0010051727294921875,\n  0.0010044574737548828,\n  0.0])"
     },
     "execution_count": 16,
     "metadata": {},
     "output_type": "execute_result"
    }
   ],
   "source": [
    "agent.train()"
   ],
   "metadata": {
    "collapsed": false,
    "ExecuteTime": {
     "end_time": "2024-02-15T18:40:40.556445Z",
     "start_time": "2024-02-15T18:40:40.021173900Z"
    }
   },
   "id": "e4f5ce2c71ef6361",
   "execution_count": 16
  },
  {
   "cell_type": "code",
   "outputs": [
    {
     "name": "stderr",
     "output_type": "stream",
     "text": [
      " 65%|██████▍   | 324/500 [00:00<00:00, 1584.39it/s]"
     ]
    },
    {
     "name": "stdout",
     "output_type": "stream",
     "text": [
      "Episode 1/500, score: 1\n",
      "Episode 2/500, score: 1\n",
      "Episode 3/500, score: 1\n",
      "Episode 4/500, score: 1\n",
      "Episode 5/500, score: 1\n",
      "Episode 6/500, score: 0.5\n",
      "Episode 7/500, score: 1\n",
      "Episode 8/500, score: 1\n",
      "Episode 9/500, score: 1\n",
      "Episode 10/500, score: 1\n",
      "Episode 11/500, score: 1\n",
      "Episode 12/500, score: 1\n",
      "Episode 13/500, score: 1\n",
      "Episode 14/500, score: 1\n",
      "Episode 15/500, score: 1\n",
      "Episode 16/500, score: 1\n",
      "Episode 17/500, score: -1\n",
      "Episode 18/500, score: 1\n",
      "Episode 19/500, score: 0.5\n",
      "Episode 20/500, score: 1\n",
      "Episode 21/500, score: 1\n",
      "Episode 22/500, score: 1\n",
      "Episode 23/500, score: 1\n",
      "Episode 24/500, score: 1\n",
      "Episode 25/500, score: 1\n",
      "Episode 26/500, score: 1\n",
      "Episode 27/500, score: 1\n",
      "Episode 28/500, score: 1\n",
      "Episode 29/500, score: 1\n",
      "Episode 30/500, score: 1\n",
      "Episode 31/500, score: 1\n",
      "Episode 32/500, score: 1\n",
      "Episode 33/500, score: 1\n",
      "Episode 34/500, score: 1\n",
      "Episode 35/500, score: -1\n",
      "Episode 36/500, score: 1\n",
      "Episode 37/500, score: -1\n",
      "Episode 38/500, score: 1\n",
      "Episode 39/500, score: 1\n",
      "Episode 40/500, score: 1\n",
      "Episode 41/500, score: 1\n",
      "Episode 42/500, score: 1\n",
      "Episode 43/500, score: 1\n",
      "Episode 44/500, score: 1\n",
      "Episode 45/500, score: 1\n",
      "Episode 46/500, score: 1\n",
      "Episode 47/500, score: 1\n",
      "Episode 48/500, score: 1\n",
      "Episode 49/500, score: -1\n",
      "Episode 50/500, score: 1\n",
      "Episode 51/500, score: 1\n",
      "Episode 52/500, score: 1\n",
      "Episode 53/500, score: 1\n",
      "Episode 54/500, score: 1\n",
      "Episode 55/500, score: 1\n",
      "Episode 56/500, score: 1\n",
      "Episode 57/500, score: 1\n",
      "Episode 58/500, score: 1\n",
      "Episode 59/500, score: 0.5\n",
      "Episode 60/500, score: 1\n",
      "Episode 61/500, score: 1\n",
      "Episode 62/500, score: 1\n",
      "Episode 63/500, score: 1\n",
      "Episode 64/500, score: 1\n",
      "Episode 65/500, score: 1\n",
      "Episode 66/500, score: 0.5\n",
      "Episode 67/500, score: -1\n",
      "Episode 68/500, score: 1\n",
      "Episode 69/500, score: 1\n",
      "Episode 70/500, score: 1\n",
      "Episode 71/500, score: 1\n",
      "Episode 72/500, score: 1\n",
      "Episode 73/500, score: 1\n",
      "Episode 74/500, score: 1\n",
      "Episode 75/500, score: 1\n",
      "Episode 76/500, score: -1\n",
      "Episode 77/500, score: 1\n",
      "Episode 78/500, score: 0.5\n",
      "Episode 79/500, score: 1\n",
      "Episode 80/500, score: -1\n",
      "Episode 81/500, score: 1\n",
      "Episode 82/500, score: 1\n",
      "Episode 83/500, score: 1\n",
      "Episode 84/500, score: -1\n",
      "Episode 85/500, score: 1\n",
      "Episode 86/500, score: -1\n",
      "Episode 87/500, score: 0.5\n",
      "Episode 88/500, score: 1\n",
      "Episode 89/500, score: 1\n",
      "Episode 90/500, score: 1\n",
      "Episode 91/500, score: 1\n",
      "Episode 92/500, score: 0.5\n",
      "Episode 93/500, score: 1\n",
      "Episode 94/500, score: 1\n",
      "Episode 95/500, score: 1\n",
      "Episode 96/500, score: 1\n",
      "Episode 97/500, score: 1\n",
      "Episode 98/500, score: 1\n",
      "Episode 99/500, score: -1\n",
      "Episode 100/500, score: 1\n",
      "Episode 101/500, score: 1\n",
      "Episode 102/500, score: 1\n",
      "Episode 103/500, score: 1\n",
      "Episode 104/500, score: -1\n",
      "Episode 105/500, score: 1\n",
      "Episode 106/500, score: 1\n",
      "Episode 107/500, score: 1\n",
      "Episode 108/500, score: 1\n",
      "Episode 109/500, score: 1\n",
      "Episode 110/500, score: 1\n",
      "Episode 111/500, score: 1\n",
      "Episode 112/500, score: 1\n",
      "Episode 113/500, score: 1\n",
      "Episode 114/500, score: 1\n",
      "Episode 115/500, score: 0.5\n",
      "Episode 116/500, score: 1\n",
      "Episode 117/500, score: 1\n",
      "Episode 118/500, score: 1\n",
      "Episode 119/500, score: 1\n",
      "Episode 120/500, score: 1\n",
      "Episode 121/500, score: 1\n",
      "Episode 122/500, score: 1\n",
      "Episode 123/500, score: 1\n",
      "Episode 124/500, score: -1\n",
      "Episode 125/500, score: 1\n",
      "Episode 126/500, score: 1\n",
      "Episode 127/500, score: 1\n",
      "Episode 128/500, score: 1\n",
      "Episode 129/500, score: 1\n",
      "Episode 130/500, score: 1\n",
      "Episode 131/500, score: -1\n",
      "Episode 132/500, score: 1\n",
      "Episode 133/500, score: -1\n",
      "Episode 134/500, score: 1\n",
      "Episode 135/500, score: 1\n",
      "Episode 136/500, score: 1\n",
      "Episode 137/500, score: 1\n",
      "Episode 138/500, score: 1\n",
      "Episode 139/500, score: 1\n",
      "Episode 140/500, score: 1\n",
      "Episode 141/500, score: -1\n",
      "Episode 142/500, score: 0.5\n",
      "Episode 143/500, score: -1\n",
      "Episode 144/500, score: 1\n",
      "Episode 145/500, score: 1\n",
      "Episode 146/500, score: 1\n",
      "Episode 147/500, score: 1\n",
      "Episode 148/500, score: 1\n",
      "Episode 149/500, score: 1\n",
      "Episode 150/500, score: 1\n",
      "Episode 151/500, score: 1\n",
      "Episode 152/500, score: 1\n",
      "Episode 153/500, score: 0.5\n",
      "Episode 154/500, score: -1\n",
      "Episode 155/500, score: 1\n",
      "Episode 156/500, score: 1\n",
      "Episode 157/500, score: 1\n",
      "Episode 158/500, score: 1\n",
      "Episode 159/500, score: 1\n",
      "Episode 160/500, score: 1\n",
      "Episode 161/500, score: 1\n",
      "Episode 162/500, score: 1\n",
      "Episode 163/500, score: 1\n",
      "Episode 164/500, score: 0.5\n",
      "Episode 165/500, score: 1\n",
      "Episode 166/500, score: -1\n",
      "Episode 167/500, score: 1\n",
      "Episode 168/500, score: 1\n",
      "Episode 169/500, score: 0.5\n",
      "Episode 170/500, score: -1\n",
      "Episode 171/500, score: 1\n",
      "Episode 172/500, score: 1\n",
      "Episode 173/500, score: 1\n",
      "Episode 174/500, score: 1\n",
      "Episode 175/500, score: 1\n",
      "Episode 176/500, score: 1\n",
      "Episode 177/500, score: 1\n",
      "Episode 178/500, score: 1\n",
      "Episode 179/500, score: 1\n",
      "Episode 180/500, score: 0.5\n",
      "Episode 181/500, score: -1\n",
      "Episode 182/500, score: 1\n",
      "Episode 183/500, score: -1\n",
      "Episode 184/500, score: 1\n",
      "Episode 185/500, score: -1\n",
      "Episode 186/500, score: 1\n",
      "Episode 187/500, score: 1\n",
      "Episode 188/500, score: 1\n",
      "Episode 189/500, score: 1\n",
      "Episode 190/500, score: 1\n",
      "Episode 191/500, score: -1\n",
      "Episode 192/500, score: 0.5\n",
      "Episode 193/500, score: 1\n",
      "Episode 194/500, score: 1\n",
      "Episode 195/500, score: 1\n",
      "Episode 196/500, score: 1\n",
      "Episode 197/500, score: -1\n",
      "Episode 198/500, score: 1\n",
      "Episode 199/500, score: 1\n",
      "Episode 200/500, score: 1\n",
      "Episode 201/500, score: 1\n",
      "Episode 202/500, score: 0.5\n",
      "Episode 203/500, score: 1\n",
      "Episode 204/500, score: 1\n",
      "Episode 205/500, score: 1\n",
      "Episode 206/500, score: 1\n",
      "Episode 207/500, score: 1\n",
      "Episode 208/500, score: 1\n",
      "Episode 209/500, score: 1\n",
      "Episode 210/500, score: 1\n",
      "Episode 211/500, score: 1\n",
      "Episode 212/500, score: 1\n",
      "Episode 213/500, score: 1\n",
      "Episode 214/500, score: 1\n",
      "Episode 215/500, score: 1\n",
      "Episode 216/500, score: 1\n",
      "Episode 217/500, score: -1\n",
      "Episode 218/500, score: 1\n",
      "Episode 219/500, score: -1\n",
      "Episode 220/500, score: 1\n",
      "Episode 221/500, score: 1\n",
      "Episode 222/500, score: 1\n",
      "Episode 223/500, score: 0.5\n",
      "Episode 224/500, score: 1\n",
      "Episode 225/500, score: 1\n",
      "Episode 226/500, score: 1\n",
      "Episode 227/500, score: 1\n",
      "Episode 228/500, score: 1\n",
      "Episode 229/500, score: 1\n",
      "Episode 230/500, score: 1\n",
      "Episode 231/500, score: 1\n",
      "Episode 232/500, score: 1\n",
      "Episode 233/500, score: 1\n",
      "Episode 234/500, score: 1\n",
      "Episode 235/500, score: 1\n",
      "Episode 236/500, score: 1\n",
      "Episode 237/500, score: 1\n",
      "Episode 238/500, score: 1\n",
      "Episode 239/500, score: -1\n",
      "Episode 240/500, score: -1\n",
      "Episode 241/500, score: 1\n",
      "Episode 242/500, score: 1\n",
      "Episode 243/500, score: 1\n",
      "Episode 244/500, score: 1\n",
      "Episode 245/500, score: 1\n",
      "Episode 246/500, score: 1\n",
      "Episode 247/500, score: 1\n",
      "Episode 248/500, score: 1\n",
      "Episode 249/500, score: 0.5\n",
      "Episode 250/500, score: 1\n",
      "Episode 251/500, score: 1\n",
      "Episode 252/500, score: 1\n",
      "Episode 253/500, score: 1\n",
      "Episode 254/500, score: 1\n",
      "Episode 255/500, score: 1\n",
      "Episode 256/500, score: 1\n",
      "Episode 257/500, score: 1\n",
      "Episode 258/500, score: 1\n",
      "Episode 259/500, score: 1\n",
      "Episode 260/500, score: 1\n",
      "Episode 261/500, score: 1\n",
      "Episode 262/500, score: 0.5\n",
      "Episode 263/500, score: 1\n",
      "Episode 264/500, score: 1\n",
      "Episode 265/500, score: 1\n",
      "Episode 266/500, score: 1\n",
      "Episode 267/500, score: 1\n",
      "Episode 268/500, score: 1\n",
      "Episode 269/500, score: -1\n",
      "Episode 270/500, score: 1\n",
      "Episode 271/500, score: 1\n",
      "Episode 272/500, score: 1\n",
      "Episode 273/500, score: 1\n",
      "Episode 274/500, score: 1\n",
      "Episode 275/500, score: 1\n",
      "Episode 276/500, score: 1\n",
      "Episode 277/500, score: 1\n",
      "Episode 278/500, score: 1\n",
      "Episode 279/500, score: 1\n",
      "Episode 280/500, score: 1\n",
      "Episode 281/500, score: 1\n",
      "Episode 282/500, score: 1\n",
      "Episode 283/500, score: 0.5\n",
      "Episode 284/500, score: 1\n",
      "Episode 285/500, score: 1\n",
      "Episode 286/500, score: 1\n",
      "Episode 287/500, score: 1\n",
      "Episode 288/500, score: -1\n",
      "Episode 289/500, score: 1\n",
      "Episode 290/500, score: 1\n",
      "Episode 291/500, score: 1\n",
      "Episode 292/500, score: 1\n",
      "Episode 293/500, score: 1\n",
      "Episode 294/500, score: 1\n",
      "Episode 295/500, score: 1\n",
      "Episode 296/500, score: 1\n",
      "Episode 297/500, score: 1\n",
      "Episode 298/500, score: 1\n",
      "Episode 299/500, score: 1\n",
      "Episode 300/500, score: 1\n",
      "Episode 301/500, score: 1\n",
      "Episode 302/500, score: 1\n",
      "Episode 303/500, score: -1\n",
      "Episode 304/500, score: 1\n",
      "Episode 305/500, score: -1\n",
      "Episode 306/500, score: 0.5\n",
      "Episode 307/500, score: 1\n",
      "Episode 308/500, score: -1\n",
      "Episode 309/500, score: 1\n",
      "Episode 310/500, score: 1\n",
      "Episode 311/500, score: 1\n",
      "Episode 312/500, score: 1\n",
      "Episode 313/500, score: 1\n",
      "Episode 314/500, score: 1\n",
      "Episode 315/500, score: 1\n",
      "Episode 316/500, score: 1\n",
      "Episode 317/500, score: 1\n",
      "Episode 318/500, score: -1\n",
      "Episode 319/500, score: 1\n",
      "Episode 320/500, score: 1\n",
      "Episode 321/500, score: 0.5\n",
      "Episode 322/500, score: 1\n",
      "Episode 323/500, score: 1\n",
      "Episode 324/500, score: 0.5\n"
     ]
    },
    {
     "name": "stderr",
     "output_type": "stream",
     "text": [
      "100%|██████████| 500/500 [00:00<00:00, 1559.74it/s]\n"
     ]
    },
    {
     "name": "stdout",
     "output_type": "stream",
     "text": [
      "Episode 325/500, score: -1\n",
      "Episode 326/500, score: 1\n",
      "Episode 327/500, score: 1\n",
      "Episode 328/500, score: 1\n",
      "Episode 329/500, score: -1\n",
      "Episode 330/500, score: 1\n",
      "Episode 331/500, score: 1\n",
      "Episode 332/500, score: 1\n",
      "Episode 333/500, score: 1\n",
      "Episode 334/500, score: 0.5\n",
      "Episode 335/500, score: 1\n",
      "Episode 336/500, score: 1\n",
      "Episode 337/500, score: 1\n",
      "Episode 338/500, score: 1\n",
      "Episode 339/500, score: -1\n",
      "Episode 340/500, score: 1\n",
      "Episode 341/500, score: -1\n",
      "Episode 342/500, score: 1\n",
      "Episode 343/500, score: 1\n",
      "Episode 344/500, score: 1\n",
      "Episode 345/500, score: 1\n",
      "Episode 346/500, score: 1\n",
      "Episode 347/500, score: 1\n",
      "Episode 348/500, score: 1\n",
      "Episode 349/500, score: 1\n",
      "Episode 350/500, score: 1\n",
      "Episode 351/500, score: 1\n",
      "Episode 352/500, score: 1\n",
      "Episode 353/500, score: -1\n",
      "Episode 354/500, score: 1\n",
      "Episode 355/500, score: 1\n",
      "Episode 356/500, score: 1\n",
      "Episode 357/500, score: 1\n",
      "Episode 358/500, score: 1\n",
      "Episode 359/500, score: 0.5\n",
      "Episode 360/500, score: 1\n",
      "Episode 361/500, score: 1\n",
      "Episode 362/500, score: 1\n",
      "Episode 363/500, score: 1\n",
      "Episode 364/500, score: 1\n",
      "Episode 365/500, score: 1\n",
      "Episode 366/500, score: 1\n",
      "Episode 367/500, score: 1\n",
      "Episode 368/500, score: 1\n",
      "Episode 369/500, score: 1\n",
      "Episode 370/500, score: 1\n",
      "Episode 371/500, score: 1\n",
      "Episode 372/500, score: 1\n",
      "Episode 373/500, score: 0.5\n",
      "Episode 374/500, score: 1\n",
      "Episode 375/500, score: -1\n",
      "Episode 376/500, score: 1\n",
      "Episode 377/500, score: 1\n",
      "Episode 378/500, score: 1\n",
      "Episode 379/500, score: 1\n",
      "Episode 380/500, score: 1\n",
      "Episode 381/500, score: 1\n",
      "Episode 382/500, score: 1\n",
      "Episode 383/500, score: 1\n",
      "Episode 384/500, score: 1\n",
      "Episode 385/500, score: 1\n",
      "Episode 386/500, score: 1\n",
      "Episode 387/500, score: 1\n",
      "Episode 388/500, score: 1\n",
      "Episode 389/500, score: 1\n",
      "Episode 390/500, score: 1\n",
      "Episode 391/500, score: 0.5\n",
      "Episode 392/500, score: -1\n",
      "Episode 393/500, score: -1\n",
      "Episode 394/500, score: 1\n",
      "Episode 395/500, score: 1\n",
      "Episode 396/500, score: 1\n",
      "Episode 397/500, score: 1\n",
      "Episode 398/500, score: 1\n",
      "Episode 399/500, score: 0.5\n",
      "Episode 400/500, score: 1\n",
      "Episode 401/500, score: 1\n",
      "Episode 402/500, score: 1\n",
      "Episode 403/500, score: 1\n",
      "Episode 404/500, score: 1\n",
      "Episode 405/500, score: 1\n",
      "Episode 406/500, score: 1\n",
      "Episode 407/500, score: 1\n",
      "Episode 408/500, score: 1\n",
      "Episode 409/500, score: 1\n",
      "Episode 410/500, score: 1\n",
      "Episode 411/500, score: 1\n",
      "Episode 412/500, score: 1\n",
      "Episode 413/500, score: 1\n",
      "Episode 414/500, score: 1\n",
      "Episode 415/500, score: 1\n",
      "Episode 416/500, score: 1\n",
      "Episode 417/500, score: 1\n",
      "Episode 418/500, score: 1\n",
      "Episode 419/500, score: 1\n",
      "Episode 420/500, score: 1\n",
      "Episode 421/500, score: 1\n",
      "Episode 422/500, score: 1\n",
      "Episode 423/500, score: 1\n",
      "Episode 424/500, score: 1\n",
      "Episode 425/500, score: 1\n",
      "Episode 426/500, score: 1\n",
      "Episode 427/500, score: 1\n",
      "Episode 428/500, score: 1\n",
      "Episode 429/500, score: -1\n",
      "Episode 430/500, score: 0.5\n",
      "Episode 431/500, score: 1\n",
      "Episode 432/500, score: 1\n",
      "Episode 433/500, score: 1\n",
      "Episode 434/500, score: 1\n",
      "Episode 435/500, score: 0.5\n",
      "Episode 436/500, score: -1\n",
      "Episode 437/500, score: -1\n",
      "Episode 438/500, score: 1\n",
      "Episode 439/500, score: 1\n",
      "Episode 440/500, score: 1\n",
      "Episode 441/500, score: 1\n",
      "Episode 442/500, score: 1\n",
      "Episode 443/500, score: 1\n",
      "Episode 444/500, score: 1\n",
      "Episode 445/500, score: 1\n",
      "Episode 446/500, score: 1\n",
      "Episode 447/500, score: 1\n",
      "Episode 448/500, score: 1\n",
      "Episode 449/500, score: 1\n",
      "Episode 450/500, score: 0.5\n",
      "Episode 451/500, score: 1\n",
      "Episode 452/500, score: 1\n",
      "Episode 453/500, score: 1\n",
      "Episode 454/500, score: 1\n",
      "Episode 455/500, score: 1\n",
      "Episode 456/500, score: 1\n",
      "Episode 457/500, score: 1\n",
      "Episode 458/500, score: 1\n",
      "Episode 459/500, score: -1\n",
      "Episode 460/500, score: 1\n",
      "Episode 461/500, score: -1\n",
      "Episode 462/500, score: 1\n",
      "Episode 463/500, score: 1\n",
      "Episode 464/500, score: 1\n",
      "Episode 465/500, score: 0.5\n",
      "Episode 466/500, score: 1\n",
      "Episode 467/500, score: 0.5\n",
      "Episode 468/500, score: 1\n",
      "Episode 469/500, score: 1\n",
      "Episode 470/500, score: 1\n",
      "Episode 471/500, score: 1\n",
      "Episode 472/500, score: 0.5\n",
      "Episode 473/500, score: 1\n",
      "Episode 474/500, score: 1\n",
      "Episode 475/500, score: 1\n",
      "Episode 476/500, score: 1\n",
      "Episode 477/500, score: 1\n",
      "Episode 478/500, score: 1\n",
      "Episode 479/500, score: 0.5\n",
      "Episode 480/500, score: 1\n",
      "Episode 481/500, score: 1\n",
      "Episode 482/500, score: 1\n",
      "Episode 483/500, score: 1\n",
      "Episode 484/500, score: 0.5\n",
      "Episode 485/500, score: 1\n",
      "Episode 486/500, score: 1\n",
      "Episode 487/500, score: 1\n",
      "Episode 488/500, score: 1\n",
      "Episode 489/500, score: -1\n",
      "Episode 490/500, score: 1\n",
      "Episode 491/500, score: 1\n",
      "Episode 492/500, score: 1\n",
      "Episode 493/500, score: 0.5\n",
      "Episode 494/500, score: 1\n",
      "Episode 495/500, score: 1\n",
      "Episode 496/500, score: 0.5\n",
      "Episode 497/500, score: 1\n",
      "Episode 498/500, score: 1\n",
      "Episode 499/500, score: 1\n",
      "Episode 500/500, score: 1\n",
      "Moyenne des scores sur 500 épisodes: 0.771\n",
      "Win rate: 0.83\n",
      "Loss rate: 0.096\n"
     ]
    },
    {
     "data": {
      "text/plain": "<Figure size 1200x600 with 2 Axes>",
      "image/png": "[encoded data removed]"
     },
     "metadata": {},
     "output_type": "display_data"
    },
    {
     "data": {
      "text/plain": "<Figure size 1600x600 with 1 Axes>",
      "image/png": "[encoded data removed]"
     },
     "metadata": {},
     "output_type": "display_data"
    }
   ],
   "source": [
    "agent.test()"
   ],
   "metadata": {
    "collapsed": false,
    "ExecuteTime": {
     "end_time": "2024-02-15T18:40:41.223946Z",
     "start_time": "2024-02-15T18:40:40.552815500Z"
    }
   },
   "id": "a474db92b8c39304",
   "execution_count": 17
  },
  {
   "cell_type": "code",
   "outputs": [],
   "source": [
    "from agents.deep_q_learning import DeepQLearningAgent"
   ],
   "metadata": {
    "collapsed": false,
    "ExecuteTime": {
     "end_time": "2024-02-15T18:40:41.324490700Z",
     "start_time": "2024-02-15T18:40:41.223946Z"
    }
   },
   "id": "5b1f4b3952ac1ed4",
   "execution_count": 18
  },
  {
   "cell_type": "code",
   "outputs": [
    {
     "name": "stderr",
     "output_type": "stream",
     "text": [
      "C:\\Users\\enzol\\miniconda3\\envs\\drl_env\\lib\\site-packages\\keras\\initializers\\initializers_v2.py:120: UserWarning: The initializer HeUniform is unseeded and being called multiple times, which will return identical values  each time (even if the initializer is unseeded). Please update your code to provide a seed to the initializer, or avoid using the same initalizer instance more than once.\n",
      "  warnings.warn(\n"
     ]
    }
   ],
   "source": [
    "agent = DeepQLearningAgent(env, episodes=episodes, learning_rate=0.001)"
   ],
   "metadata": {
    "collapsed": false,
    "ExecuteTime": {
     "end_time": "2024-02-15T18:40:41.324490700Z",
     "start_time": "2024-02-15T18:40:41.240508300Z"
    }
   },
   "id": "64dcd69776e4a3b2",
   "execution_count": 19
  },
  {
   "cell_type": "code",
   "outputs": [
    {
     "name": "stdout",
     "output_type": "stream",
     "text": [
      "Episode 1/500, score: 1\n",
      "Episode 2/500, score: -1\n",
      "Episode 3/500, score: 1\n",
      "Episode 4/500, score: 1\n",
      "Episode 5/500, score: -1\n",
      "Episode 6/500, score: 1\n",
      "Episode 7/500, score: 1\n",
      "Episode 8/500, score: 1\n",
      "Episode 9/500, score: -1\n",
      "Episode 10/500, score: 1\n",
      "Episode 11/500, score: 1\n",
      "Episode 12/500, score: 1\n",
      "Episode 13/500, score: 1\n",
      "Episode 14/500, score: 1\n",
      "Episode 15/500, score: -1\n",
      "Episode 16/500, score: 1\n",
      "Episode 17/500, score: 1\n",
      "Episode 18/500, score: 1\n",
      "Episode 19/500, score: 1\n",
      "Episode 20/500, score: 1\n",
      "Episode 21/500, score: 0.5\n",
      "Episode 22/500, score: 1\n",
      "Episode 23/500, score: 1\n",
      "Episode 24/500, score: 0.5\n",
      "Episode 25/500, score: -1\n",
      "Episode 26/500, score: 1\n",
      "Episode 27/500, score: 1\n",
      "Episode 28/500, score: -1\n",
      "Episode 29/500, score: -1\n",
      "Episode 30/500, score: 1\n",
      "Episode 31/500, score: 1\n",
      "Episode 32/500, score: 1\n",
      "Episode 33/500, score: -1\n",
      "Episode 34/500, score: 0.5\n",
      "Episode 35/500, score: 1\n",
      "Episode 36/500, score: 1\n",
      "Episode 37/500, score: 0.5\n",
      "Episode 38/500, score: 1\n",
      "Episode 39/500, score: -1\n",
      "Episode 40/500, score: -1\n",
      "Episode 41/500, score: 1\n",
      "Episode 42/500, score: -1\n",
      "Episode 43/500, score: -1\n",
      "Episode 44/500, score: 1\n",
      "Episode 45/500, score: -1\n",
      "Episode 46/500, score: 0.5\n",
      "Episode 47/500, score: 1\n",
      "Episode 48/500, score: 0.5\n",
      "Episode 49/500, score: 0.5\n",
      "Episode 50/500, score: 1\n",
      "Episode 51/500, score: 1\n",
      "Episode 52/500, score: 1\n",
      "Episode 53/500, score: 0.5\n",
      "Episode 54/500, score: 1\n",
      "Episode 55/500, score: 1\n",
      "Episode 56/500, score: 1\n",
      "Episode 57/500, score: -1\n",
      "Episode 58/500, score: 0.5\n",
      "Episode 59/500, score: 1\n",
      "Episode 60/500, score: 1\n",
      "Episode 61/500, score: -1\n",
      "Episode 62/500, score: 1\n",
      "Episode 63/500, score: 1\n",
      "Episode 64/500, score: 0.5\n",
      "Episode 65/500, score: -1\n",
      "Episode 66/500, score: -1\n",
      "Episode 67/500, score: 0.5\n",
      "Episode 68/500, score: 1\n",
      "Episode 69/500, score: 1\n",
      "Episode 70/500, score: 1\n",
      "Episode 71/500, score: 1\n",
      "Episode 72/500, score: -1\n",
      "Episode 73/500, score: 1\n",
      "Episode 74/500, score: 1\n",
      "Episode 75/500, score: 1\n",
      "Episode 76/500, score: 1\n",
      "Episode 77/500, score: 1\n",
      "Episode 78/500, score: 1\n",
      "Episode 79/500, score: 0.5\n",
      "Episode 80/500, score: 0.5\n",
      "Episode 81/500, score: 1\n",
      "Episode 82/500, score: 1\n",
      "Episode 83/500, score: -1\n",
      "Episode 84/500, score: 1\n",
      "Episode 85/500, score: 0.5\n",
      "Episode 86/500, score: 1\n",
      "Episode 87/500, score: -1\n",
      "Episode 88/500, score: 1\n",
      "Episode 89/500, score: 1\n",
      "Episode 90/500, score: -1\n",
      "Episode 91/500, score: -1\n",
      "Episode 92/500, score: -1\n",
      "Episode 93/500, score: -1\n",
      "Episode 94/500, score: 1\n",
      "Episode 95/500, score: 1\n",
      "Episode 96/500, score: 1\n",
      "Episode 97/500, score: 0.5\n",
      "Episode 98/500, score: 0.5\n",
      "Episode 99/500, score: 1\n",
      "Episode 100/500, score: 1\n",
      "Episode 101/500, score: 1\n",
      "Episode 102/500, score: 1\n",
      "Episode 103/500, score: 0.5\n",
      "Episode 104/500, score: -1\n",
      "Episode 105/500, score: 1\n",
      "Episode 106/500, score: 1\n",
      "Episode 107/500, score: 0.5\n",
      "Episode 108/500, score: 1\n",
      "Episode 109/500, score: 0.5\n",
      "Episode 110/500, score: 0.5\n",
      "Episode 111/500, score: -1\n",
      "Episode 112/500, score: -1\n",
      "Episode 113/500, score: 1\n",
      "Episode 114/500, score: 1\n",
      "Episode 115/500, score: 1\n",
      "Episode 116/500, score: 1\n",
      "Episode 117/500, score: 0.5\n",
      "Episode 118/500, score: -1\n",
      "Episode 119/500, score: 1\n",
      "Episode 120/500, score: 0.5\n",
      "Episode 121/500, score: 0.5\n",
      "Episode 122/500, score: 1\n",
      "Episode 123/500, score: 1\n",
      "Episode 124/500, score: -1\n",
      "Episode 125/500, score: 0.5\n",
      "Episode 126/500, score: 1\n",
      "Episode 127/500, score: 0.5\n",
      "Episode 128/500, score: 1\n",
      "Episode 129/500, score: 1\n",
      "Episode 130/500, score: 1\n",
      "Episode 131/500, score: 1\n",
      "Episode 132/500, score: 1\n",
      "Episode 133/500, score: 1\n",
      "Episode 134/500, score: 1\n",
      "Episode 135/500, score: 1\n",
      "Episode 136/500, score: 1\n",
      "Episode 137/500, score: 1\n",
      "Episode 138/500, score: 1\n",
      "Episode 139/500, score: 0.5\n",
      "Episode 140/500, score: 1\n",
      "Episode 141/500, score: 1\n",
      "Episode 142/500, score: 1\n",
      "Episode 143/500, score: 1\n",
      "Episode 144/500, score: 1\n",
      "Episode 145/500, score: -1\n",
      "Episode 146/500, score: 1\n",
      "Episode 147/500, score: -1\n",
      "Episode 148/500, score: 0.5\n",
      "Episode 149/500, score: 1\n",
      "Episode 150/500, score: -1\n",
      "Episode 151/500, score: -1\n",
      "Episode 152/500, score: 1\n",
      "Episode 153/500, score: 0.5\n",
      "Episode 154/500, score: 0.5\n",
      "Episode 155/500, score: 1\n",
      "Episode 156/500, score: 1\n",
      "Episode 157/500, score: -1\n",
      "Episode 158/500, score: 1\n",
      "Episode 159/500, score: 1\n",
      "Episode 160/500, score: -1\n",
      "Episode 161/500, score: 0.5\n",
      "Episode 162/500, score: 0.5\n",
      "Episode 163/500, score: 0.5\n",
      "Episode 164/500, score: 0.5\n",
      "Episode 165/500, score: 0.5\n",
      "Episode 166/500, score: 0.5\n",
      "Episode 167/500, score: 1\n",
      "Episode 168/500, score: 1\n",
      "Episode 169/500, score: -1\n",
      "Episode 170/500, score: 1\n",
      "Episode 171/500, score: 0.5\n",
      "Episode 172/500, score: -1\n",
      "Episode 173/500, score: 0.5\n",
      "Episode 174/500, score: 1\n",
      "Episode 175/500, score: 1\n",
      "Episode 176/500, score: 0.5\n",
      "Episode 177/500, score: 0.5\n",
      "Episode 178/500, score: -1\n",
      "Episode 179/500, score: 1\n",
      "Episode 180/500, score: 1\n",
      "Episode 181/500, score: 1\n",
      "Episode 182/500, score: 0.5\n",
      "Episode 183/500, score: 1\n",
      "Episode 184/500, score: 0.5\n",
      "Episode 185/500, score: 1\n",
      "Episode 186/500, score: 1\n",
      "Episode 187/500, score: -1\n",
      "Episode 188/500, score: 1\n",
      "Episode 189/500, score: 1\n",
      "Episode 190/500, score: 1\n",
      "Episode 191/500, score: -1\n",
      "Episode 192/500, score: 1\n",
      "Episode 193/500, score: -1\n",
      "Episode 194/500, score: 0.5\n",
      "Episode 195/500, score: -1\n",
      "Episode 196/500, score: 0.5\n",
      "Episode 197/500, score: 0.5\n",
      "Episode 198/500, score: 1\n",
      "Episode 199/500, score: 1\n",
      "Episode 200/500, score: 1\n",
      "Episode 201/500, score: 0.5\n",
      "Episode 202/500, score: 1\n",
      "Episode 203/500, score: 0.5\n",
      "Episode 204/500, score: -1\n",
      "Episode 205/500, score: 1\n",
      "Episode 206/500, score: -1\n",
      "Episode 207/500, score: 0.5\n",
      "Episode 208/500, score: 0.5\n",
      "Episode 209/500, score: 1\n",
      "Episode 210/500, score: 1\n",
      "Episode 211/500, score: 1\n",
      "Episode 212/500, score: 1\n",
      "Episode 213/500, score: 0.5\n",
      "Episode 214/500, score: 1\n",
      "Episode 215/500, score: 1\n",
      "Episode 216/500, score: 1\n",
      "Episode 217/500, score: 0.5\n",
      "Episode 218/500, score: -1\n",
      "Episode 219/500, score: 1\n",
      "Episode 220/500, score: 0.5\n",
      "Episode 221/500, score: 0.5\n",
      "Episode 222/500, score: -1\n",
      "Episode 223/500, score: 1\n",
      "Episode 224/500, score: 0.5\n",
      "Episode 225/500, score: 1\n",
      "Episode 226/500, score: 0.5\n",
      "Episode 227/500, score: 1\n",
      "Episode 228/500, score: 1\n",
      "Episode 229/500, score: 0.5\n",
      "Episode 230/500, score: 1\n",
      "Episode 231/500, score: 1\n",
      "Episode 232/500, score: 1\n",
      "Episode 233/500, score: -1\n",
      "Episode 234/500, score: 1\n",
      "Episode 235/500, score: 1\n",
      "Episode 236/500, score: -1\n",
      "Episode 237/500, score: 1\n",
      "Episode 238/500, score: 0.5\n",
      "Episode 239/500, score: 1\n",
      "Episode 240/500, score: 0.5\n",
      "Episode 241/500, score: 1\n",
      "Episode 242/500, score: 1\n",
      "Episode 243/500, score: 0.5\n",
      "Episode 244/500, score: 0.5\n",
      "Episode 245/500, score: 1\n",
      "Episode 246/500, score: 1\n",
      "Episode 247/500, score: -1\n",
      "Episode 248/500, score: 0.5\n",
      "Episode 249/500, score: 1\n",
      "Episode 250/500, score: -1\n",
      "Episode 251/500, score: 0.5\n",
      "Episode 252/500, score: 1\n",
      "Episode 253/500, score: -1\n",
      "Episode 254/500, score: 0.5\n",
      "Episode 255/500, score: 1\n",
      "Episode 256/500, score: 1\n",
      "Episode 257/500, score: 1\n",
      "Episode 258/500, score: 1\n",
      "Episode 259/500, score: 1\n",
      "Episode 260/500, score: -1\n",
      "Episode 261/500, score: 1\n",
      "Episode 262/500, score: 1\n",
      "Episode 263/500, score: 1\n",
      "Episode 264/500, score: -1\n",
      "Episode 265/500, score: -1\n",
      "Episode 266/500, score: 1\n",
      "Episode 267/500, score: 0.5\n",
      "Episode 268/500, score: 1\n",
      "Episode 269/500, score: 1\n",
      "Episode 270/500, score: 0.5\n",
      "Episode 271/500, score: 0.5\n",
      "Episode 272/500, score: 1\n",
      "Episode 273/500, score: 1\n",
      "Episode 274/500, score: -1\n",
      "Episode 275/500, score: 0.5\n",
      "Episode 276/500, score: 1\n",
      "Episode 277/500, score: 1\n",
      "Episode 278/500, score: 1\n",
      "Episode 279/500, score: -1\n",
      "Episode 280/500, score: 1\n",
      "Episode 281/500, score: -1\n",
      "Episode 282/500, score: 1\n",
      "Episode 283/500, score: 1\n",
      "Episode 284/500, score: -1\n",
      "Episode 285/500, score: -1\n",
      "Episode 286/500, score: 0.5\n",
      "Episode 287/500, score: 1\n",
      "Episode 288/500, score: 1\n",
      "Episode 289/500, score: 1\n",
      "Episode 290/500, score: -1\n",
      "Episode 291/500, score: 1\n",
      "Episode 292/500, score: 1\n",
      "Episode 293/500, score: 1\n",
      "Episode 294/500, score: 1\n",
      "Episode 295/500, score: 1\n",
      "Episode 296/500, score: 0.5\n",
      "Episode 297/500, score: 0.5\n",
      "Episode 298/500, score: 1\n",
      "Episode 299/500, score: 1\n",
      "Episode 300/500, score: -1\n",
      "Episode 301/500, score: 0.5\n",
      "Episode 302/500, score: 1\n",
      "Episode 303/500, score: 1\n",
      "Episode 304/500, score: -1\n",
      "Episode 305/500, score: 1\n",
      "Episode 306/500, score: 0.5\n",
      "Episode 307/500, score: 1\n",
      "Episode 308/500, score: 1\n",
      "Episode 309/500, score: 1\n",
      "Episode 310/500, score: 0.5\n",
      "Episode 311/500, score: 0.5\n",
      "Episode 312/500, score: 0.5\n",
      "Episode 313/500, score: 1\n",
      "Episode 314/500, score: 1\n",
      "Episode 315/500, score: 0.5\n",
      "Episode 316/500, score: 1\n",
      "Episode 317/500, score: -1\n",
      "Episode 318/500, score: -1\n",
      "Episode 319/500, score: 1\n",
      "Episode 320/500, score: 1\n",
      "Episode 321/500, score: 1\n",
      "Episode 322/500, score: 1\n",
      "Episode 323/500, score: 1\n",
      "Episode 324/500, score: 1\n",
      "Episode 325/500, score: 1\n",
      "Episode 326/500, score: 1\n",
      "Episode 327/500, score: 1\n",
      "Episode 328/500, score: -1\n",
      "Episode 329/500, score: 1\n",
      "Episode 330/500, score: 0.5\n",
      "Episode 331/500, score: 1\n",
      "Episode 332/500, score: 1\n",
      "Episode 333/500, score: 0.5\n",
      "Episode 334/500, score: 1\n",
      "Episode 335/500, score: 1\n",
      "Episode 336/500, score: 0.5\n",
      "Episode 337/500, score: -1\n",
      "Episode 338/500, score: 1\n",
      "Episode 339/500, score: 1\n",
      "Episode 340/500, score: 0.5\n",
      "Episode 341/500, score: 1\n",
      "Episode 342/500, score: 1\n",
      "Episode 343/500, score: 1\n",
      "Episode 344/500, score: 1\n",
      "Episode 345/500, score: -1\n",
      "Episode 346/500, score: -1\n",
      "Episode 347/500, score: 0.5\n",
      "Episode 348/500, score: -1\n",
      "Episode 349/500, score: 1\n",
      "Episode 350/500, score: 1\n",
      "Episode 351/500, score: 1\n",
      "Episode 352/500, score: -1\n",
      "Episode 353/500, score: 1\n",
      "Episode 354/500, score: -1\n",
      "Episode 355/500, score: -1\n",
      "Episode 356/500, score: 1\n",
      "Episode 357/500, score: 0.5\n",
      "Episode 358/500, score: 1\n",
      "Episode 359/500, score: 1\n",
      "Episode 360/500, score: -1\n",
      "Episode 361/500, score: 0.5\n",
      "Episode 362/500, score: 1\n",
      "Episode 363/500, score: 1\n",
      "Episode 364/500, score: 1\n",
      "Episode 365/500, score: 0.5\n",
      "Episode 366/500, score: -1\n",
      "Episode 367/500, score: 1\n",
      "Episode 368/500, score: 1\n",
      "Episode 369/500, score: 1\n",
      "Episode 370/500, score: 1\n",
      "Episode 371/500, score: -1\n",
      "Episode 372/500, score: 1\n",
      "Episode 373/500, score: 1\n",
      "Episode 374/500, score: -1\n",
      "Episode 375/500, score: 1\n",
      "Episode 376/500, score: 1\n",
      "Episode 377/500, score: 1\n",
      "Episode 378/500, score: 1\n",
      "Episode 379/500, score: 1\n",
      "Episode 380/500, score: 0.5\n",
      "Episode 381/500, score: 1\n",
      "Episode 382/500, score: -1\n",
      "Episode 383/500, score: 1\n",
      "Episode 384/500, score: 1\n",
      "Episode 385/500, score: 1\n",
      "Episode 386/500, score: 1\n",
      "Episode 387/500, score: 1\n",
      "Episode 388/500, score: 1\n",
      "Episode 389/500, score: 0.5\n",
      "Episode 390/500, score: 1\n",
      "Episode 391/500, score: 0.5\n",
      "Episode 392/500, score: 0.5\n",
      "Episode 393/500, score: 1\n",
      "Episode 394/500, score: 0.5\n",
      "Episode 395/500, score: 0.5\n",
      "Episode 396/500, score: 0.5\n",
      "Episode 397/500, score: -1\n",
      "Episode 398/500, score: 0.5\n",
      "Episode 399/500, score: 0.5\n",
      "Episode 400/500, score: 0.5\n",
      "Episode 401/500, score: 0.5\n",
      "Episode 402/500, score: 1\n",
      "Episode 403/500, score: -1\n",
      "Episode 404/500, score: 1\n",
      "Episode 405/500, score: 0.5\n",
      "Episode 406/500, score: 0.5\n",
      "Episode 407/500, score: 1\n",
      "Episode 408/500, score: 0.5\n",
      "Episode 409/500, score: 0.5\n",
      "Episode 410/500, score: 1\n",
      "Episode 411/500, score: 1\n",
      "Episode 412/500, score: 1\n",
      "Episode 413/500, score: 1\n",
      "Episode 414/500, score: 1\n",
      "Episode 415/500, score: 1\n",
      "Episode 416/500, score: 1\n",
      "Episode 417/500, score: -1\n",
      "Episode 418/500, score: 1\n",
      "Episode 419/500, score: -1\n",
      "Episode 420/500, score: 1\n",
      "Episode 421/500, score: 1\n",
      "Episode 422/500, score: 0.5\n",
      "Episode 423/500, score: 1\n",
      "Episode 424/500, score: 0.5\n",
      "Episode 425/500, score: 1\n",
      "Episode 426/500, score: 1\n",
      "Episode 427/500, score: 1\n",
      "Episode 428/500, score: 1\n",
      "Episode 429/500, score: -1\n",
      "Episode 430/500, score: 1\n",
      "Episode 431/500, score: 0.5\n",
      "Episode 432/500, score: 0.5\n",
      "Episode 433/500, score: -1\n",
      "Episode 434/500, score: 1\n",
      "Episode 435/500, score: 0.5\n",
      "Episode 436/500, score: 1\n",
      "Episode 437/500, score: 1\n",
      "Episode 438/500, score: 0.5\n",
      "Episode 439/500, score: 0.5\n",
      "Episode 440/500, score: 0.5\n",
      "Episode 441/500, score: 1\n",
      "Episode 442/500, score: -1\n",
      "Episode 443/500, score: 1\n",
      "Episode 444/500, score: -1\n",
      "Episode 445/500, score: 1\n",
      "Episode 446/500, score: 1\n",
      "Episode 447/500, score: 0.5\n",
      "Episode 448/500, score: 0.5\n",
      "Episode 449/500, score: 1\n",
      "Episode 450/500, score: 1\n",
      "Episode 451/500, score: 1\n",
      "Episode 452/500, score: 1\n",
      "Episode 453/500, score: 1\n",
      "Episode 454/500, score: 1\n",
      "Episode 455/500, score: 1\n",
      "Episode 456/500, score: 1\n",
      "Episode 457/500, score: 1\n",
      "Episode 458/500, score: 1\n",
      "Episode 459/500, score: 0.5\n",
      "Episode 460/500, score: 0.5\n",
      "Episode 461/500, score: 0.5\n",
      "Episode 462/500, score: 0.5\n",
      "Episode 463/500, score: 1\n",
      "Episode 464/500, score: 1\n",
      "Episode 465/500, score: 1\n",
      "Episode 466/500, score: 1\n",
      "Episode 467/500, score: 1\n",
      "Episode 468/500, score: -1\n",
      "Episode 469/500, score: 1\n",
      "Episode 470/500, score: 0.5\n",
      "Episode 471/500, score: 1\n",
      "Episode 472/500, score: 1\n",
      "Episode 473/500, score: 0.5\n",
      "Episode 474/500, score: 0.5\n",
      "Episode 475/500, score: 1\n",
      "Episode 476/500, score: 1\n",
      "Episode 477/500, score: 1\n",
      "Episode 478/500, score: 1\n",
      "Episode 479/500, score: 0.5\n",
      "Episode 480/500, score: 1\n",
      "Episode 481/500, score: 0.5\n",
      "Episode 482/500, score: 0.5\n",
      "Episode 483/500, score: 1\n",
      "Episode 484/500, score: 1\n",
      "Episode 485/500, score: 1\n",
      "Episode 486/500, score: 1\n",
      "Episode 487/500, score: 0.5\n",
      "Episode 488/500, score: -1\n",
      "Episode 489/500, score: -1\n",
      "Episode 490/500, score: 1\n",
      "Episode 491/500, score: -1\n",
      "Episode 492/500, score: 1\n",
      "Episode 493/500, score: 1\n",
      "Episode 494/500, score: 1\n",
      "Episode 495/500, score: 1\n",
      "Episode 496/500, score: -1\n",
      "Episode 497/500, score: -1\n",
      "Episode 498/500, score: 1\n",
      "Episode 499/500, score: 1\n",
      "Episode 500/500, score: 0.5\n",
      "Moyenne des scores sur 500 épisodes: 0.516\n",
      "Temps moyen d'entraînement par épisode : 0.6 secondes.\n"
     ]
    },
    {
     "data": {
      "text/plain": "<Figure size 1600x600 with 1 Axes>",
      "image/png": "[encoded data removed]"
     },
     "metadata": {},
     "output_type": "display_data"
    },
    {
     "data": {
      "text/plain": "([1,\n  -1,\n  1,\n  1,\n  -1,\n  1,\n  1,\n  1,\n  -1,\n  1,\n  1,\n  1,\n  1,\n  1,\n  -1,\n  1,\n  1,\n  1,\n  1,\n  1,\n  0.5,\n  1,\n  1,\n  0.5,\n  -1,\n  1,\n  1,\n  -1,\n  -1,\n  1,\n  1,\n  1,\n  -1,\n  0.5,\n  1,\n  1,\n  0.5,\n  1,\n  -1,\n  -1,\n  1,\n  -1,\n  -1,\n  1,\n  -1,\n  0.5,\n  1,\n  0.5,\n  0.5,\n  1,\n  1,\n  1,\n  0.5,\n  1,\n  1,\n  1,\n  -1,\n  0.5,\n  1,\n  1,\n  -1,\n  1,\n  1,\n  0.5,\n  -1,\n  -1,\n  0.5,\n  1,\n  1,\n  1,\n  1,\n  -1,\n  1,\n  1,\n  1,\n  1,\n  1,\n  1,\n  0.5,\n  0.5,\n  1,\n  1,\n  -1,\n  1,\n  0.5,\n  1,\n  -1,\n  1,\n  1,\n  -1,\n  -1,\n  -1,\n  -1,\n  1,\n  1,\n  1,\n  0.5,\n  0.5,\n  1,\n  1,\n  1,\n  1,\n  0.5,\n  -1,\n  1,\n  1,\n  0.5,\n  1,\n  0.5,\n  0.5,\n  -1,\n  -1,\n  1,\n  1,\n  1,\n  1,\n  0.5,\n  -1,\n  1,\n  0.5,\n  0.5,\n  1,\n  1,\n  -1,\n  0.5,\n  1,\n  0.5,\n  1,\n  1,\n  1,\n  1,\n  1,\n  1,\n  1,\n  1,\n  1,\n  1,\n  1,\n  0.5,\n  1,\n  1,\n  1,\n  1,\n  1,\n  -1,\n  1,\n  -1,\n  0.5,\n  1,\n  -1,\n  -1,\n  1,\n  0.5,\n  0.5,\n  1,\n  1,\n  -1,\n  1,\n  1,\n  -1,\n  0.5,\n  0.5,\n  0.5,\n  0.5,\n  0.5,\n  0.5,\n  1,\n  1,\n  -1,\n  1,\n  0.5,\n  -1,\n  0.5,\n  1,\n  1,\n  0.5,\n  0.5,\n  -1,\n  1,\n  1,\n  1,\n  0.5,\n  1,\n  0.5,\n  1,\n  1,\n  -1,\n  1,\n  1,\n  1,\n  -1,\n  1,\n  -1,\n  0.5,\n  -1,\n  0.5,\n  0.5,\n  1,\n  1,\n  1,\n  0.5,\n  1,\n  0.5,\n  -1,\n  1,\n  -1,\n  0.5,\n  0.5,\n  1,\n  1,\n  1,\n  1,\n  0.5,\n  1,\n  1,\n  1,\n  0.5,\n  -1,\n  1,\n  0.5,\n  0.5,\n  -1,\n  1,\n  0.5,\n  1,\n  0.5,\n  1,\n  1,\n  0.5,\n  1,\n  1,\n  1,\n  -1,\n  1,\n  1,\n  -1,\n  1,\n  0.5,\n  1,\n  0.5,\n  1,\n  1,\n  0.5,\n  0.5,\n  1,\n  1,\n  -1,\n  0.5,\n  1,\n  -1,\n  0.5,\n  1,\n  -1,\n  0.5,\n  1,\n  1,\n  1,\n  1,\n  1,\n  -1,\n  1,\n  1,\n  1,\n  -1,\n  -1,\n  1,\n  0.5,\n  1,\n  1,\n  0.5,\n  0.5,\n  1,\n  1,\n  -1,\n  0.5,\n  1,\n  1,\n  1,\n  -1,\n  1,\n  -1,\n  1,\n  1,\n  -1,\n  -1,\n  0.5,\n  1,\n  1,\n  1,\n  -1,\n  1,\n  1,\n  1,\n  1,\n  1,\n  0.5,\n  0.5,\n  1,\n  1,\n  -1,\n  0.5,\n  1,\n  1,\n  -1,\n  1,\n  0.5,\n  1,\n  1,\n  1,\n  0.5,\n  0.5,\n  0.5,\n  1,\n  1,\n  0.5,\n  1,\n  -1,\n  -1,\n  1,\n  1,\n  1,\n  1,\n  1,\n  1,\n  1,\n  1,\n  1,\n  -1,\n  1,\n  0.5,\n  1,\n  1,\n  0.5,\n  1,\n  1,\n  0.5,\n  -1,\n  1,\n  1,\n  0.5,\n  1,\n  1,\n  1,\n  1,\n  -1,\n  -1,\n  0.5,\n  -1,\n  1,\n  1,\n  1,\n  -1,\n  1,\n  -1,\n  -1,\n  1,\n  0.5,\n  1,\n  1,\n  -1,\n  0.5,\n  1,\n  1,\n  1,\n  0.5,\n  -1,\n  1,\n  1,\n  1,\n  1,\n  -1,\n  1,\n  1,\n  -1,\n  1,\n  1,\n  1,\n  1,\n  1,\n  0.5,\n  1,\n  -1,\n  1,\n  1,\n  1,\n  1,\n  1,\n  1,\n  0.5,\n  1,\n  0.5,\n  0.5,\n  1,\n  0.5,\n  0.5,\n  0.5,\n  -1,\n  0.5,\n  0.5,\n  0.5,\n  0.5,\n  1,\n  -1,\n  1,\n  0.5,\n  0.5,\n  1,\n  0.5,\n  0.5,\n  1,\n  1,\n  1,\n  1,\n  1,\n  1,\n  1,\n  -1,\n  1,\n  -1,\n  1,\n  1,\n  0.5,\n  1,\n  0.5,\n  1,\n  1,\n  1,\n  1,\n  -1,\n  1,\n  0.5,\n  0.5,\n  -1,\n  1,\n  0.5,\n  1,\n  1,\n  0.5,\n  0.5,\n  0.5,\n  1,\n  -1,\n  1,\n  -1,\n  1,\n  1,\n  0.5,\n  0.5,\n  1,\n  1,\n  1,\n  1,\n  1,\n  1,\n  1,\n  1,\n  1,\n  1,\n  0.5,\n  0.5,\n  0.5,\n  0.5,\n  1,\n  1,\n  1,\n  1,\n  1,\n  -1,\n  1,\n  0.5,\n  1,\n  1,\n  0.5,\n  0.5,\n  1,\n  1,\n  1,\n  1,\n  0.5,\n  1,\n  0.5,\n  0.5,\n  1,\n  1,\n  1,\n  1,\n  0.5,\n  -1,\n  -1,\n  1,\n  -1,\n  1,\n  1,\n  1,\n  1,\n  -1,\n  -1,\n  1,\n  1,\n  0.5],\n [1.1563000679016113,\n  0.5091230869293213,\n  0.5290539264678955,\n  0.5203368663787842,\n  0.5261063575744629,\n  0.6633501052856445,\n  0.5348596572875977,\n  0.5301012992858887,\n  0.3984494209289551,\n  0.5027501583099365,\n  0.5151994228363037,\n  0.6572439670562744,\n  0.6520378589630127,\n  0.5269467830657959,\n  0.4936864376068115,\n  0.6547272205352783,\n  0.5259804725646973,\n  0.6356008052825928,\n  0.5294971466064453,\n  0.5321457386016846,\n  0.6439502239227295,\n  0.4547567367553711,\n  0.5805063247680664,\n  0.6511750221252441,\n  0.5468130111694336,\n  0.6438863277435303,\n  0.7633626461029053,\n  0.42877697944641113,\n  0.5141341686248779,\n  0.33591365814208984,\n  0.5260241031646729,\n  0.6977739334106445,\n  0.549199104309082,\n  0.6764090061187744,\n  0.6784327030181885,\n  0.668257474899292,\n  0.7740561962127686,\n  0.6405599117279053,\n  0.5216188430786133,\n  0.39296817779541016,\n  0.6198933124542236,\n  0.41508030891418457,\n  0.40570735931396484,\n  0.5148332118988037,\n  0.3914802074432373,\n  0.628664493560791,\n  0.6628589630126953,\n  0.6329114437103271,\n  0.7038123607635498,\n  0.4964148998260498,\n  0.5015146732330322,\n  0.6573989391326904,\n  0.658005952835083,\n  0.6310646533966064,\n  0.674893856048584,\n  0.6238517761230469,\n  0.4968531131744385,\n  0.626378059387207,\n  0.5829582214355469,\n  0.6515469551086426,\n  0.5375902652740479,\n  0.6549594402313232,\n  0.6610667705535889,\n  0.5973527431488037,\n  0.4026312828063965,\n  0.5463244915008545,\n  0.6271312236785889,\n  0.6643667221069336,\n  0.6632285118103027,\n  0.503612756729126,\n  0.6431064605712891,\n  0.4960193634033203,\n  0.6547219753265381,\n  0.3637104034423828,\n  0.6702306270599365,\n  0.6323785781860352,\n  0.6582307815551758,\n  0.5237228870391846,\n  0.7003347873687744,\n  0.6374335289001465,\n  0.6250472068786621,\n  0.5310742855072021,\n  0.6761648654937744,\n  0.373077392578125,\n  0.6728825569152832,\n  0.6887235641479492,\n  0.5364420413970947,\n  0.51438307762146,\n  0.6370887756347656,\n  0.505169153213501,\n  0.4200618267059326,\n  0.5342772006988525,\n  0.5389037132263184,\n  0.6593565940856934,\n  0.5261781215667725,\n  0.6592333316802979,\n  0.6587707996368408,\n  0.6860973834991455,\n  0.6737620830535889,\n  0.641533374786377,\n  0.6820178031921387,\n  0.5681166648864746,\n  0.6696057319641113,\n  0.5289831161499023,\n  0.6040098667144775,\n  0.6574187278747559,\n  0.6018068790435791,\n  0.6898643970489502,\n  0.63954758644104,\n  0.6345963478088379,\n  0.5431885719299316,\n  0.5451223850250244,\n  0.4986555576324463,\n  0.6409409046173096,\n  0.6640441417694092,\n  0.5408985614776611,\n  0.6721014976501465,\n  0.40868449211120605,\n  0.671926736831665,\n  0.6881914138793945,\n  0.7253351211547852,\n  0.6906728744506836,\n  0.6902892589569092,\n  0.3699221611022949,\n  0.6501209735870361,\n  0.6781210899353027,\n  0.6563475131988525,\n  0.8158872127532959,\n  0.7006955146789551,\n  0.5632150173187256,\n  0.7003681659698486,\n  0.6223175525665283,\n  0.6737930774688721,\n  0.6909816265106201,\n  0.633171558380127,\n  0.645470142364502,\n  0.6797749996185303,\n  0.667841911315918,\n  0.6941077709197998,\n  0.7055258750915527,\n  0.7040383815765381,\n  0.6705632209777832,\n  0.7203137874603271,\n  0.659553050994873,\n  0.3937215805053711,\n  0.6622169017791748,\n  0.5219213962554932,\n  0.6161272525787354,\n  0.47789669036865234,\n  0.5181853771209717,\n  0.35592079162597656,\n  0.6567530632019043,\n  0.6549079418182373,\n  0.7288093566894531,\n  0.5382530689239502,\n  0.6605842113494873,\n  0.40175604820251465,\n  0.616663932800293,\n  0.6702659130096436,\n  0.3924887180328369,\n  0.6516423225402832,\n  0.6411020755767822,\n  0.6842494010925293,\n  0.6490609645843506,\n  0.6224441528320312,\n  0.6126487255096436,\n  0.6489510536193848,\n  0.6342239379882812,\n  0.3230879306793213,\n  0.6347928047180176,\n  0.6065912246704102,\n  0.671302318572998,\n  0.615689754486084,\n  0.6360683441162109,\n  0.6431241035461426,\n  0.6237397193908691,\n  0.6553497314453125,\n  0.4917714595794678,\n  0.6380023956298828,\n  0.6550180912017822,\n  0.613131046295166,\n  0.6142349243164062,\n  0.581209659576416,\n  0.6599113941192627,\n  0.5788009166717529,\n  0.48363590240478516,\n  0.48560094833374023,\n  0.4877934455871582,\n  0.619734525680542,\n  0.6419689655303955,\n  0.5112431049346924,\n  0.48481130599975586,\n  0.5443065166473389,\n  0.617267370223999,\n  0.4847757816314697,\n  0.6475768089294434,\n  0.6460556983947754,\n  0.6412184238433838,\n  0.6428813934326172,\n  0.6764829158782959,\n  0.6527132987976074,\n  0.643197774887085,\n  0.6438455581665039,\n  0.4642148017883301,\n  0.6433827877044678,\n  0.512575626373291,\n  0.6577825546264648,\n  0.6674542427062988,\n  0.627183198928833,\n  0.6438775062561035,\n  0.6433689594268799,\n  0.5903189182281494,\n  0.6121206283569336,\n  0.6017768383026123,\n  0.7792527675628662,\n  0.6463408470153809,\n  0.6921994686126709,\n  0.38750123977661133,\n  0.5099356174468994,\n  0.6628494262695312,\n  0.6554214954376221,\n  0.5170345306396484,\n  0.6467869281768799,\n  0.6431820392608643,\n  0.5899002552032471,\n  0.6473560333251953,\n  0.45078063011169434,\n  0.6562623977661133,\n  0.6176121234893799,\n  0.5094871520996094,\n  0.5960419178009033,\n  0.47783493995666504,\n  0.4560368061065674,\n  0.6384689807891846,\n  0.5853271484375,\n  0.34682774543762207,\n  0.6470575332641602,\n  0.6627507209777832,\n  0.6448912620544434,\n  0.6409680843353271,\n  0.663262128829956,\n  0.6502017974853516,\n  0.6567864418029785,\n  0.6520581245422363,\n  0.5961527824401855,\n  0.6403853893280029,\n  0.3958454132080078,\n  0.6298644542694092,\n  0.5119514465332031,\n  0.3825514316558838,\n  0.6107175350189209,\n  0.6656351089477539,\n  0.47414588928222656,\n  0.6307721138000488,\n  0.3560903072357178,\n  0.6329319477081299,\n  0.5065674781799316,\n  0.5308837890625,\n  0.6463415622711182,\n  0.6751651763916016,\n  0.656205415725708,\n  0.6637060642242432,\n  0.6804635524749756,\n  0.4877476692199707,\n  0.5217006206512451,\n  0.6466712951660156,\n  0.6208853721618652,\n  0.6304843425750732,\n  0.6904590129852295,\n  0.6864829063415527,\n  0.6790430545806885,\n  0.7136392593383789,\n  0.5275206565856934,\n  0.5193357467651367,\n  0.6534466743469238,\n  0.3570370674133301,\n  0.5478992462158203,\n  0.6554148197174072,\n  0.48558855056762695,\n  0.4891390800476074,\n  0.5173130035400391,\n  0.6684515476226807,\n  0.6555352210998535,\n  0.4899768829345703,\n  0.3887326717376709,\n  0.6326689720153809,\n  0.6475412845611572,\n  0.6660404205322266,\n  0.6195583343505859,\n  0.3843352794647217,\n  0.7047393321990967,\n  0.6186037063598633,\n  0.6520273685455322,\n  0.6397132873535156,\n  0.6337661743164062,\n  0.6341538429260254,\n  0.6384220123291016,\n  0.6384668350219727,\n  0.6452393531799316,\n  0.516181230545044,\n  0.6433868408203125,\n  0.6137447357177734,\n  0.6261422634124756,\n  0.6260852813720703,\n  0.6372530460357666,\n  0.6638081073760986,\n  0.6552932262420654,\n  0.6366763114929199,\n  0.655116081237793,\n  0.6518735885620117,\n  0.6382858753204346,\n  0.641826868057251,\n  0.6441740989685059,\n  0.6109495162963867,\n  0.6382157802581787,\n  0.6697068214416504,\n  0.5094015598297119,\n  0.5215356349945068,\n  0.659581184387207,\n  0.7013688087463379,\n  0.48134374618530273,\n  0.6775000095367432,\n  0.5250899791717529,\n  0.6219842433929443,\n  0.6557235717773438,\n  0.6362066268920898,\n  0.6605162620544434,\n  0.48296642303466797,\n  0.645761251449585,\n  0.6759426593780518,\n  0.6146912574768066,\n  0.6168420314788818,\n  0.6041691303253174,\n  0.6572737693786621,\n  0.6493449211120605,\n  0.629277229309082,\n  0.3900892734527588,\n  0.6711270809173584,\n  0.6867861747741699,\n  0.6610805988311768,\n  0.545090913772583,\n  0.6763734817504883,\n  0.6758890151977539,\n  0.6471669673919678,\n  0.4883136749267578,\n  0.396589994430542,\n  0.8176858425140381,\n  0.40128397941589355,\n  0.6668736934661865,\n  0.6518850326538086,\n  0.7086794376373291,\n  0.5222945213317871,\n  0.4991288185119629,\n  0.5217547416687012,\n  0.534299373626709,\n  0.6646053791046143,\n  0.6429274082183838,\n  0.5009322166442871,\n  0.6341855525970459,\n  0.49622249603271484,\n  0.6718854904174805,\n  0.6718578338623047,\n  0.5310654640197754,\n  0.6788547039031982,\n  0.6515705585479736,\n  0.5441882610321045,\n  0.668912410736084,\n  0.6635191440582275,\n  0.667743444442749,\n  0.4919755458831787,\n  0.3861992359161377,\n  0.6651492118835449,\n  0.34454870223999023,\n  0.5281603336334229,\n  0.6366381645202637,\n  0.6705112457275391,\n  0.6446051597595215,\n  0.49194884300231934,\n  0.6882655620574951,\n  0.6232776641845703,\n  0.6378726959228516,\n  0.5081028938293457,\n  0.6221604347229004,\n  0.665677547454834,\n  0.6856749057769775,\n  0.6819102764129639,\n  0.5534398555755615,\n  0.6562514305114746,\n  0.6832540035247803,\n  0.49077749252319336,\n  0.6496472358703613,\n  0.8110768795013428,\n  0.5980253219604492,\n  0.6500799655914307,\n  0.6730470657348633,\n  0.6303868293762207,\n  0.3790585994720459,\n  0.6231586933135986,\n  0.6561999320983887,\n  0.6701164245605469,\n  0.6157040596008301,\n  0.5845382213592529,\n  0.38161516189575195,\n  0.3288559913635254,\n  0.6619057655334473,\n  0.6545155048370361,\n  0.6089498996734619,\n  0.6175158023834229,\n  0.6631522178649902,\n  0.6416864395141602,\n  0.6448419094085693,\n  0.6298446655273438,\n  0.6437418460845947,\n  0.6198930740356445,\n  0.6669657230377197,\n  0.7545135021209717,\n  0.55322265625,\n  0.6414780616760254,\n  0.5581827163696289,\n  0.4877588748931885,\n  0.6642348766326904,\n  0.6127974987030029,\n  0.6621794700622559,\n  0.6093263626098633,\n  0.4733884334564209,\n  0.645064115524292,\n  0.6289706230163574,\n  0.6564619541168213,\n  0.521331787109375,\n  0.6487796306610107,\n  0.6184563636779785,\n  0.6813709735870361,\n  0.47920751571655273,\n  0.6463754177093506,\n  0.6268336772918701,\n  0.8052396774291992,\n  0.4758179187774658,\n  0.6454446315765381,\n  0.6567380428314209,\n  0.6677572727203369,\n  0.6670591831207275,\n  0.4890134334564209,\n  0.48813629150390625,\n  0.406294584274292,\n  0.5182960033416748,\n  0.6261141300201416,\n  0.6505193710327148,\n  0.6086447238922119,\n  0.6865890026092529,\n  0.6367855072021484,\n  0.6485555171966553,\n  0.6160573959350586,\n  0.6594047546386719,\n  0.6543734073638916,\n  0.6447663307189941,\n  0.6477055549621582,\n  0.6405467987060547,\n  0.5914890766143799,\n  0.6106951236724854,\n  0.6742739677429199,\n  0.6168286800384521,\n  0.6011605262756348,\n  0.6494507789611816,\n  0.6424713134765625,\n  0.627185583114624,\n  0.5214004516601562,\n  0.6110084056854248,\n  0.48859643936157227,\n  0.708118200302124,\n  0.7315022945404053,\n  0.6532039642333984,\n  0.6391534805297852,\n  0.6651191711425781,\n  0.6405987739562988,\n  0.6527383327484131,\n  0.6702706813812256,\n  0.6572737693786621,\n  0.7504420280456543,\n  0.6473572254180908,\n  0.6221413612365723,\n  0.5941970348358154,\n  0.6531000137329102,\n  0.6397712230682373,\n  0.64512038230896,\n  0.6569933891296387,\n  0.636899471282959,\n  0.5856122970581055,\n  0.48424315452575684,\n  0.4849848747253418,\n  0.6445789337158203,\n  0.47675108909606934,\n  0.6022655963897705,\n  0.6311345100402832,\n  0.6911108493804932,\n  0.6137332916259766,\n  0.3868725299835205,\n  0.3781702518463135,\n  0.6417632102966309,\n  0.6141183376312256,\n  0.6160740852355957])"
     },
     "execution_count": 20,
     "metadata": {},
     "output_type": "execute_result"
    }
   ],
   "source": [
    "agent.train()"
   ],
   "metadata": {
    "collapsed": false,
    "ExecuteTime": {
     "end_time": "2024-02-15T18:45:42.464429Z",
     "start_time": "2024-02-15T18:40:41.318458400Z"
    }
   },
   "id": "8302de1f48410687",
   "execution_count": 20
  },
  {
   "cell_type": "code",
   "outputs": [
    {
     "name": "stderr",
     "output_type": "stream",
     "text": [
      "  0%|          | 2/500 [00:00<01:18,  6.31it/s]"
     ]
    },
    {
     "name": "stdout",
     "output_type": "stream",
     "text": [
      "Episode 1/500, score: 0.5\n",
      "Episode 2/500, score: 1\n"
     ]
    },
    {
     "name": "stderr",
     "output_type": "stream",
     "text": [
      "  1%|          | 4/500 [00:00<01:19,  6.23it/s]"
     ]
    },
    {
     "name": "stdout",
     "output_type": "stream",
     "text": [
      "Episode 3/500, score: 1\n",
      "Episode 4/500, score: 1\n"
     ]
    },
    {
     "name": "stderr",
     "output_type": "stream",
     "text": [
      "  1%|          | 6/500 [00:00<01:18,  6.32it/s]"
     ]
    },
    {
     "name": "stdout",
     "output_type": "stream",
     "text": [
      "Episode 5/500, score: 0.5\n",
      "Episode 6/500, score: 0.5\n"
     ]
    },
    {
     "name": "stderr",
     "output_type": "stream",
     "text": [
      "  2%|▏         | 8/500 [00:01<01:17,  6.39it/s]"
     ]
    },
    {
     "name": "stdout",
     "output_type": "stream",
     "text": [
      "Episode 7/500, score: 1\n",
      "Episode 8/500, score: 0.5\n"
     ]
    },
    {
     "name": "stderr",
     "output_type": "stream",
     "text": [
      "  2%|▏         | 9/500 [00:01<01:24,  5.83it/s]"
     ]
    },
    {
     "name": "stdout",
     "output_type": "stream",
     "text": [
      "Episode 9/500, score: 1\n",
      "Episode 10/500, score: -1\n"
     ]
    },
    {
     "name": "stderr",
     "output_type": "stream",
     "text": [
      "  2%|▏         | 12/500 [00:01<01:12,  6.72it/s]"
     ]
    },
    {
     "name": "stdout",
     "output_type": "stream",
     "text": [
      "Episode 11/500, score: -1\n",
      "Episode 12/500, score: 0.5\n"
     ]
    },
    {
     "name": "stderr",
     "output_type": "stream",
     "text": [
      "  3%|▎         | 14/500 [00:02<01:14,  6.52it/s]"
     ]
    },
    {
     "name": "stdout",
     "output_type": "stream",
     "text": [
      "Episode 13/500, score: 1\n",
      "Episode 14/500, score: 1\n"
     ]
    },
    {
     "name": "stderr",
     "output_type": "stream",
     "text": [
      "  3%|▎         | 16/500 [00:02<01:15,  6.40it/s]"
     ]
    },
    {
     "name": "stdout",
     "output_type": "stream",
     "text": [
      "Episode 15/500, score: 1\n",
      "Episode 16/500, score: 1\n"
     ]
    },
    {
     "name": "stderr",
     "output_type": "stream",
     "text": [
      "  4%|▎         | 18/500 [00:02<01:17,  6.23it/s]"
     ]
    },
    {
     "name": "stdout",
     "output_type": "stream",
     "text": [
      "Episode 17/500, score: 1\n",
      "Episode 18/500, score: 1\n"
     ]
    },
    {
     "name": "stderr",
     "output_type": "stream",
     "text": [
      "  4%|▍         | 20/500 [00:03<01:17,  6.20it/s]"
     ]
    },
    {
     "name": "stdout",
     "output_type": "stream",
     "text": [
      "Episode 19/500, score: 1\n",
      "Episode 20/500, score: 1\n"
     ]
    },
    {
     "name": "stderr",
     "output_type": "stream",
     "text": [
      "  4%|▍         | 22/500 [00:03<01:15,  6.32it/s]"
     ]
    },
    {
     "name": "stdout",
     "output_type": "stream",
     "text": [
      "Episode 21/500, score: 1\n",
      "Episode 22/500, score: 0.5\n"
     ]
    },
    {
     "name": "stderr",
     "output_type": "stream",
     "text": [
      "  5%|▍         | 24/500 [00:03<01:12,  6.54it/s]"
     ]
    },
    {
     "name": "stdout",
     "output_type": "stream",
     "text": [
      "Episode 23/500, score: 1\n",
      "Episode 24/500, score: 1\n"
     ]
    },
    {
     "name": "stderr",
     "output_type": "stream",
     "text": [
      "  5%|▌         | 26/500 [00:04<01:14,  6.38it/s]"
     ]
    },
    {
     "name": "stdout",
     "output_type": "stream",
     "text": [
      "Episode 25/500, score: 0.5\n",
      "Episode 26/500, score: 1\n"
     ]
    },
    {
     "name": "stderr",
     "output_type": "stream",
     "text": [
      "  6%|▌         | 28/500 [00:04<01:13,  6.38it/s]"
     ]
    },
    {
     "name": "stdout",
     "output_type": "stream",
     "text": [
      "Episode 27/500, score: 0.5\n",
      "Episode 28/500, score: 1\n"
     ]
    },
    {
     "name": "stderr",
     "output_type": "stream",
     "text": [
      "  6%|▌         | 30/500 [00:04<01:13,  6.37it/s]"
     ]
    },
    {
     "name": "stdout",
     "output_type": "stream",
     "text": [
      "Episode 29/500, score: 1\n",
      "Episode 30/500, score: 1\n"
     ]
    },
    {
     "name": "stderr",
     "output_type": "stream",
     "text": [
      "  6%|▋         | 32/500 [00:04<01:10,  6.64it/s]"
     ]
    },
    {
     "name": "stdout",
     "output_type": "stream",
     "text": [
      "Episode 31/500, score: 1\n",
      "Episode 32/500, score: 1\n"
     ]
    },
    {
     "name": "stderr",
     "output_type": "stream",
     "text": [
      "  7%|▋         | 34/500 [00:05<01:11,  6.52it/s]"
     ]
    },
    {
     "name": "stdout",
     "output_type": "stream",
     "text": [
      "Episode 33/500, score: 1\n",
      "Episode 34/500, score: 1\n"
     ]
    },
    {
     "name": "stderr",
     "output_type": "stream",
     "text": [
      "  7%|▋         | 36/500 [00:05<01:09,  6.71it/s]"
     ]
    },
    {
     "name": "stdout",
     "output_type": "stream",
     "text": [
      "Episode 35/500, score: -1\n",
      "Episode 36/500, score: 1\n"
     ]
    },
    {
     "name": "stderr",
     "output_type": "stream",
     "text": [
      "  8%|▊         | 38/500 [00:05<01:13,  6.29it/s]"
     ]
    },
    {
     "name": "stdout",
     "output_type": "stream",
     "text": [
      "Episode 37/500, score: 1\n",
      "Episode 38/500, score: 1\n"
     ]
    },
    {
     "name": "stderr",
     "output_type": "stream",
     "text": [
      "  8%|▊         | 40/500 [00:06<01:12,  6.36it/s]"
     ]
    },
    {
     "name": "stdout",
     "output_type": "stream",
     "text": [
      "Episode 39/500, score: 0.5\n",
      "Episode 40/500, score: 0.5\n"
     ]
    },
    {
     "name": "stderr",
     "output_type": "stream",
     "text": [
      "  8%|▊         | 42/500 [00:06<01:12,  6.30it/s]"
     ]
    },
    {
     "name": "stdout",
     "output_type": "stream",
     "text": [
      "Episode 41/500, score: 0.5\n",
      "Episode 42/500, score: 1\n"
     ]
    },
    {
     "name": "stderr",
     "output_type": "stream",
     "text": [
      "  9%|▉         | 44/500 [00:06<01:12,  6.31it/s]"
     ]
    },
    {
     "name": "stdout",
     "output_type": "stream",
     "text": [
      "Episode 43/500, score: 1\n",
      "Episode 44/500, score: 1\n"
     ]
    },
    {
     "name": "stderr",
     "output_type": "stream",
     "text": [
      "  9%|▉         | 46/500 [00:07<01:12,  6.26it/s]"
     ]
    },
    {
     "name": "stdout",
     "output_type": "stream",
     "text": [
      "Episode 45/500, score: 0.5\n",
      "Episode 46/500, score: 1\n"
     ]
    },
    {
     "name": "stderr",
     "output_type": "stream",
     "text": [
      " 10%|▉         | 48/500 [00:07<01:12,  6.20it/s]"
     ]
    },
    {
     "name": "stdout",
     "output_type": "stream",
     "text": [
      "Episode 47/500, score: 1\n",
      "Episode 48/500, score: 1\n"
     ]
    },
    {
     "name": "stderr",
     "output_type": "stream",
     "text": [
      " 10%|█         | 50/500 [00:07<01:07,  6.63it/s]"
     ]
    },
    {
     "name": "stdout",
     "output_type": "stream",
     "text": [
      "Episode 49/500, score: 0.5\n",
      "Episode 50/500, score: -1\n"
     ]
    },
    {
     "name": "stderr",
     "output_type": "stream",
     "text": [
      " 10%|█         | 52/500 [00:08<01:04,  6.93it/s]"
     ]
    },
    {
     "name": "stdout",
     "output_type": "stream",
     "text": [
      "Episode 51/500, score: 1\n",
      "Episode 52/500, score: 1\n"
     ]
    },
    {
     "name": "stderr",
     "output_type": "stream",
     "text": [
      " 11%|█         | 53/500 [00:08<01:06,  6.74it/s]"
     ]
    },
    {
     "name": "stdout",
     "output_type": "stream",
     "text": [
      "Episode 53/500, score: 0.5\n",
      "Episode 54/500, score: -1\n"
     ]
    },
    {
     "name": "stderr",
     "output_type": "stream",
     "text": [
      " 11%|█         | 55/500 [00:08<01:01,  7.26it/s]"
     ]
    },
    {
     "name": "stdout",
     "output_type": "stream",
     "text": [
      "Episode 55/500, score: 1\n",
      "Episode 56/500, score: -1\n"
     ]
    },
    {
     "name": "stderr",
     "output_type": "stream",
     "text": [
      " 12%|█▏        | 58/500 [00:08<01:02,  7.05it/s]"
     ]
    },
    {
     "name": "stdout",
     "output_type": "stream",
     "text": [
      "Episode 57/500, score: 0.5\n",
      "Episode 58/500, score: 0.5\n"
     ]
    },
    {
     "name": "stderr",
     "output_type": "stream",
     "text": [
      " 12%|█▏        | 59/500 [00:09<01:04,  6.81it/s]"
     ]
    },
    {
     "name": "stdout",
     "output_type": "stream",
     "text": [
      "Episode 59/500, score: 0.5\n",
      "Episode 60/500, score: -1\n"
     ]
    },
    {
     "name": "stderr",
     "output_type": "stream",
     "text": [
      " 12%|█▏        | 62/500 [00:09<00:59,  7.37it/s]"
     ]
    },
    {
     "name": "stdout",
     "output_type": "stream",
     "text": [
      "Episode 61/500, score: 1\n",
      "Episode 62/500, score: -1\n"
     ]
    },
    {
     "name": "stderr",
     "output_type": "stream",
     "text": [
      " 13%|█▎        | 64/500 [00:09<01:03,  6.83it/s]"
     ]
    },
    {
     "name": "stdout",
     "output_type": "stream",
     "text": [
      "Episode 63/500, score: 1\n",
      "Episode 64/500, score: 1\n"
     ]
    },
    {
     "name": "stderr",
     "output_type": "stream",
     "text": [
      " 13%|█▎        | 66/500 [00:10<01:04,  6.77it/s]"
     ]
    },
    {
     "name": "stdout",
     "output_type": "stream",
     "text": [
      "Episode 65/500, score: -1\n",
      "Episode 66/500, score: 1\n"
     ]
    },
    {
     "name": "stderr",
     "output_type": "stream",
     "text": [
      " 14%|█▎        | 68/500 [00:10<01:00,  7.19it/s]"
     ]
    },
    {
     "name": "stdout",
     "output_type": "stream",
     "text": [
      "Episode 67/500, score: -1\n",
      "Episode 68/500, score: 0.5\n"
     ]
    },
    {
     "name": "stderr",
     "output_type": "stream",
     "text": [
      " 14%|█▍        | 70/500 [00:10<01:03,  6.74it/s]"
     ]
    },
    {
     "name": "stdout",
     "output_type": "stream",
     "text": [
      "Episode 69/500, score: 0.5\n",
      "Episode 70/500, score: 1\n"
     ]
    },
    {
     "name": "stderr",
     "output_type": "stream",
     "text": [
      " 14%|█▍        | 72/500 [00:10<01:06,  6.46it/s]"
     ]
    },
    {
     "name": "stdout",
     "output_type": "stream",
     "text": [
      "Episode 71/500, score: 0.5\n",
      "Episode 72/500, score: 0.5\n"
     ]
    },
    {
     "name": "stderr",
     "output_type": "stream",
     "text": [
      " 15%|█▍        | 74/500 [00:11<01:07,  6.35it/s]"
     ]
    },
    {
     "name": "stdout",
     "output_type": "stream",
     "text": [
      "Episode 73/500, score: 1\n",
      "Episode 74/500, score: 1\n"
     ]
    },
    {
     "name": "stderr",
     "output_type": "stream",
     "text": [
      " 15%|█▌        | 76/500 [00:11<01:07,  6.32it/s]"
     ]
    },
    {
     "name": "stdout",
     "output_type": "stream",
     "text": [
      "Episode 75/500, score: 1\n",
      "Episode 76/500, score: 0.5\n"
     ]
    },
    {
     "name": "stderr",
     "output_type": "stream",
     "text": [
      " 16%|█▌        | 78/500 [00:11<01:04,  6.59it/s]"
     ]
    },
    {
     "name": "stdout",
     "output_type": "stream",
     "text": [
      "Episode 77/500, score: 1\n",
      "Episode 78/500, score: -1\n"
     ]
    },
    {
     "name": "stderr",
     "output_type": "stream",
     "text": [
      " 16%|█▌        | 79/500 [00:12<01:22,  5.07it/s]"
     ]
    },
    {
     "name": "stdout",
     "output_type": "stream",
     "text": [
      "Episode 79/500, score: 0.5\n",
      "Episode 80/500, score: -1\n"
     ]
    },
    {
     "name": "stderr",
     "output_type": "stream",
     "text": [
      " 16%|█▋        | 82/500 [00:12<01:07,  6.16it/s]"
     ]
    },
    {
     "name": "stdout",
     "output_type": "stream",
     "text": [
      "Episode 81/500, score: 1\n",
      "Episode 82/500, score: 1\n"
     ]
    },
    {
     "name": "stderr",
     "output_type": "stream",
     "text": [
      " 17%|█▋        | 84/500 [00:12<00:56,  7.37it/s]"
     ]
    },
    {
     "name": "stdout",
     "output_type": "stream",
     "text": [
      "Episode 83/500, score: -1\n",
      "Episode 84/500, score: -1\n"
     ]
    },
    {
     "name": "stderr",
     "output_type": "stream",
     "text": [
      " 17%|█▋        | 85/500 [00:13<00:59,  7.03it/s]"
     ]
    },
    {
     "name": "stdout",
     "output_type": "stream",
     "text": [
      "Episode 85/500, score: 0.5\n",
      "Episode 86/500, score: -1\n"
     ]
    },
    {
     "name": "stderr",
     "output_type": "stream",
     "text": [
      " 18%|█▊        | 88/500 [00:13<00:57,  7.12it/s]"
     ]
    },
    {
     "name": "stdout",
     "output_type": "stream",
     "text": [
      "Episode 87/500, score: 1\n",
      "Episode 88/500, score: 1\n"
     ]
    },
    {
     "name": "stderr",
     "output_type": "stream",
     "text": [
      " 18%|█▊        | 90/500 [00:13<01:00,  6.81it/s]"
     ]
    },
    {
     "name": "stdout",
     "output_type": "stream",
     "text": [
      "Episode 89/500, score: 1\n",
      "Episode 90/500, score: 0.5\n"
     ]
    },
    {
     "name": "stderr",
     "output_type": "stream",
     "text": [
      " 18%|█▊        | 92/500 [00:14<01:02,  6.56it/s]"
     ]
    },
    {
     "name": "stdout",
     "output_type": "stream",
     "text": [
      "Episode 91/500, score: 0.5\n",
      "Episode 92/500, score: 1\n"
     ]
    },
    {
     "name": "stderr",
     "output_type": "stream",
     "text": [
      " 19%|█▉        | 94/500 [00:14<01:00,  6.74it/s]"
     ]
    },
    {
     "name": "stdout",
     "output_type": "stream",
     "text": [
      "Episode 93/500, score: -1\n",
      "Episode 94/500, score: 1\n"
     ]
    },
    {
     "name": "stderr",
     "output_type": "stream",
     "text": [
      " 19%|█▉        | 95/500 [00:14<00:59,  6.84it/s]"
     ]
    },
    {
     "name": "stdout",
     "output_type": "stream",
     "text": [
      "Episode 95/500, score: 1\n",
      "Episode 96/500, score: -1\n"
     ]
    },
    {
     "name": "stderr",
     "output_type": "stream",
     "text": [
      " 20%|█▉        | 98/500 [00:14<00:57,  7.03it/s]"
     ]
    },
    {
     "name": "stdout",
     "output_type": "stream",
     "text": [
      "Episode 97/500, score: 1\n",
      "Episode 98/500, score: 0.5\n"
     ]
    },
    {
     "name": "stderr",
     "output_type": "stream",
     "text": [
      " 20%|██        | 100/500 [00:15<01:00,  6.65it/s]"
     ]
    },
    {
     "name": "stdout",
     "output_type": "stream",
     "text": [
      "Episode 99/500, score: 0.5\n",
      "Episode 100/500, score: 1\n"
     ]
    },
    {
     "name": "stderr",
     "output_type": "stream",
     "text": [
      " 20%|██        | 102/500 [00:15<01:01,  6.46it/s]"
     ]
    },
    {
     "name": "stdout",
     "output_type": "stream",
     "text": [
      "Episode 101/500, score: 1\n",
      "Episode 102/500, score: 0.5\n"
     ]
    },
    {
     "name": "stderr",
     "output_type": "stream",
     "text": [
      " 21%|██        | 104/500 [00:15<01:01,  6.46it/s]"
     ]
    },
    {
     "name": "stdout",
     "output_type": "stream",
     "text": [
      "Episode 103/500, score: 1\n",
      "Episode 104/500, score: 1\n"
     ]
    },
    {
     "name": "stderr",
     "output_type": "stream",
     "text": [
      " 21%|██        | 106/500 [00:16<01:01,  6.39it/s]"
     ]
    },
    {
     "name": "stdout",
     "output_type": "stream",
     "text": [
      "Episode 105/500, score: 0.5\n",
      "Episode 106/500, score: 0.5\n"
     ]
    },
    {
     "name": "stderr",
     "output_type": "stream",
     "text": [
      " 22%|██▏       | 108/500 [00:16<01:01,  6.35it/s]"
     ]
    },
    {
     "name": "stdout",
     "output_type": "stream",
     "text": [
      "Episode 107/500, score: 0.5\n",
      "Episode 108/500, score: 1\n"
     ]
    },
    {
     "name": "stderr",
     "output_type": "stream",
     "text": [
      " 22%|██▏       | 110/500 [00:16<01:02,  6.20it/s]"
     ]
    },
    {
     "name": "stdout",
     "output_type": "stream",
     "text": [
      "Episode 109/500, score: 1\n",
      "Episode 110/500, score: 0.5\n"
     ]
    },
    {
     "name": "stderr",
     "output_type": "stream",
     "text": [
      " 22%|██▏       | 112/500 [00:17<01:01,  6.29it/s]"
     ]
    },
    {
     "name": "stdout",
     "output_type": "stream",
     "text": [
      "Episode 111/500, score: 1\n",
      "Episode 112/500, score: 1\n"
     ]
    },
    {
     "name": "stderr",
     "output_type": "stream",
     "text": [
      " 23%|██▎       | 114/500 [00:17<00:58,  6.63it/s]"
     ]
    },
    {
     "name": "stdout",
     "output_type": "stream",
     "text": [
      "Episode 113/500, score: 0.5\n",
      "Episode 114/500, score: -1\n"
     ]
    },
    {
     "name": "stderr",
     "output_type": "stream",
     "text": [
      " 23%|██▎       | 116/500 [00:17<01:00,  6.34it/s]"
     ]
    },
    {
     "name": "stdout",
     "output_type": "stream",
     "text": [
      "Episode 115/500, score: 1\n",
      "Episode 116/500, score: 1\n"
     ]
    },
    {
     "name": "stderr",
     "output_type": "stream",
     "text": [
      " 24%|██▎       | 118/500 [00:18<01:00,  6.31it/s]"
     ]
    },
    {
     "name": "stdout",
     "output_type": "stream",
     "text": [
      "Episode 117/500, score: 1\n",
      "Episode 118/500, score: 1\n"
     ]
    },
    {
     "name": "stderr",
     "output_type": "stream",
     "text": [
      " 24%|██▍       | 120/500 [00:18<00:57,  6.62it/s]"
     ]
    },
    {
     "name": "stdout",
     "output_type": "stream",
     "text": [
      "Episode 119/500, score: -1\n",
      "Episode 120/500, score: 1\n"
     ]
    },
    {
     "name": "stderr",
     "output_type": "stream",
     "text": [
      " 24%|██▍       | 122/500 [00:18<00:59,  6.37it/s]"
     ]
    },
    {
     "name": "stdout",
     "output_type": "stream",
     "text": [
      "Episode 121/500, score: 1\n",
      "Episode 122/500, score: 0.5\n"
     ]
    },
    {
     "name": "stderr",
     "output_type": "stream",
     "text": [
      " 25%|██▍       | 124/500 [00:18<00:59,  6.27it/s]"
     ]
    },
    {
     "name": "stdout",
     "output_type": "stream",
     "text": [
      "Episode 123/500, score: 1\n",
      "Episode 124/500, score: 1\n"
     ]
    },
    {
     "name": "stderr",
     "output_type": "stream",
     "text": [
      " 25%|██▌       | 126/500 [00:19<00:55,  6.79it/s]"
     ]
    },
    {
     "name": "stdout",
     "output_type": "stream",
     "text": [
      "Episode 125/500, score: 1\n",
      "Episode 126/500, score: 1\n"
     ]
    },
    {
     "name": "stderr",
     "output_type": "stream",
     "text": [
      " 26%|██▌       | 128/500 [00:19<00:54,  6.83it/s]"
     ]
    },
    {
     "name": "stdout",
     "output_type": "stream",
     "text": [
      "Episode 127/500, score: 1\n",
      "Episode 128/500, score: 1\n"
     ]
    },
    {
     "name": "stderr",
     "output_type": "stream",
     "text": [
      " 26%|██▌       | 130/500 [00:19<01:00,  6.16it/s]"
     ]
    },
    {
     "name": "stdout",
     "output_type": "stream",
     "text": [
      "Episode 129/500, score: 0.5\n",
      "Episode 130/500, score: 0.5\n"
     ]
    },
    {
     "name": "stderr",
     "output_type": "stream",
     "text": [
      " 26%|██▋       | 132/500 [00:20<00:59,  6.18it/s]"
     ]
    },
    {
     "name": "stdout",
     "output_type": "stream",
     "text": [
      "Episode 131/500, score: 1\n",
      "Episode 132/500, score: 0.5\n"
     ]
    },
    {
     "name": "stderr",
     "output_type": "stream",
     "text": [
      " 27%|██▋       | 134/500 [00:20<00:53,  6.89it/s]"
     ]
    },
    {
     "name": "stdout",
     "output_type": "stream",
     "text": [
      "Episode 133/500, score: -1\n",
      "Episode 134/500, score: -1\n"
     ]
    },
    {
     "name": "stderr",
     "output_type": "stream",
     "text": [
      " 27%|██▋       | 136/500 [00:20<00:56,  6.46it/s]"
     ]
    },
    {
     "name": "stdout",
     "output_type": "stream",
     "text": [
      "Episode 135/500, score: 1\n",
      "Episode 136/500, score: 0.5\n"
     ]
    },
    {
     "name": "stderr",
     "output_type": "stream",
     "text": [
      " 28%|██▊       | 138/500 [00:21<00:57,  6.32it/s]"
     ]
    },
    {
     "name": "stdout",
     "output_type": "stream",
     "text": [
      "Episode 137/500, score: 1\n",
      "Episode 138/500, score: 1\n"
     ]
    },
    {
     "name": "stderr",
     "output_type": "stream",
     "text": [
      " 28%|██▊       | 140/500 [00:21<00:56,  6.33it/s]"
     ]
    },
    {
     "name": "stdout",
     "output_type": "stream",
     "text": [
      "Episode 139/500, score: 0.5\n",
      "Episode 140/500, score: 0.5\n"
     ]
    },
    {
     "name": "stderr",
     "output_type": "stream",
     "text": [
      " 28%|██▊       | 142/500 [00:21<00:59,  6.06it/s]"
     ]
    },
    {
     "name": "stdout",
     "output_type": "stream",
     "text": [
      "Episode 141/500, score: 1\n",
      "Episode 142/500, score: 1\n"
     ]
    },
    {
     "name": "stderr",
     "output_type": "stream",
     "text": [
      " 29%|██▉       | 144/500 [00:22<00:59,  5.97it/s]"
     ]
    },
    {
     "name": "stdout",
     "output_type": "stream",
     "text": [
      "Episode 143/500, score: 1\n",
      "Episode 144/500, score: 0.5\n"
     ]
    },
    {
     "name": "stderr",
     "output_type": "stream",
     "text": [
      " 29%|██▉       | 146/500 [00:22<00:58,  6.06it/s]"
     ]
    },
    {
     "name": "stdout",
     "output_type": "stream",
     "text": [
      "Episode 145/500, score: 1\n",
      "Episode 146/500, score: 0.5\n"
     ]
    },
    {
     "name": "stderr",
     "output_type": "stream",
     "text": [
      " 30%|██▉       | 148/500 [00:22<00:57,  6.08it/s]"
     ]
    },
    {
     "name": "stdout",
     "output_type": "stream",
     "text": [
      "Episode 147/500, score: 1\n",
      "Episode 148/500, score: 1\n"
     ]
    },
    {
     "name": "stderr",
     "output_type": "stream",
     "text": [
      " 30%|███       | 150/500 [00:23<00:57,  6.07it/s]"
     ]
    },
    {
     "name": "stdout",
     "output_type": "stream",
     "text": [
      "Episode 149/500, score: 0.5\n",
      "Episode 150/500, score: 1\n"
     ]
    },
    {
     "name": "stderr",
     "output_type": "stream",
     "text": [
      " 30%|███       | 152/500 [00:23<00:57,  6.00it/s]"
     ]
    },
    {
     "name": "stdout",
     "output_type": "stream",
     "text": [
      "Episode 151/500, score: 1\n",
      "Episode 152/500, score: 0.5\n"
     ]
    },
    {
     "name": "stderr",
     "output_type": "stream",
     "text": [
      " 31%|███       | 154/500 [00:23<00:56,  6.16it/s]"
     ]
    },
    {
     "name": "stdout",
     "output_type": "stream",
     "text": [
      "Episode 153/500, score: 1\n",
      "Episode 154/500, score: 1\n"
     ]
    },
    {
     "name": "stderr",
     "output_type": "stream",
     "text": [
      " 31%|███       | 156/500 [00:24<00:52,  6.60it/s]"
     ]
    },
    {
     "name": "stdout",
     "output_type": "stream",
     "text": [
      "Episode 155/500, score: -1\n",
      "Episode 156/500, score: 0.5\n"
     ]
    },
    {
     "name": "stderr",
     "output_type": "stream",
     "text": [
      " 32%|███▏      | 158/500 [00:24<00:53,  6.39it/s]"
     ]
    },
    {
     "name": "stdout",
     "output_type": "stream",
     "text": [
      "Episode 157/500, score: 1\n",
      "Episode 158/500, score: 0.5\n"
     ]
    },
    {
     "name": "stderr",
     "output_type": "stream",
     "text": [
      " 32%|███▏      | 160/500 [00:24<00:53,  6.37it/s]"
     ]
    },
    {
     "name": "stdout",
     "output_type": "stream",
     "text": [
      "Episode 159/500, score: 0.5\n",
      "Episode 160/500, score: 0.5\n"
     ]
    },
    {
     "name": "stderr",
     "output_type": "stream",
     "text": [
      " 32%|███▏      | 162/500 [00:24<00:49,  6.80it/s]"
     ]
    },
    {
     "name": "stdout",
     "output_type": "stream",
     "text": [
      "Episode 161/500, score: 1\n",
      "Episode 162/500, score: -1\n"
     ]
    },
    {
     "name": "stderr",
     "output_type": "stream",
     "text": [
      " 33%|███▎      | 164/500 [00:25<00:52,  6.45it/s]"
     ]
    },
    {
     "name": "stdout",
     "output_type": "stream",
     "text": [
      "Episode 163/500, score: 1\n",
      "Episode 164/500, score: 1\n"
     ]
    },
    {
     "name": "stderr",
     "output_type": "stream",
     "text": [
      " 33%|███▎      | 166/500 [00:25<00:52,  6.38it/s]"
     ]
    },
    {
     "name": "stdout",
     "output_type": "stream",
     "text": [
      "Episode 165/500, score: 0.5\n",
      "Episode 166/500, score: 0.5\n"
     ]
    },
    {
     "name": "stderr",
     "output_type": "stream",
     "text": [
      " 34%|███▎      | 168/500 [00:25<00:52,  6.29it/s]"
     ]
    },
    {
     "name": "stdout",
     "output_type": "stream",
     "text": [
      "Episode 167/500, score: 1\n",
      "Episode 168/500, score: 1\n"
     ]
    },
    {
     "name": "stderr",
     "output_type": "stream",
     "text": [
      " 34%|███▍      | 170/500 [00:26<00:53,  6.17it/s]"
     ]
    },
    {
     "name": "stdout",
     "output_type": "stream",
     "text": [
      "Episode 169/500, score: 1\n",
      "Episode 170/500, score: 1\n"
     ]
    },
    {
     "name": "stderr",
     "output_type": "stream",
     "text": [
      " 34%|███▍      | 172/500 [00:26<00:49,  6.57it/s]"
     ]
    },
    {
     "name": "stdout",
     "output_type": "stream",
     "text": [
      "Episode 171/500, score: 1\n",
      "Episode 172/500, score: -1\n"
     ]
    },
    {
     "name": "stderr",
     "output_type": "stream",
     "text": [
      " 35%|███▍      | 174/500 [00:26<00:51,  6.34it/s]"
     ]
    },
    {
     "name": "stdout",
     "output_type": "stream",
     "text": [
      "Episode 173/500, score: 0.5\n",
      "Episode 174/500, score: 0.5\n"
     ]
    },
    {
     "name": "stderr",
     "output_type": "stream",
     "text": [
      " 35%|███▌      | 176/500 [00:27<00:51,  6.32it/s]"
     ]
    },
    {
     "name": "stdout",
     "output_type": "stream",
     "text": [
      "Episode 175/500, score: 1\n",
      "Episode 176/500, score: 0.5\n"
     ]
    },
    {
     "name": "stderr",
     "output_type": "stream",
     "text": [
      " 36%|███▌      | 178/500 [00:27<00:51,  6.23it/s]"
     ]
    },
    {
     "name": "stdout",
     "output_type": "stream",
     "text": [
      "Episode 177/500, score: 0.5\n",
      "Episode 178/500, score: 1\n"
     ]
    },
    {
     "name": "stderr",
     "output_type": "stream",
     "text": [
      " 36%|███▌      | 180/500 [00:27<00:51,  6.19it/s]"
     ]
    },
    {
     "name": "stdout",
     "output_type": "stream",
     "text": [
      "Episode 179/500, score: 1\n",
      "Episode 180/500, score: 1\n"
     ]
    },
    {
     "name": "stderr",
     "output_type": "stream",
     "text": [
      " 36%|███▋      | 182/500 [00:28<00:50,  6.25it/s]"
     ]
    },
    {
     "name": "stdout",
     "output_type": "stream",
     "text": [
      "Episode 181/500, score: 1\n",
      "Episode 182/500, score: 0.5\n"
     ]
    },
    {
     "name": "stderr",
     "output_type": "stream",
     "text": [
      " 37%|███▋      | 184/500 [00:28<00:51,  6.18it/s]"
     ]
    },
    {
     "name": "stdout",
     "output_type": "stream",
     "text": [
      "Episode 183/500, score: 1\n",
      "Episode 184/500, score: 1\n"
     ]
    },
    {
     "name": "stderr",
     "output_type": "stream",
     "text": [
      " 37%|███▋      | 186/500 [00:28<00:51,  6.13it/s]"
     ]
    },
    {
     "name": "stdout",
     "output_type": "stream",
     "text": [
      "Episode 185/500, score: 0.5\n",
      "Episode 186/500, score: 1\n"
     ]
    },
    {
     "name": "stderr",
     "output_type": "stream",
     "text": [
      " 38%|███▊      | 188/500 [00:29<00:50,  6.23it/s]"
     ]
    },
    {
     "name": "stdout",
     "output_type": "stream",
     "text": [
      "Episode 187/500, score: 1\n",
      "Episode 188/500, score: 1\n"
     ]
    },
    {
     "name": "stderr",
     "output_type": "stream",
     "text": [
      " 38%|███▊      | 190/500 [00:29<00:44,  6.98it/s]"
     ]
    },
    {
     "name": "stdout",
     "output_type": "stream",
     "text": [
      "Episode 189/500, score: -1\n",
      "Episode 190/500, score: -1\n"
     ]
    },
    {
     "name": "stderr",
     "output_type": "stream",
     "text": [
      " 38%|███▊      | 192/500 [00:29<00:46,  6.57it/s]"
     ]
    },
    {
     "name": "stdout",
     "output_type": "stream",
     "text": [
      "Episode 191/500, score: 1\n",
      "Episode 192/500, score: 1\n"
     ]
    },
    {
     "name": "stderr",
     "output_type": "stream",
     "text": [
      " 39%|███▉      | 194/500 [00:30<00:44,  6.81it/s]"
     ]
    },
    {
     "name": "stdout",
     "output_type": "stream",
     "text": [
      "Episode 193/500, score: 1\n",
      "Episode 194/500, score: -1\n"
     ]
    },
    {
     "name": "stderr",
     "output_type": "stream",
     "text": [
      " 39%|███▉      | 196/500 [00:30<00:46,  6.58it/s]"
     ]
    },
    {
     "name": "stdout",
     "output_type": "stream",
     "text": [
      "Episode 195/500, score: 1\n",
      "Episode 196/500, score: 1\n"
     ]
    },
    {
     "name": "stderr",
     "output_type": "stream",
     "text": [
      " 40%|███▉      | 198/500 [00:30<00:47,  6.41it/s]"
     ]
    },
    {
     "name": "stdout",
     "output_type": "stream",
     "text": [
      "Episode 197/500, score: 1\n",
      "Episode 198/500, score: 0.5\n"
     ]
    },
    {
     "name": "stderr",
     "output_type": "stream",
     "text": [
      " 40%|████      | 200/500 [00:30<00:48,  6.14it/s]"
     ]
    },
    {
     "name": "stdout",
     "output_type": "stream",
     "text": [
      "Episode 199/500, score: 1\n",
      "Episode 200/500, score: 1\n"
     ]
    },
    {
     "name": "stderr",
     "output_type": "stream",
     "text": [
      " 40%|████      | 202/500 [00:31<00:47,  6.27it/s]"
     ]
    },
    {
     "name": "stdout",
     "output_type": "stream",
     "text": [
      "Episode 201/500, score: 1\n",
      "Episode 202/500, score: 1\n"
     ]
    },
    {
     "name": "stderr",
     "output_type": "stream",
     "text": [
      " 41%|████      | 204/500 [00:31<00:45,  6.58it/s]"
     ]
    },
    {
     "name": "stdout",
     "output_type": "stream",
     "text": [
      "Episode 203/500, score: -1\n",
      "Episode 204/500, score: 1\n"
     ]
    },
    {
     "name": "stderr",
     "output_type": "stream",
     "text": [
      " 41%|████      | 206/500 [00:31<00:40,  7.21it/s]"
     ]
    },
    {
     "name": "stdout",
     "output_type": "stream",
     "text": [
      "Episode 205/500, score: -1\n",
      "Episode 206/500, score: -1\n"
     ]
    },
    {
     "name": "stderr",
     "output_type": "stream",
     "text": [
      " 42%|████▏     | 208/500 [00:32<00:42,  6.95it/s]"
     ]
    },
    {
     "name": "stdout",
     "output_type": "stream",
     "text": [
      "Episode 207/500, score: 1\n",
      "Episode 208/500, score: 1\n"
     ]
    },
    {
     "name": "stderr",
     "output_type": "stream",
     "text": [
      " 42%|████▏     | 210/500 [00:32<00:43,  6.61it/s]"
     ]
    },
    {
     "name": "stdout",
     "output_type": "stream",
     "text": [
      "Episode 209/500, score: 1\n",
      "Episode 210/500, score: 1\n"
     ]
    },
    {
     "name": "stderr",
     "output_type": "stream",
     "text": [
      " 42%|████▏     | 212/500 [00:32<00:44,  6.53it/s]"
     ]
    },
    {
     "name": "stdout",
     "output_type": "stream",
     "text": [
      "Episode 211/500, score: 0.5\n",
      "Episode 212/500, score: 1\n"
     ]
    },
    {
     "name": "stderr",
     "output_type": "stream",
     "text": [
      " 43%|████▎     | 214/500 [00:33<00:44,  6.36it/s]"
     ]
    },
    {
     "name": "stdout",
     "output_type": "stream",
     "text": [
      "Episode 213/500, score: 0.5\n",
      "Episode 214/500, score: 0.5\n"
     ]
    },
    {
     "name": "stderr",
     "output_type": "stream",
     "text": [
      " 43%|████▎     | 216/500 [00:33<00:44,  6.34it/s]"
     ]
    },
    {
     "name": "stdout",
     "output_type": "stream",
     "text": [
      "Episode 215/500, score: 1\n",
      "Episode 216/500, score: 1\n"
     ]
    },
    {
     "name": "stderr",
     "output_type": "stream",
     "text": [
      " 44%|████▎     | 218/500 [00:33<00:41,  6.73it/s]"
     ]
    },
    {
     "name": "stdout",
     "output_type": "stream",
     "text": [
      "Episode 217/500, score: 1\n",
      "Episode 218/500, score: 1\n"
     ]
    },
    {
     "name": "stderr",
     "output_type": "stream",
     "text": [
      " 44%|████▍     | 220/500 [00:33<00:40,  6.95it/s]"
     ]
    },
    {
     "name": "stdout",
     "output_type": "stream",
     "text": [
      "Episode 219/500, score: 0.5\n",
      "Episode 220/500, score: -1\n"
     ]
    },
    {
     "name": "stderr",
     "output_type": "stream",
     "text": [
      " 44%|████▍     | 222/500 [00:34<00:42,  6.58it/s]"
     ]
    },
    {
     "name": "stdout",
     "output_type": "stream",
     "text": [
      "Episode 221/500, score: 1\n",
      "Episode 222/500, score: 0.5\n"
     ]
    },
    {
     "name": "stderr",
     "output_type": "stream",
     "text": [
      " 45%|████▍     | 224/500 [00:34<00:38,  7.11it/s]"
     ]
    },
    {
     "name": "stdout",
     "output_type": "stream",
     "text": [
      "Episode 223/500, score: -1\n",
      "Episode 224/500, score: 0.5\n"
     ]
    },
    {
     "name": "stderr",
     "output_type": "stream",
     "text": [
      " 45%|████▌     | 225/500 [00:34<00:40,  6.87it/s]"
     ]
    },
    {
     "name": "stdout",
     "output_type": "stream",
     "text": [
      "Episode 225/500, score: 1\n",
      "Episode 226/500, score: -1\n"
     ]
    },
    {
     "name": "stderr",
     "output_type": "stream",
     "text": [
      " 46%|████▌     | 228/500 [00:35<00:38,  7.05it/s]"
     ]
    },
    {
     "name": "stdout",
     "output_type": "stream",
     "text": [
      "Episode 227/500, score: 1\n",
      "Episode 228/500, score: 1\n"
     ]
    },
    {
     "name": "stderr",
     "output_type": "stream",
     "text": [
      " 46%|████▌     | 230/500 [00:35<00:41,  6.51it/s]"
     ]
    },
    {
     "name": "stdout",
     "output_type": "stream",
     "text": [
      "Episode 229/500, score: 0.5\n",
      "Episode 230/500, score: 1\n"
     ]
    },
    {
     "name": "stderr",
     "output_type": "stream",
     "text": [
      " 46%|████▋     | 232/500 [00:35<00:42,  6.26it/s]"
     ]
    },
    {
     "name": "stdout",
     "output_type": "stream",
     "text": [
      "Episode 231/500, score: 1\n",
      "Episode 232/500, score: 1\n"
     ]
    },
    {
     "name": "stderr",
     "output_type": "stream",
     "text": [
      " 47%|████▋     | 234/500 [00:36<00:42,  6.31it/s]"
     ]
    },
    {
     "name": "stdout",
     "output_type": "stream",
     "text": [
      "Episode 233/500, score: 1\n",
      "Episode 234/500, score: 1\n"
     ]
    },
    {
     "name": "stderr",
     "output_type": "stream",
     "text": [
      " 47%|████▋     | 236/500 [00:36<00:41,  6.37it/s]"
     ]
    },
    {
     "name": "stdout",
     "output_type": "stream",
     "text": [
      "Episode 235/500, score: 1\n",
      "Episode 236/500, score: 1\n"
     ]
    },
    {
     "name": "stderr",
     "output_type": "stream",
     "text": [
      " 48%|████▊     | 238/500 [00:36<00:41,  6.28it/s]"
     ]
    },
    {
     "name": "stdout",
     "output_type": "stream",
     "text": [
      "Episode 237/500, score: 0.5\n",
      "Episode 238/500, score: 1\n"
     ]
    },
    {
     "name": "stderr",
     "output_type": "stream",
     "text": [
      " 48%|████▊     | 240/500 [00:37<00:39,  6.56it/s]"
     ]
    },
    {
     "name": "stdout",
     "output_type": "stream",
     "text": [
      "Episode 239/500, score: -1\n",
      "Episode 240/500, score: 0.5\n"
     ]
    },
    {
     "name": "stderr",
     "output_type": "stream",
     "text": [
      " 48%|████▊     | 242/500 [00:37<00:37,  6.91it/s]"
     ]
    },
    {
     "name": "stdout",
     "output_type": "stream",
     "text": [
      "Episode 241/500, score: 0.5\n",
      "Episode 242/500, score: -1\n"
     ]
    },
    {
     "name": "stderr",
     "output_type": "stream",
     "text": [
      " 49%|████▉     | 244/500 [00:37<00:39,  6.53it/s]"
     ]
    },
    {
     "name": "stdout",
     "output_type": "stream",
     "text": [
      "Episode 243/500, score: 0.5\n",
      "Episode 244/500, score: 0.5\n"
     ]
    },
    {
     "name": "stderr",
     "output_type": "stream",
     "text": [
      " 49%|████▉     | 246/500 [00:37<00:37,  6.73it/s]"
     ]
    },
    {
     "name": "stdout",
     "output_type": "stream",
     "text": [
      "Episode 245/500, score: 1\n",
      "Episode 246/500, score: 1\n"
     ]
    },
    {
     "name": "stderr",
     "output_type": "stream",
     "text": [
      " 50%|████▉     | 248/500 [00:38<00:39,  6.43it/s]"
     ]
    },
    {
     "name": "stdout",
     "output_type": "stream",
     "text": [
      "Episode 247/500, score: 1\n",
      "Episode 248/500, score: 0.5\n"
     ]
    },
    {
     "name": "stderr",
     "output_type": "stream",
     "text": [
      " 50%|█████     | 250/500 [00:38<00:38,  6.43it/s]"
     ]
    },
    {
     "name": "stdout",
     "output_type": "stream",
     "text": [
      "Episode 249/500, score: 1\n",
      "Episode 250/500, score: 1\n"
     ]
    },
    {
     "name": "stderr",
     "output_type": "stream",
     "text": [
      " 50%|█████     | 252/500 [00:38<00:38,  6.37it/s]"
     ]
    },
    {
     "name": "stdout",
     "output_type": "stream",
     "text": [
      "Episode 251/500, score: 0.5\n",
      "Episode 252/500, score: 0.5\n"
     ]
    },
    {
     "name": "stderr",
     "output_type": "stream",
     "text": [
      " 51%|█████     | 254/500 [00:39<00:46,  5.30it/s]"
     ]
    },
    {
     "name": "stdout",
     "output_type": "stream",
     "text": [
      "Episode 253/500, score: 0.5\n",
      "Episode 254/500, score: 1\n"
     ]
    },
    {
     "name": "stderr",
     "output_type": "stream",
     "text": [
      " 51%|█████     | 256/500 [00:39<00:42,  5.80it/s]"
     ]
    },
    {
     "name": "stdout",
     "output_type": "stream",
     "text": [
      "Episode 255/500, score: 1\n",
      "Episode 256/500, score: 0.5\n"
     ]
    },
    {
     "name": "stderr",
     "output_type": "stream",
     "text": [
      " 52%|█████▏    | 258/500 [00:39<00:38,  6.23it/s]"
     ]
    },
    {
     "name": "stdout",
     "output_type": "stream",
     "text": [
      "Episode 257/500, score: -1\n",
      "Episode 258/500, score: 1\n"
     ]
    },
    {
     "name": "stderr",
     "output_type": "stream",
     "text": [
      " 52%|█████▏    | 260/500 [00:40<00:38,  6.19it/s]"
     ]
    },
    {
     "name": "stdout",
     "output_type": "stream",
     "text": [
      "Episode 259/500, score: 1\n",
      "Episode 260/500, score: 0.5\n"
     ]
    },
    {
     "name": "stderr",
     "output_type": "stream",
     "text": [
      " 52%|█████▏    | 262/500 [00:40<00:37,  6.28it/s]"
     ]
    },
    {
     "name": "stdout",
     "output_type": "stream",
     "text": [
      "Episode 261/500, score: 1\n",
      "Episode 262/500, score: 0.5\n"
     ]
    },
    {
     "name": "stderr",
     "output_type": "stream",
     "text": [
      " 53%|█████▎    | 264/500 [00:40<00:38,  6.06it/s]"
     ]
    },
    {
     "name": "stdout",
     "output_type": "stream",
     "text": [
      "Episode 263/500, score: 0.5\n",
      "Episode 264/500, score: 1\n"
     ]
    },
    {
     "name": "stderr",
     "output_type": "stream",
     "text": [
      " 53%|█████▎    | 266/500 [00:41<00:38,  6.05it/s]"
     ]
    },
    {
     "name": "stdout",
     "output_type": "stream",
     "text": [
      "Episode 265/500, score: 1\n",
      "Episode 266/500, score: 0.5\n"
     ]
    },
    {
     "name": "stderr",
     "output_type": "stream",
     "text": [
      " 54%|█████▎    | 268/500 [00:41<00:37,  6.20it/s]"
     ]
    },
    {
     "name": "stdout",
     "output_type": "stream",
     "text": [
      "Episode 267/500, score: 1\n",
      "Episode 268/500, score: 1\n"
     ]
    },
    {
     "name": "stderr",
     "output_type": "stream",
     "text": [
      " 54%|█████▍    | 270/500 [00:41<00:36,  6.24it/s]"
     ]
    },
    {
     "name": "stdout",
     "output_type": "stream",
     "text": [
      "Episode 269/500, score: 1\n",
      "Episode 270/500, score: 0.5\n"
     ]
    },
    {
     "name": "stderr",
     "output_type": "stream",
     "text": [
      " 54%|█████▍    | 272/500 [00:42<00:36,  6.18it/s]"
     ]
    },
    {
     "name": "stdout",
     "output_type": "stream",
     "text": [
      "Episode 271/500, score: 1\n",
      "Episode 272/500, score: 0.5\n"
     ]
    },
    {
     "name": "stderr",
     "output_type": "stream",
     "text": [
      " 55%|█████▍    | 274/500 [00:42<00:33,  6.83it/s]"
     ]
    },
    {
     "name": "stdout",
     "output_type": "stream",
     "text": [
      "Episode 273/500, score: -1\n",
      "Episode 274/500, score: 0.5\n"
     ]
    },
    {
     "name": "stderr",
     "output_type": "stream",
     "text": [
      " 55%|█████▌    | 276/500 [00:42<00:32,  6.89it/s]"
     ]
    },
    {
     "name": "stdout",
     "output_type": "stream",
     "text": [
      "Episode 275/500, score: -1\n",
      "Episode 276/500, score: 1\n"
     ]
    },
    {
     "name": "stderr",
     "output_type": "stream",
     "text": [
      " 56%|█████▌    | 278/500 [00:43<00:33,  6.64it/s]"
     ]
    },
    {
     "name": "stdout",
     "output_type": "stream",
     "text": [
      "Episode 277/500, score: 1\n",
      "Episode 278/500, score: 1\n"
     ]
    },
    {
     "name": "stderr",
     "output_type": "stream",
     "text": [
      " 56%|█████▌    | 280/500 [00:43<00:32,  6.67it/s]"
     ]
    },
    {
     "name": "stdout",
     "output_type": "stream",
     "text": [
      "Episode 279/500, score: -1\n",
      "Episode 280/500, score: 1\n"
     ]
    },
    {
     "name": "stderr",
     "output_type": "stream",
     "text": [
      " 56%|█████▋    | 282/500 [00:43<00:32,  6.77it/s]"
     ]
    },
    {
     "name": "stdout",
     "output_type": "stream",
     "text": [
      "Episode 281/500, score: -1\n",
      "Episode 282/500, score: 1\n"
     ]
    },
    {
     "name": "stderr",
     "output_type": "stream",
     "text": [
      " 57%|█████▋    | 283/500 [00:43<00:32,  6.68it/s]"
     ]
    },
    {
     "name": "stdout",
     "output_type": "stream",
     "text": [
      "Episode 283/500, score: 1\n",
      "Episode 284/500, score: -1\n"
     ]
    },
    {
     "name": "stderr",
     "output_type": "stream",
     "text": [
      " 57%|█████▋    | 286/500 [00:44<00:30,  6.93it/s]"
     ]
    },
    {
     "name": "stdout",
     "output_type": "stream",
     "text": [
      "Episode 285/500, score: 1\n",
      "Episode 286/500, score: 0.5\n"
     ]
    },
    {
     "name": "stderr",
     "output_type": "stream",
     "text": [
      " 58%|█████▊    | 288/500 [00:44<00:32,  6.44it/s]"
     ]
    },
    {
     "name": "stdout",
     "output_type": "stream",
     "text": [
      "Episode 287/500, score: 1\n",
      "Episode 288/500, score: 0.5\n"
     ]
    },
    {
     "name": "stderr",
     "output_type": "stream",
     "text": [
      " 58%|█████▊    | 290/500 [00:44<00:33,  6.31it/s]"
     ]
    },
    {
     "name": "stdout",
     "output_type": "stream",
     "text": [
      "Episode 289/500, score: 1\n",
      "Episode 290/500, score: 1\n"
     ]
    },
    {
     "name": "stderr",
     "output_type": "stream",
     "text": [
      " 58%|█████▊    | 292/500 [00:45<00:31,  6.69it/s]"
     ]
    },
    {
     "name": "stdout",
     "output_type": "stream",
     "text": [
      "Episode 291/500, score: 0.5\n",
      "Episode 292/500, score: -1\n"
     ]
    },
    {
     "name": "stderr",
     "output_type": "stream",
     "text": [
      " 59%|█████▉    | 294/500 [00:45<00:33,  6.18it/s]"
     ]
    },
    {
     "name": "stdout",
     "output_type": "stream",
     "text": [
      "Episode 293/500, score: 1\n",
      "Episode 294/500, score: 1\n"
     ]
    },
    {
     "name": "stderr",
     "output_type": "stream",
     "text": [
      " 59%|█████▉    | 296/500 [00:45<00:32,  6.24it/s]"
     ]
    },
    {
     "name": "stdout",
     "output_type": "stream",
     "text": [
      "Episode 295/500, score: 0.5\n",
      "Episode 296/500, score: 1\n"
     ]
    },
    {
     "name": "stderr",
     "output_type": "stream",
     "text": [
      " 60%|█████▉    | 298/500 [00:46<00:31,  6.39it/s]"
     ]
    },
    {
     "name": "stdout",
     "output_type": "stream",
     "text": [
      "Episode 297/500, score: 0.5\n",
      "Episode 298/500, score: 0.5\n"
     ]
    },
    {
     "name": "stderr",
     "output_type": "stream",
     "text": [
      " 60%|██████    | 300/500 [00:46<00:32,  6.22it/s]"
     ]
    },
    {
     "name": "stdout",
     "output_type": "stream",
     "text": [
      "Episode 299/500, score: 1\n",
      "Episode 300/500, score: 0.5\n"
     ]
    },
    {
     "name": "stderr",
     "output_type": "stream",
     "text": [
      " 60%|██████    | 302/500 [00:46<00:30,  6.53it/s]"
     ]
    },
    {
     "name": "stdout",
     "output_type": "stream",
     "text": [
      "Episode 301/500, score: 0.5\n",
      "Episode 302/500, score: -1\n"
     ]
    },
    {
     "name": "stderr",
     "output_type": "stream",
     "text": [
      " 61%|██████    | 304/500 [00:47<00:30,  6.42it/s]"
     ]
    },
    {
     "name": "stdout",
     "output_type": "stream",
     "text": [
      "Episode 303/500, score: 1\n",
      "Episode 304/500, score: 1\n"
     ]
    },
    {
     "name": "stderr",
     "output_type": "stream",
     "text": [
      " 61%|██████    | 306/500 [00:47<00:28,  6.72it/s]"
     ]
    },
    {
     "name": "stdout",
     "output_type": "stream",
     "text": [
      "Episode 305/500, score: 0.5\n",
      "Episode 306/500, score: -1\n"
     ]
    },
    {
     "name": "stderr",
     "output_type": "stream",
     "text": [
      " 62%|██████▏   | 308/500 [00:47<00:27,  6.90it/s]"
     ]
    },
    {
     "name": "stdout",
     "output_type": "stream",
     "text": [
      "Episode 307/500, score: 1\n",
      "Episode 308/500, score: 1\n"
     ]
    },
    {
     "name": "stderr",
     "output_type": "stream",
     "text": [
      " 62%|██████▏   | 310/500 [00:47<00:27,  6.91it/s]"
     ]
    },
    {
     "name": "stdout",
     "output_type": "stream",
     "text": [
      "Episode 309/500, score: -1\n",
      "Episode 310/500, score: 1\n"
     ]
    },
    {
     "name": "stderr",
     "output_type": "stream",
     "text": [
      " 62%|██████▏   | 312/500 [00:48<00:27,  6.90it/s]"
     ]
    },
    {
     "name": "stdout",
     "output_type": "stream",
     "text": [
      "Episode 311/500, score: -1\n",
      "Episode 312/500, score: 1\n"
     ]
    },
    {
     "name": "stderr",
     "output_type": "stream",
     "text": [
      " 63%|██████▎   | 314/500 [00:48<00:26,  6.96it/s]"
     ]
    },
    {
     "name": "stdout",
     "output_type": "stream",
     "text": [
      "Episode 313/500, score: -1\n",
      "Episode 314/500, score: 1\n"
     ]
    },
    {
     "name": "stderr",
     "output_type": "stream",
     "text": [
      " 63%|██████▎   | 316/500 [00:48<00:27,  6.61it/s]"
     ]
    },
    {
     "name": "stdout",
     "output_type": "stream",
     "text": [
      "Episode 315/500, score: 0.5\n",
      "Episode 316/500, score: 0.5\n"
     ]
    },
    {
     "name": "stderr",
     "output_type": "stream",
     "text": [
      " 64%|██████▎   | 318/500 [00:49<00:27,  6.55it/s]"
     ]
    },
    {
     "name": "stdout",
     "output_type": "stream",
     "text": [
      "Episode 317/500, score: -1\n",
      "Episode 318/500, score: 1\n"
     ]
    },
    {
     "name": "stderr",
     "output_type": "stream",
     "text": [
      " 64%|██████▍   | 320/500 [00:49<00:27,  6.47it/s]"
     ]
    },
    {
     "name": "stdout",
     "output_type": "stream",
     "text": [
      "Episode 319/500, score: 0.5\n",
      "Episode 320/500, score: 0.5\n"
     ]
    },
    {
     "name": "stderr",
     "output_type": "stream",
     "text": [
      " 64%|██████▍   | 322/500 [00:49<00:27,  6.39it/s]"
     ]
    },
    {
     "name": "stdout",
     "output_type": "stream",
     "text": [
      "Episode 321/500, score: 0.5\n",
      "Episode 322/500, score: 1\n"
     ]
    },
    {
     "name": "stderr",
     "output_type": "stream",
     "text": [
      " 65%|██████▍   | 324/500 [00:50<00:27,  6.35it/s]"
     ]
    },
    {
     "name": "stdout",
     "output_type": "stream",
     "text": [
      "Episode 323/500, score: 1\n",
      "Episode 324/500, score: 1\n"
     ]
    },
    {
     "name": "stderr",
     "output_type": "stream",
     "text": [
      " 65%|██████▌   | 326/500 [00:50<00:27,  6.26it/s]"
     ]
    },
    {
     "name": "stdout",
     "output_type": "stream",
     "text": [
      "Episode 325/500, score: 0.5\n",
      "Episode 326/500, score: 1\n"
     ]
    },
    {
     "name": "stderr",
     "output_type": "stream",
     "text": [
      " 66%|██████▌   | 328/500 [00:50<00:27,  6.31it/s]"
     ]
    },
    {
     "name": "stdout",
     "output_type": "stream",
     "text": [
      "Episode 327/500, score: 1\n",
      "Episode 328/500, score: 0.5\n"
     ]
    },
    {
     "name": "stderr",
     "output_type": "stream",
     "text": [
      " 66%|██████▌   | 330/500 [00:51<00:27,  6.12it/s]"
     ]
    },
    {
     "name": "stdout",
     "output_type": "stream",
     "text": [
      "Episode 329/500, score: 1\n",
      "Episode 330/500, score: 0.5\n"
     ]
    },
    {
     "name": "stderr",
     "output_type": "stream",
     "text": [
      " 66%|██████▋   | 332/500 [00:51<00:27,  6.08it/s]"
     ]
    },
    {
     "name": "stdout",
     "output_type": "stream",
     "text": [
      "Episode 331/500, score: 1\n",
      "Episode 332/500, score: 0.5\n"
     ]
    },
    {
     "name": "stderr",
     "output_type": "stream",
     "text": [
      " 67%|██████▋   | 334/500 [00:51<00:26,  6.16it/s]"
     ]
    },
    {
     "name": "stdout",
     "output_type": "stream",
     "text": [
      "Episode 333/500, score: 1\n",
      "Episode 334/500, score: 1\n"
     ]
    },
    {
     "name": "stderr",
     "output_type": "stream",
     "text": [
      " 67%|██████▋   | 336/500 [00:52<00:26,  6.09it/s]"
     ]
    },
    {
     "name": "stdout",
     "output_type": "stream",
     "text": [
      "Episode 335/500, score: 1\n",
      "Episode 336/500, score: 1\n"
     ]
    },
    {
     "name": "stderr",
     "output_type": "stream",
     "text": [
      " 68%|██████▊   | 338/500 [00:52<00:26,  6.11it/s]"
     ]
    },
    {
     "name": "stdout",
     "output_type": "stream",
     "text": [
      "Episode 337/500, score: 1\n",
      "Episode 338/500, score: 1\n"
     ]
    },
    {
     "name": "stderr",
     "output_type": "stream",
     "text": [
      " 68%|██████▊   | 340/500 [00:52<00:25,  6.21it/s]"
     ]
    },
    {
     "name": "stdout",
     "output_type": "stream",
     "text": [
      "Episode 339/500, score: 1\n",
      "Episode 340/500, score: 1\n"
     ]
    },
    {
     "name": "stderr",
     "output_type": "stream",
     "text": [
      " 68%|██████▊   | 342/500 [00:52<00:20,  7.69it/s]"
     ]
    },
    {
     "name": "stdout",
     "output_type": "stream",
     "text": [
      "Episode 341/500, score: -1\n",
      "Episode 342/500, score: -1\n"
     ]
    },
    {
     "name": "stderr",
     "output_type": "stream",
     "text": [
      " 69%|██████▊   | 343/500 [00:53<00:21,  7.24it/s]"
     ]
    },
    {
     "name": "stdout",
     "output_type": "stream",
     "text": [
      "Episode 343/500, score: 0.5\n",
      "Episode 344/500, score: -1\n"
     ]
    },
    {
     "name": "stderr",
     "output_type": "stream",
     "text": [
      " 69%|██████▉   | 346/500 [00:53<00:21,  7.09it/s]"
     ]
    },
    {
     "name": "stdout",
     "output_type": "stream",
     "text": [
      "Episode 345/500, score: 0.5\n",
      "Episode 346/500, score: 1\n"
     ]
    },
    {
     "name": "stderr",
     "output_type": "stream",
     "text": [
      " 70%|██████▉   | 348/500 [00:53<00:22,  6.71it/s]"
     ]
    },
    {
     "name": "stdout",
     "output_type": "stream",
     "text": [
      "Episode 347/500, score: 0.5\n",
      "Episode 348/500, score: 1\n"
     ]
    },
    {
     "name": "stderr",
     "output_type": "stream",
     "text": [
      " 70%|███████   | 350/500 [00:54<00:22,  6.55it/s]"
     ]
    },
    {
     "name": "stdout",
     "output_type": "stream",
     "text": [
      "Episode 349/500, score: 0.5\n",
      "Episode 350/500, score: 1\n"
     ]
    },
    {
     "name": "stderr",
     "output_type": "stream",
     "text": [
      " 70%|███████   | 352/500 [00:54<00:23,  6.36it/s]"
     ]
    },
    {
     "name": "stdout",
     "output_type": "stream",
     "text": [
      "Episode 351/500, score: 1\n",
      "Episode 352/500, score: 0.5\n"
     ]
    },
    {
     "name": "stderr",
     "output_type": "stream",
     "text": [
      " 71%|███████   | 354/500 [00:54<00:23,  6.33it/s]"
     ]
    },
    {
     "name": "stdout",
     "output_type": "stream",
     "text": [
      "Episode 353/500, score: 1\n",
      "Episode 354/500, score: 1\n"
     ]
    },
    {
     "name": "stderr",
     "output_type": "stream",
     "text": [
      " 71%|███████   | 356/500 [00:54<00:20,  6.98it/s]"
     ]
    },
    {
     "name": "stdout",
     "output_type": "stream",
     "text": [
      "Episode 355/500, score: 0.5\n",
      "Episode 356/500, score: -1\n"
     ]
    },
    {
     "name": "stderr",
     "output_type": "stream",
     "text": [
      " 72%|███████▏  | 358/500 [00:55<00:21,  6.60it/s]"
     ]
    },
    {
     "name": "stdout",
     "output_type": "stream",
     "text": [
      "Episode 357/500, score: 0.5\n",
      "Episode 358/500, score: 1\n"
     ]
    },
    {
     "name": "stderr",
     "output_type": "stream",
     "text": [
      " 72%|███████▏  | 360/500 [00:55<00:21,  6.43it/s]"
     ]
    },
    {
     "name": "stdout",
     "output_type": "stream",
     "text": [
      "Episode 359/500, score: 1\n",
      "Episode 360/500, score: 1\n"
     ]
    },
    {
     "name": "stderr",
     "output_type": "stream",
     "text": [
      " 72%|███████▏  | 362/500 [00:55<00:22,  6.16it/s]"
     ]
    },
    {
     "name": "stdout",
     "output_type": "stream",
     "text": [
      "Episode 361/500, score: 1\n",
      "Episode 362/500, score: 1\n"
     ]
    },
    {
     "name": "stderr",
     "output_type": "stream",
     "text": [
      " 73%|███████▎  | 363/500 [00:56<00:22,  6.16it/s]"
     ]
    },
    {
     "name": "stdout",
     "output_type": "stream",
     "text": [
      "Episode 363/500, score: 1\n",
      "Episode 364/500, score: -1\n"
     ]
    },
    {
     "name": "stderr",
     "output_type": "stream",
     "text": [
      " 73%|███████▎  | 366/500 [00:56<00:19,  6.78it/s]"
     ]
    },
    {
     "name": "stdout",
     "output_type": "stream",
     "text": [
      "Episode 365/500, score: 1\n",
      "Episode 366/500, score: 0.5\n"
     ]
    },
    {
     "name": "stderr",
     "output_type": "stream",
     "text": [
      " 74%|███████▎  | 368/500 [00:56<00:21,  6.27it/s]"
     ]
    },
    {
     "name": "stdout",
     "output_type": "stream",
     "text": [
      "Episode 367/500, score: 1\n",
      "Episode 368/500, score: 1\n"
     ]
    },
    {
     "name": "stderr",
     "output_type": "stream",
     "text": [
      " 74%|███████▍  | 370/500 [00:57<00:20,  6.21it/s]"
     ]
    },
    {
     "name": "stdout",
     "output_type": "stream",
     "text": [
      "Episode 369/500, score: 0.5\n",
      "Episode 370/500, score: 0.5\n"
     ]
    },
    {
     "name": "stderr",
     "output_type": "stream",
     "text": [
      " 74%|███████▍  | 372/500 [00:57<00:19,  6.54it/s]"
     ]
    },
    {
     "name": "stdout",
     "output_type": "stream",
     "text": [
      "Episode 371/500, score: -1\n",
      "Episode 372/500, score: 1\n"
     ]
    },
    {
     "name": "stderr",
     "output_type": "stream",
     "text": [
      " 75%|███████▍  | 374/500 [00:57<00:18,  6.77it/s]"
     ]
    },
    {
     "name": "stdout",
     "output_type": "stream",
     "text": [
      "Episode 373/500, score: -1\n",
      "Episode 374/500, score: 1\n"
     ]
    },
    {
     "name": "stderr",
     "output_type": "stream",
     "text": [
      " 75%|███████▌  | 376/500 [00:58<00:19,  6.32it/s]"
     ]
    },
    {
     "name": "stdout",
     "output_type": "stream",
     "text": [
      "Episode 375/500, score: 1\n",
      "Episode 376/500, score: 1\n"
     ]
    },
    {
     "name": "stderr",
     "output_type": "stream",
     "text": [
      " 76%|███████▌  | 378/500 [00:58<00:19,  6.30it/s]"
     ]
    },
    {
     "name": "stdout",
     "output_type": "stream",
     "text": [
      "Episode 377/500, score: 1\n",
      "Episode 378/500, score: 1\n"
     ]
    },
    {
     "name": "stderr",
     "output_type": "stream",
     "text": [
      " 76%|███████▌  | 380/500 [00:58<00:18,  6.35it/s]"
     ]
    },
    {
     "name": "stdout",
     "output_type": "stream",
     "text": [
      "Episode 379/500, score: 1\n",
      "Episode 380/500, score: 1\n"
     ]
    },
    {
     "name": "stderr",
     "output_type": "stream",
     "text": [
      " 76%|███████▋  | 382/500 [00:59<00:17,  6.59it/s]"
     ]
    },
    {
     "name": "stdout",
     "output_type": "stream",
     "text": [
      "Episode 381/500, score: 0.5\n",
      "Episode 382/500, score: -1\n"
     ]
    },
    {
     "name": "stderr",
     "output_type": "stream",
     "text": [
      " 77%|███████▋  | 384/500 [00:59<00:18,  6.39it/s]"
     ]
    },
    {
     "name": "stdout",
     "output_type": "stream",
     "text": [
      "Episode 383/500, score: 1\n",
      "Episode 384/500, score: 1\n"
     ]
    },
    {
     "name": "stderr",
     "output_type": "stream",
     "text": [
      " 77%|███████▋  | 386/500 [00:59<00:17,  6.65it/s]"
     ]
    },
    {
     "name": "stdout",
     "output_type": "stream",
     "text": [
      "Episode 385/500, score: 1\n",
      "Episode 386/500, score: 0.5\n"
     ]
    },
    {
     "name": "stderr",
     "output_type": "stream",
     "text": [
      " 78%|███████▊  | 388/500 [00:59<00:17,  6.51it/s]"
     ]
    },
    {
     "name": "stdout",
     "output_type": "stream",
     "text": [
      "Episode 387/500, score: 0.5\n",
      "Episode 388/500, score: 1\n"
     ]
    },
    {
     "name": "stderr",
     "output_type": "stream",
     "text": [
      " 78%|███████▊  | 390/500 [01:00<00:16,  6.76it/s]"
     ]
    },
    {
     "name": "stdout",
     "output_type": "stream",
     "text": [
      "Episode 389/500, score: 0.5\n",
      "Episode 390/500, score: 1\n"
     ]
    },
    {
     "name": "stderr",
     "output_type": "stream",
     "text": [
      " 78%|███████▊  | 392/500 [01:00<00:15,  6.80it/s]"
     ]
    },
    {
     "name": "stdout",
     "output_type": "stream",
     "text": [
      "Episode 391/500, score: -1\n",
      "Episode 392/500, score: 1\n"
     ]
    },
    {
     "name": "stderr",
     "output_type": "stream",
     "text": [
      " 79%|███████▉  | 394/500 [01:00<00:16,  6.62it/s]"
     ]
    },
    {
     "name": "stdout",
     "output_type": "stream",
     "text": [
      "Episode 393/500, score: 1\n",
      "Episode 394/500, score: 1\n"
     ]
    },
    {
     "name": "stderr",
     "output_type": "stream",
     "text": [
      " 79%|███████▉  | 395/500 [01:00<00:15,  6.59it/s]"
     ]
    },
    {
     "name": "stdout",
     "output_type": "stream",
     "text": [
      "Episode 395/500, score: 1\n",
      "Episode 396/500, score: -1\n"
     ]
    },
    {
     "name": "stderr",
     "output_type": "stream",
     "text": [
      " 80%|███████▉  | 398/500 [01:01<00:15,  6.40it/s]"
     ]
    },
    {
     "name": "stdout",
     "output_type": "stream",
     "text": [
      "Episode 397/500, score: 1\n",
      "Episode 398/500, score: 1\n"
     ]
    },
    {
     "name": "stderr",
     "output_type": "stream",
     "text": [
      " 80%|████████  | 400/500 [01:01<00:15,  6.33it/s]"
     ]
    },
    {
     "name": "stdout",
     "output_type": "stream",
     "text": [
      "Episode 399/500, score: 1\n",
      "Episode 400/500, score: 0.5\n"
     ]
    },
    {
     "name": "stderr",
     "output_type": "stream",
     "text": [
      " 81%|████████  | 403/500 [01:02<00:12,  7.72it/s]"
     ]
    },
    {
     "name": "stdout",
     "output_type": "stream",
     "text": [
      "Episode 401/500, score: 0.5\n",
      "Episode 402/500, score: -1\n",
      "Episode 403/500, score: -1\n"
     ]
    },
    {
     "name": "stderr",
     "output_type": "stream",
     "text": [
      " 81%|████████  | 405/500 [01:02<00:14,  6.61it/s]"
     ]
    },
    {
     "name": "stdout",
     "output_type": "stream",
     "text": [
      "Episode 404/500, score: 0.5\n",
      "Episode 405/500, score: 1\n"
     ]
    },
    {
     "name": "stderr",
     "output_type": "stream",
     "text": [
      " 81%|████████▏ | 407/500 [01:02<00:13,  6.69it/s]"
     ]
    },
    {
     "name": "stdout",
     "output_type": "stream",
     "text": [
      "Episode 406/500, score: -1\n",
      "Episode 407/500, score: 1\n"
     ]
    },
    {
     "name": "stderr",
     "output_type": "stream",
     "text": [
      " 82%|████████▏ | 409/500 [01:03<00:14,  6.37it/s]"
     ]
    },
    {
     "name": "stdout",
     "output_type": "stream",
     "text": [
      "Episode 408/500, score: 0.5\n",
      "Episode 409/500, score: 1\n"
     ]
    },
    {
     "name": "stderr",
     "output_type": "stream",
     "text": [
      " 82%|████████▏ | 411/500 [01:03<00:13,  6.69it/s]"
     ]
    },
    {
     "name": "stdout",
     "output_type": "stream",
     "text": [
      "Episode 410/500, score: -1\n",
      "Episode 411/500, score: 1\n"
     ]
    },
    {
     "name": "stderr",
     "output_type": "stream",
     "text": [
      " 83%|████████▎ | 413/500 [01:03<00:13,  6.41it/s]"
     ]
    },
    {
     "name": "stdout",
     "output_type": "stream",
     "text": [
      "Episode 412/500, score: 0.5\n",
      "Episode 413/500, score: 1\n"
     ]
    },
    {
     "name": "stderr",
     "output_type": "stream",
     "text": [
      " 83%|████████▎ | 415/500 [01:03<00:13,  6.41it/s]"
     ]
    },
    {
     "name": "stdout",
     "output_type": "stream",
     "text": [
      "Episode 414/500, score: 1\n",
      "Episode 415/500, score: 1\n"
     ]
    },
    {
     "name": "stderr",
     "output_type": "stream",
     "text": [
      " 83%|████████▎ | 417/500 [01:04<00:13,  6.38it/s]"
     ]
    },
    {
     "name": "stdout",
     "output_type": "stream",
     "text": [
      "Episode 416/500, score: 1\n",
      "Episode 417/500, score: 1\n"
     ]
    },
    {
     "name": "stderr",
     "output_type": "stream",
     "text": [
      " 84%|████████▍ | 419/500 [01:04<00:11,  6.95it/s]"
     ]
    },
    {
     "name": "stdout",
     "output_type": "stream",
     "text": [
      "Episode 418/500, score: -1\n",
      "Episode 419/500, score: 1\n"
     ]
    },
    {
     "name": "stderr",
     "output_type": "stream",
     "text": [
      " 84%|████████▍ | 421/500 [01:04<00:12,  6.56it/s]"
     ]
    },
    {
     "name": "stdout",
     "output_type": "stream",
     "text": [
      "Episode 420/500, score: 1\n",
      "Episode 421/500, score: 0.5\n"
     ]
    },
    {
     "name": "stderr",
     "output_type": "stream",
     "text": [
      " 84%|████████▍ | 422/500 [01:05<00:12,  6.48it/s]"
     ]
    },
    {
     "name": "stdout",
     "output_type": "stream",
     "text": [
      "Episode 422/500, score: 1\n",
      "Episode 423/500, score: -1\n"
     ]
    },
    {
     "name": "stderr",
     "output_type": "stream",
     "text": [
      " 85%|████████▌ | 425/500 [01:05<00:10,  7.09it/s]"
     ]
    },
    {
     "name": "stdout",
     "output_type": "stream",
     "text": [
      "Episode 424/500, score: 1\n",
      "Episode 425/500, score: 1\n"
     ]
    },
    {
     "name": "stderr",
     "output_type": "stream",
     "text": [
      " 85%|████████▌ | 427/500 [01:05<00:10,  7.15it/s]"
     ]
    },
    {
     "name": "stdout",
     "output_type": "stream",
     "text": [
      "Episode 426/500, score: -1\n",
      "Episode 427/500, score: 1\n"
     ]
    },
    {
     "name": "stderr",
     "output_type": "stream",
     "text": [
      " 86%|████████▌ | 429/500 [01:06<00:12,  5.73it/s]"
     ]
    },
    {
     "name": "stdout",
     "output_type": "stream",
     "text": [
      "Episode 428/500, score: 1\n",
      "Episode 429/500, score: 1\n"
     ]
    },
    {
     "name": "stderr",
     "output_type": "stream",
     "text": [
      " 86%|████████▌ | 431/500 [01:06<00:11,  5.96it/s]"
     ]
    },
    {
     "name": "stdout",
     "output_type": "stream",
     "text": [
      "Episode 430/500, score: 1\n",
      "Episode 431/500, score: 1\n"
     ]
    },
    {
     "name": "stderr",
     "output_type": "stream",
     "text": [
      " 87%|████████▋ | 433/500 [01:06<00:11,  6.08it/s]"
     ]
    },
    {
     "name": "stdout",
     "output_type": "stream",
     "text": [
      "Episode 432/500, score: 0.5\n",
      "Episode 433/500, score: 1\n"
     ]
    },
    {
     "name": "stderr",
     "output_type": "stream",
     "text": [
      " 87%|████████▋ | 435/500 [01:07<00:10,  6.17it/s]"
     ]
    },
    {
     "name": "stdout",
     "output_type": "stream",
     "text": [
      "Episode 434/500, score: 1\n",
      "Episode 435/500, score: 0.5\n"
     ]
    },
    {
     "name": "stderr",
     "output_type": "stream",
     "text": [
      " 87%|████████▋ | 437/500 [01:07<00:09,  6.60it/s]"
     ]
    },
    {
     "name": "stdout",
     "output_type": "stream",
     "text": [
      "Episode 436/500, score: 1\n",
      "Episode 437/500, score: -1\n"
     ]
    },
    {
     "name": "stderr",
     "output_type": "stream",
     "text": [
      " 88%|████████▊ | 439/500 [01:07<00:08,  7.15it/s]"
     ]
    },
    {
     "name": "stdout",
     "output_type": "stream",
     "text": [
      "Episode 438/500, score: -1\n",
      "Episode 439/500, score: 1\n"
     ]
    },
    {
     "name": "stderr",
     "output_type": "stream",
     "text": [
      " 88%|████████▊ | 441/500 [01:08<00:08,  6.68it/s]"
     ]
    },
    {
     "name": "stdout",
     "output_type": "stream",
     "text": [
      "Episode 440/500, score: 1\n",
      "Episode 441/500, score: 1\n"
     ]
    },
    {
     "name": "stderr",
     "output_type": "stream",
     "text": [
      " 89%|████████▊ | 443/500 [01:08<00:09,  6.26it/s]"
     ]
    },
    {
     "name": "stdout",
     "output_type": "stream",
     "text": [
      "Episode 442/500, score: 1\n",
      "Episode 443/500, score: 1\n"
     ]
    },
    {
     "name": "stderr",
     "output_type": "stream",
     "text": [
      " 89%|████████▉ | 445/500 [01:08<00:08,  6.21it/s]"
     ]
    },
    {
     "name": "stdout",
     "output_type": "stream",
     "text": [
      "Episode 444/500, score: 1\n",
      "Episode 445/500, score: 1\n"
     ]
    },
    {
     "name": "stderr",
     "output_type": "stream",
     "text": [
      " 89%|████████▉ | 447/500 [01:09<00:09,  5.84it/s]"
     ]
    },
    {
     "name": "stdout",
     "output_type": "stream",
     "text": [
      "Episode 446/500, score: 0.5\n",
      "Episode 447/500, score: 0.5\n"
     ]
    },
    {
     "name": "stderr",
     "output_type": "stream",
     "text": [
      " 90%|████████▉ | 449/500 [01:09<00:08,  5.76it/s]"
     ]
    },
    {
     "name": "stdout",
     "output_type": "stream",
     "text": [
      "Episode 448/500, score: 1\n",
      "Episode 449/500, score: 0.5\n"
     ]
    },
    {
     "name": "stderr",
     "output_type": "stream",
     "text": [
      " 90%|█████████ | 451/500 [01:09<00:07,  6.13it/s]"
     ]
    },
    {
     "name": "stdout",
     "output_type": "stream",
     "text": [
      "Episode 450/500, score: 0.5\n",
      "Episode 451/500, score: -1\n"
     ]
    },
    {
     "name": "stderr",
     "output_type": "stream",
     "text": [
      " 91%|█████████ | 453/500 [01:09<00:06,  7.10it/s]"
     ]
    },
    {
     "name": "stdout",
     "output_type": "stream",
     "text": [
      "Episode 452/500, score: -1\n",
      "Episode 453/500, score: -1\n"
     ]
    },
    {
     "name": "stderr",
     "output_type": "stream",
     "text": [
      " 91%|█████████ | 455/500 [01:10<00:07,  6.34it/s]"
     ]
    },
    {
     "name": "stdout",
     "output_type": "stream",
     "text": [
      "Episode 454/500, score: 0.5\n",
      "Episode 455/500, score: 0.5\n"
     ]
    },
    {
     "name": "stderr",
     "output_type": "stream",
     "text": [
      " 91%|█████████▏| 457/500 [01:10<00:07,  5.93it/s]"
     ]
    },
    {
     "name": "stdout",
     "output_type": "stream",
     "text": [
      "Episode 456/500, score: 1\n",
      "Episode 457/500, score: 1\n"
     ]
    },
    {
     "name": "stderr",
     "output_type": "stream",
     "text": [
      " 92%|█████████▏| 459/500 [01:10<00:06,  6.00it/s]"
     ]
    },
    {
     "name": "stdout",
     "output_type": "stream",
     "text": [
      "Episode 458/500, score: 1\n",
      "Episode 459/500, score: 1\n"
     ]
    },
    {
     "name": "stderr",
     "output_type": "stream",
     "text": [
      " 92%|█████████▏| 461/500 [01:11<00:06,  5.97it/s]"
     ]
    },
    {
     "name": "stdout",
     "output_type": "stream",
     "text": [
      "Episode 460/500, score: 1\n",
      "Episode 461/500, score: 1\n"
     ]
    },
    {
     "name": "stderr",
     "output_type": "stream",
     "text": [
      " 93%|█████████▎| 463/500 [01:11<00:05,  6.24it/s]"
     ]
    },
    {
     "name": "stdout",
     "output_type": "stream",
     "text": [
      "Episode 462/500, score: -1\n",
      "Episode 463/500, score: 1\n"
     ]
    },
    {
     "name": "stderr",
     "output_type": "stream",
     "text": [
      " 93%|█████████▎| 465/500 [01:11<00:05,  6.15it/s]"
     ]
    },
    {
     "name": "stdout",
     "output_type": "stream",
     "text": [
      "Episode 464/500, score: 0.5\n",
      "Episode 465/500, score: 0.5\n"
     ]
    },
    {
     "name": "stderr",
     "output_type": "stream",
     "text": [
      " 93%|█████████▎| 467/500 [01:12<00:05,  6.10it/s]"
     ]
    },
    {
     "name": "stdout",
     "output_type": "stream",
     "text": [
      "Episode 466/500, score: 1\n",
      "Episode 467/500, score: 0.5\n"
     ]
    },
    {
     "name": "stderr",
     "output_type": "stream",
     "text": [
      " 94%|█████████▍| 469/500 [01:12<00:05,  6.10it/s]"
     ]
    },
    {
     "name": "stdout",
     "output_type": "stream",
     "text": [
      "Episode 468/500, score: 1\n",
      "Episode 469/500, score: 0.5\n"
     ]
    },
    {
     "name": "stderr",
     "output_type": "stream",
     "text": [
      " 94%|█████████▍| 471/500 [01:12<00:04,  6.21it/s]"
     ]
    },
    {
     "name": "stdout",
     "output_type": "stream",
     "text": [
      "Episode 470/500, score: 1\n",
      "Episode 471/500, score: 1\n"
     ]
    },
    {
     "name": "stderr",
     "output_type": "stream",
     "text": [
      " 95%|█████████▍| 473/500 [01:13<00:04,  6.09it/s]"
     ]
    },
    {
     "name": "stdout",
     "output_type": "stream",
     "text": [
      "Episode 472/500, score: 0.5\n",
      "Episode 473/500, score: 1\n"
     ]
    },
    {
     "name": "stderr",
     "output_type": "stream",
     "text": [
      " 95%|█████████▌| 475/500 [01:13<00:03,  6.79it/s]"
     ]
    },
    {
     "name": "stdout",
     "output_type": "stream",
     "text": [
      "Episode 474/500, score: -1\n",
      "Episode 475/500, score: 1\n"
     ]
    },
    {
     "name": "stderr",
     "output_type": "stream",
     "text": [
      " 95%|█████████▌| 477/500 [01:13<00:03,  6.48it/s]"
     ]
    },
    {
     "name": "stdout",
     "output_type": "stream",
     "text": [
      "Episode 476/500, score: 1\n",
      "Episode 477/500, score: 1\n"
     ]
    },
    {
     "name": "stderr",
     "output_type": "stream",
     "text": [
      " 96%|█████████▌| 479/500 [01:14<00:03,  6.34it/s]"
     ]
    },
    {
     "name": "stdout",
     "output_type": "stream",
     "text": [
      "Episode 478/500, score: 1\n",
      "Episode 479/500, score: 1\n"
     ]
    },
    {
     "name": "stderr",
     "output_type": "stream",
     "text": [
      " 96%|█████████▌| 481/500 [01:14<00:02,  6.38it/s]"
     ]
    },
    {
     "name": "stdout",
     "output_type": "stream",
     "text": [
      "Episode 480/500, score: 1\n",
      "Episode 481/500, score: 1\n"
     ]
    },
    {
     "name": "stderr",
     "output_type": "stream",
     "text": [
      " 97%|█████████▋| 483/500 [01:14<00:02,  6.34it/s]"
     ]
    },
    {
     "name": "stdout",
     "output_type": "stream",
     "text": [
      "Episode 482/500, score: 1\n",
      "Episode 483/500, score: 1\n"
     ]
    },
    {
     "name": "stderr",
     "output_type": "stream",
     "text": [
      " 97%|█████████▋| 485/500 [01:15<00:02,  6.31it/s]"
     ]
    },
    {
     "name": "stdout",
     "output_type": "stream",
     "text": [
      "Episode 484/500, score: 1\n",
      "Episode 485/500, score: 1\n"
     ]
    },
    {
     "name": "stderr",
     "output_type": "stream",
     "text": [
      " 97%|█████████▋| 486/500 [01:15<00:02,  6.24it/s]"
     ]
    },
    {
     "name": "stdout",
     "output_type": "stream",
     "text": [
      "Episode 486/500, score: 0.5\n",
      "Episode 487/500, score: -1\n"
     ]
    },
    {
     "name": "stderr",
     "output_type": "stream",
     "text": [
      " 98%|█████████▊| 489/500 [01:15<00:01,  6.78it/s]"
     ]
    },
    {
     "name": "stdout",
     "output_type": "stream",
     "text": [
      "Episode 488/500, score: 1\n",
      "Episode 489/500, score: 1\n"
     ]
    },
    {
     "name": "stderr",
     "output_type": "stream",
     "text": [
      " 98%|█████████▊| 491/500 [01:16<00:01,  6.53it/s]"
     ]
    },
    {
     "name": "stdout",
     "output_type": "stream",
     "text": [
      "Episode 490/500, score: 1\n",
      "Episode 491/500, score: 1\n"
     ]
    },
    {
     "name": "stderr",
     "output_type": "stream",
     "text": [
      " 99%|█████████▊| 493/500 [01:16<00:01,  6.73it/s]"
     ]
    },
    {
     "name": "stdout",
     "output_type": "stream",
     "text": [
      "Episode 492/500, score: 1\n",
      "Episode 493/500, score: 1\n"
     ]
    },
    {
     "name": "stderr",
     "output_type": "stream",
     "text": [
      " 99%|█████████▉| 495/500 [01:16<00:00,  6.84it/s]"
     ]
    },
    {
     "name": "stdout",
     "output_type": "stream",
     "text": [
      "Episode 494/500, score: -1\n",
      "Episode 495/500, score: 1\n"
     ]
    },
    {
     "name": "stderr",
     "output_type": "stream",
     "text": [
      " 99%|█████████▉| 497/500 [01:16<00:00,  6.66it/s]"
     ]
    },
    {
     "name": "stdout",
     "output_type": "stream",
     "text": [
      "Episode 496/500, score: 0.5\n",
      "Episode 497/500, score: 1\n"
     ]
    },
    {
     "name": "stderr",
     "output_type": "stream",
     "text": [
      "100%|█████████▉| 499/500 [01:17<00:00,  6.42it/s]"
     ]
    },
    {
     "name": "stdout",
     "output_type": "stream",
     "text": [
      "Episode 498/500, score: 1\n",
      "Episode 499/500, score: 1\n"
     ]
    },
    {
     "name": "stderr",
     "output_type": "stream",
     "text": [
      "100%|██████████| 500/500 [01:17<00:00,  6.46it/s]\n"
     ]
    },
    {
     "name": "stdout",
     "output_type": "stream",
     "text": [
      "Episode 500/500, score: 0.5\n",
      "Moyenne des scores sur 500 épisodes: 0.568\n",
      "Win rate: 0.58\n",
      "Loss rate: 0.148\n"
     ]
    },
    {
     "data": {
      "text/plain": "<Figure size 1200x600 with 2 Axes>",
      "image/png": "[encoded data removed]"
     },
     "metadata": {},
     "output_type": "display_data"
    },
    {
     "data": {
      "text/plain": "<Figure size 1600x600 with 1 Axes>",
      "image/png": "[encoded data removed]"
     },
     "metadata": {},
     "output_type": "display_data"
    }
   ],
   "source": [
    "agent.test()"
   ],
   "metadata": {
    "collapsed": false,
    "ExecuteTime": {
     "end_time": "2024-02-15T18:47:00.077378700Z",
     "start_time": "2024-02-15T18:45:42.367796700Z"
    }
   },
   "id": "86df36d883c0ee08",
   "execution_count": 21
  },
  {
   "cell_type": "code",
   "outputs": [],
   "source": [],
   "metadata": {
    "collapsed": false,
    "ExecuteTime": {
     "end_time": "2024-02-15T18:47:00.164634600Z",
     "start_time": "2024-02-15T18:47:00.079386200Z"
    }
   },
   "id": "6c4bb78acfb53a7e",
   "execution_count": 21
  }
 ],
 "metadata": {
  "kernelspec": {
   "display_name": "Python 3",
   "language": "python",
   "name": "python3"
  },
  "language_info": {
   "codemirror_mode": {
    "name": "ipython",
    "version": 2
   },
   "file_extension": ".py",
   "mimetype": "text/x-python",
   "name": "python",
   "nbconvert_exporter": "python",
   "pygments_lexer": "ipython2",
   "version": "2.7.6"
  }
 },
 "nbformat": 4,
 "nbformat_minor": 5
}
